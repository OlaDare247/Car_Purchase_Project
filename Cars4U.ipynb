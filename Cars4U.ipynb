{
 "cells": [
  {
   "cell_type": "code",
   "execution_count": 1,
   "id": "59b6efb8",
   "metadata": {},
   "outputs": [],
   "source": [
    "#Student Name: Olaitan Oluwadare\n",
    "#Course: Machine Learing\n",
    "#Subject: "
   ]
  },
  {
   "cell_type": "code",
   "execution_count": 2,
   "id": "e20da84a",
   "metadata": {},
   "outputs": [],
   "source": [
    "#to perform linear regression\n",
    "#to test, train and validate\n",
    "#to read the csv file. To perform the tasks above we have to import some library as shown below"
   ]
  },
  {
   "cell_type": "code",
   "execution_count": 1,
   "id": "af93a262",
   "metadata": {},
   "outputs": [],
   "source": [
    "import pandas as pd \n",
    "import numpy as np\n",
    "import seaborn as sns\n",
    "import matplotlib.pyplot as plt\n",
    "from sklearn import linear_model\n",
    "from sklearn.tree import DecisionTreeRegressor\n",
    "from sklearn.model_selection import train_test_split\n",
    "from sklearn.preprocessing import StandardScaler, MinMaxScaler\n",
    "from sklearn.linear_model import LinearRegression\n",
    "from sklearn.impute import SimpleImputer\n",
    "\n",
    "import warnings\n",
    "warnings.filterwarnings('ignore')"
   ]
  },
  {
   "cell_type": "code",
   "execution_count": 6,
   "id": "8b83438c",
   "metadata": {},
   "outputs": [],
   "source": [
    "imp = SimpleImputer(missing_values=np.nan, strategy='mean')"
   ]
  },
  {
   "cell_type": "code",
   "execution_count": 7,
   "id": "ab4475cf",
   "metadata": {},
   "outputs": [],
   "source": [
    "from sklearn.metrics import mean_squared_error"
   ]
  },
  {
   "cell_type": "code",
   "execution_count": 8,
   "id": "90d28f1b",
   "metadata": {},
   "outputs": [],
   "source": [
    "from sklearn.metrics import accuracy_score\n",
    "from sklearn.metrics import r2_score"
   ]
  },
  {
   "cell_type": "code",
   "execution_count": 9,
   "id": "a7383aaf",
   "metadata": {},
   "outputs": [
    {
     "ename": "FileNotFoundError",
     "evalue": "[Errno 2] No such file or directory: 'used_cars_data-1.csv'",
     "output_type": "error",
     "traceback": [
      "\u001b[0;31m---------------------------------------------------------------------------\u001b[0m",
      "\u001b[0;31mFileNotFoundError\u001b[0m                         Traceback (most recent call last)",
      "Input \u001b[0;32mIn [9]\u001b[0m, in \u001b[0;36m<cell line: 1>\u001b[0;34m()\u001b[0m\n\u001b[0;32m----> 1\u001b[0m df \u001b[38;5;241m=\u001b[39m \u001b[43mpd\u001b[49m\u001b[38;5;241;43m.\u001b[39;49m\u001b[43mread_csv\u001b[49m\u001b[43m(\u001b[49m\u001b[38;5;124;43m'\u001b[39;49m\u001b[38;5;124;43mused_cars_data-1.csv\u001b[39;49m\u001b[38;5;124;43m'\u001b[39;49m\u001b[43m)\u001b[49m\n",
      "File \u001b[0;32m~/opt/anaconda3/lib/python3.9/site-packages/pandas/util/_decorators.py:311\u001b[0m, in \u001b[0;36mdeprecate_nonkeyword_arguments.<locals>.decorate.<locals>.wrapper\u001b[0;34m(*args, **kwargs)\u001b[0m\n\u001b[1;32m    305\u001b[0m \u001b[38;5;28;01mif\u001b[39;00m \u001b[38;5;28mlen\u001b[39m(args) \u001b[38;5;241m>\u001b[39m num_allow_args:\n\u001b[1;32m    306\u001b[0m     warnings\u001b[38;5;241m.\u001b[39mwarn(\n\u001b[1;32m    307\u001b[0m         msg\u001b[38;5;241m.\u001b[39mformat(arguments\u001b[38;5;241m=\u001b[39marguments),\n\u001b[1;32m    308\u001b[0m         \u001b[38;5;167;01mFutureWarning\u001b[39;00m,\n\u001b[1;32m    309\u001b[0m         stacklevel\u001b[38;5;241m=\u001b[39mstacklevel,\n\u001b[1;32m    310\u001b[0m     )\n\u001b[0;32m--> 311\u001b[0m \u001b[38;5;28;01mreturn\u001b[39;00m \u001b[43mfunc\u001b[49m\u001b[43m(\u001b[49m\u001b[38;5;241;43m*\u001b[39;49m\u001b[43margs\u001b[49m\u001b[43m,\u001b[49m\u001b[43m \u001b[49m\u001b[38;5;241;43m*\u001b[39;49m\u001b[38;5;241;43m*\u001b[39;49m\u001b[43mkwargs\u001b[49m\u001b[43m)\u001b[49m\n",
      "File \u001b[0;32m~/opt/anaconda3/lib/python3.9/site-packages/pandas/io/parsers/readers.py:680\u001b[0m, in \u001b[0;36mread_csv\u001b[0;34m(filepath_or_buffer, sep, delimiter, header, names, index_col, usecols, squeeze, prefix, mangle_dupe_cols, dtype, engine, converters, true_values, false_values, skipinitialspace, skiprows, skipfooter, nrows, na_values, keep_default_na, na_filter, verbose, skip_blank_lines, parse_dates, infer_datetime_format, keep_date_col, date_parser, dayfirst, cache_dates, iterator, chunksize, compression, thousands, decimal, lineterminator, quotechar, quoting, doublequote, escapechar, comment, encoding, encoding_errors, dialect, error_bad_lines, warn_bad_lines, on_bad_lines, delim_whitespace, low_memory, memory_map, float_precision, storage_options)\u001b[0m\n\u001b[1;32m    665\u001b[0m kwds_defaults \u001b[38;5;241m=\u001b[39m _refine_defaults_read(\n\u001b[1;32m    666\u001b[0m     dialect,\n\u001b[1;32m    667\u001b[0m     delimiter,\n\u001b[0;32m   (...)\u001b[0m\n\u001b[1;32m    676\u001b[0m     defaults\u001b[38;5;241m=\u001b[39m{\u001b[38;5;124m\"\u001b[39m\u001b[38;5;124mdelimiter\u001b[39m\u001b[38;5;124m\"\u001b[39m: \u001b[38;5;124m\"\u001b[39m\u001b[38;5;124m,\u001b[39m\u001b[38;5;124m\"\u001b[39m},\n\u001b[1;32m    677\u001b[0m )\n\u001b[1;32m    678\u001b[0m kwds\u001b[38;5;241m.\u001b[39mupdate(kwds_defaults)\n\u001b[0;32m--> 680\u001b[0m \u001b[38;5;28;01mreturn\u001b[39;00m \u001b[43m_read\u001b[49m\u001b[43m(\u001b[49m\u001b[43mfilepath_or_buffer\u001b[49m\u001b[43m,\u001b[49m\u001b[43m \u001b[49m\u001b[43mkwds\u001b[49m\u001b[43m)\u001b[49m\n",
      "File \u001b[0;32m~/opt/anaconda3/lib/python3.9/site-packages/pandas/io/parsers/readers.py:575\u001b[0m, in \u001b[0;36m_read\u001b[0;34m(filepath_or_buffer, kwds)\u001b[0m\n\u001b[1;32m    572\u001b[0m _validate_names(kwds\u001b[38;5;241m.\u001b[39mget(\u001b[38;5;124m\"\u001b[39m\u001b[38;5;124mnames\u001b[39m\u001b[38;5;124m\"\u001b[39m, \u001b[38;5;28;01mNone\u001b[39;00m))\n\u001b[1;32m    574\u001b[0m \u001b[38;5;66;03m# Create the parser.\u001b[39;00m\n\u001b[0;32m--> 575\u001b[0m parser \u001b[38;5;241m=\u001b[39m \u001b[43mTextFileReader\u001b[49m\u001b[43m(\u001b[49m\u001b[43mfilepath_or_buffer\u001b[49m\u001b[43m,\u001b[49m\u001b[43m \u001b[49m\u001b[38;5;241;43m*\u001b[39;49m\u001b[38;5;241;43m*\u001b[39;49m\u001b[43mkwds\u001b[49m\u001b[43m)\u001b[49m\n\u001b[1;32m    577\u001b[0m \u001b[38;5;28;01mif\u001b[39;00m chunksize \u001b[38;5;129;01mor\u001b[39;00m iterator:\n\u001b[1;32m    578\u001b[0m     \u001b[38;5;28;01mreturn\u001b[39;00m parser\n",
      "File \u001b[0;32m~/opt/anaconda3/lib/python3.9/site-packages/pandas/io/parsers/readers.py:933\u001b[0m, in \u001b[0;36mTextFileReader.__init__\u001b[0;34m(self, f, engine, **kwds)\u001b[0m\n\u001b[1;32m    930\u001b[0m     \u001b[38;5;28mself\u001b[39m\u001b[38;5;241m.\u001b[39moptions[\u001b[38;5;124m\"\u001b[39m\u001b[38;5;124mhas_index_names\u001b[39m\u001b[38;5;124m\"\u001b[39m] \u001b[38;5;241m=\u001b[39m kwds[\u001b[38;5;124m\"\u001b[39m\u001b[38;5;124mhas_index_names\u001b[39m\u001b[38;5;124m\"\u001b[39m]\n\u001b[1;32m    932\u001b[0m \u001b[38;5;28mself\u001b[39m\u001b[38;5;241m.\u001b[39mhandles: IOHandles \u001b[38;5;241m|\u001b[39m \u001b[38;5;28;01mNone\u001b[39;00m \u001b[38;5;241m=\u001b[39m \u001b[38;5;28;01mNone\u001b[39;00m\n\u001b[0;32m--> 933\u001b[0m \u001b[38;5;28mself\u001b[39m\u001b[38;5;241m.\u001b[39m_engine \u001b[38;5;241m=\u001b[39m \u001b[38;5;28;43mself\u001b[39;49m\u001b[38;5;241;43m.\u001b[39;49m\u001b[43m_make_engine\u001b[49m\u001b[43m(\u001b[49m\u001b[43mf\u001b[49m\u001b[43m,\u001b[49m\u001b[43m \u001b[49m\u001b[38;5;28;43mself\u001b[39;49m\u001b[38;5;241;43m.\u001b[39;49m\u001b[43mengine\u001b[49m\u001b[43m)\u001b[49m\n",
      "File \u001b[0;32m~/opt/anaconda3/lib/python3.9/site-packages/pandas/io/parsers/readers.py:1217\u001b[0m, in \u001b[0;36mTextFileReader._make_engine\u001b[0;34m(self, f, engine)\u001b[0m\n\u001b[1;32m   1213\u001b[0m     mode \u001b[38;5;241m=\u001b[39m \u001b[38;5;124m\"\u001b[39m\u001b[38;5;124mrb\u001b[39m\u001b[38;5;124m\"\u001b[39m\n\u001b[1;32m   1214\u001b[0m \u001b[38;5;66;03m# error: No overload variant of \"get_handle\" matches argument types\u001b[39;00m\n\u001b[1;32m   1215\u001b[0m \u001b[38;5;66;03m# \"Union[str, PathLike[str], ReadCsvBuffer[bytes], ReadCsvBuffer[str]]\"\u001b[39;00m\n\u001b[1;32m   1216\u001b[0m \u001b[38;5;66;03m# , \"str\", \"bool\", \"Any\", \"Any\", \"Any\", \"Any\", \"Any\"\u001b[39;00m\n\u001b[0;32m-> 1217\u001b[0m \u001b[38;5;28mself\u001b[39m\u001b[38;5;241m.\u001b[39mhandles \u001b[38;5;241m=\u001b[39m \u001b[43mget_handle\u001b[49m\u001b[43m(\u001b[49m\u001b[43m  \u001b[49m\u001b[38;5;66;43;03m# type: ignore[call-overload]\u001b[39;49;00m\n\u001b[1;32m   1218\u001b[0m \u001b[43m    \u001b[49m\u001b[43mf\u001b[49m\u001b[43m,\u001b[49m\n\u001b[1;32m   1219\u001b[0m \u001b[43m    \u001b[49m\u001b[43mmode\u001b[49m\u001b[43m,\u001b[49m\n\u001b[1;32m   1220\u001b[0m \u001b[43m    \u001b[49m\u001b[43mencoding\u001b[49m\u001b[38;5;241;43m=\u001b[39;49m\u001b[38;5;28;43mself\u001b[39;49m\u001b[38;5;241;43m.\u001b[39;49m\u001b[43moptions\u001b[49m\u001b[38;5;241;43m.\u001b[39;49m\u001b[43mget\u001b[49m\u001b[43m(\u001b[49m\u001b[38;5;124;43m\"\u001b[39;49m\u001b[38;5;124;43mencoding\u001b[39;49m\u001b[38;5;124;43m\"\u001b[39;49m\u001b[43m,\u001b[49m\u001b[43m \u001b[49m\u001b[38;5;28;43;01mNone\u001b[39;49;00m\u001b[43m)\u001b[49m\u001b[43m,\u001b[49m\n\u001b[1;32m   1221\u001b[0m \u001b[43m    \u001b[49m\u001b[43mcompression\u001b[49m\u001b[38;5;241;43m=\u001b[39;49m\u001b[38;5;28;43mself\u001b[39;49m\u001b[38;5;241;43m.\u001b[39;49m\u001b[43moptions\u001b[49m\u001b[38;5;241;43m.\u001b[39;49m\u001b[43mget\u001b[49m\u001b[43m(\u001b[49m\u001b[38;5;124;43m\"\u001b[39;49m\u001b[38;5;124;43mcompression\u001b[39;49m\u001b[38;5;124;43m\"\u001b[39;49m\u001b[43m,\u001b[49m\u001b[43m \u001b[49m\u001b[38;5;28;43;01mNone\u001b[39;49;00m\u001b[43m)\u001b[49m\u001b[43m,\u001b[49m\n\u001b[1;32m   1222\u001b[0m \u001b[43m    \u001b[49m\u001b[43mmemory_map\u001b[49m\u001b[38;5;241;43m=\u001b[39;49m\u001b[38;5;28;43mself\u001b[39;49m\u001b[38;5;241;43m.\u001b[39;49m\u001b[43moptions\u001b[49m\u001b[38;5;241;43m.\u001b[39;49m\u001b[43mget\u001b[49m\u001b[43m(\u001b[49m\u001b[38;5;124;43m\"\u001b[39;49m\u001b[38;5;124;43mmemory_map\u001b[39;49m\u001b[38;5;124;43m\"\u001b[39;49m\u001b[43m,\u001b[49m\u001b[43m \u001b[49m\u001b[38;5;28;43;01mFalse\u001b[39;49;00m\u001b[43m)\u001b[49m\u001b[43m,\u001b[49m\n\u001b[1;32m   1223\u001b[0m \u001b[43m    \u001b[49m\u001b[43mis_text\u001b[49m\u001b[38;5;241;43m=\u001b[39;49m\u001b[43mis_text\u001b[49m\u001b[43m,\u001b[49m\n\u001b[1;32m   1224\u001b[0m \u001b[43m    \u001b[49m\u001b[43merrors\u001b[49m\u001b[38;5;241;43m=\u001b[39;49m\u001b[38;5;28;43mself\u001b[39;49m\u001b[38;5;241;43m.\u001b[39;49m\u001b[43moptions\u001b[49m\u001b[38;5;241;43m.\u001b[39;49m\u001b[43mget\u001b[49m\u001b[43m(\u001b[49m\u001b[38;5;124;43m\"\u001b[39;49m\u001b[38;5;124;43mencoding_errors\u001b[39;49m\u001b[38;5;124;43m\"\u001b[39;49m\u001b[43m,\u001b[49m\u001b[43m \u001b[49m\u001b[38;5;124;43m\"\u001b[39;49m\u001b[38;5;124;43mstrict\u001b[39;49m\u001b[38;5;124;43m\"\u001b[39;49m\u001b[43m)\u001b[49m\u001b[43m,\u001b[49m\n\u001b[1;32m   1225\u001b[0m \u001b[43m    \u001b[49m\u001b[43mstorage_options\u001b[49m\u001b[38;5;241;43m=\u001b[39;49m\u001b[38;5;28;43mself\u001b[39;49m\u001b[38;5;241;43m.\u001b[39;49m\u001b[43moptions\u001b[49m\u001b[38;5;241;43m.\u001b[39;49m\u001b[43mget\u001b[49m\u001b[43m(\u001b[49m\u001b[38;5;124;43m\"\u001b[39;49m\u001b[38;5;124;43mstorage_options\u001b[39;49m\u001b[38;5;124;43m\"\u001b[39;49m\u001b[43m,\u001b[49m\u001b[43m \u001b[49m\u001b[38;5;28;43;01mNone\u001b[39;49;00m\u001b[43m)\u001b[49m\u001b[43m,\u001b[49m\n\u001b[1;32m   1226\u001b[0m \u001b[43m\u001b[49m\u001b[43m)\u001b[49m\n\u001b[1;32m   1227\u001b[0m \u001b[38;5;28;01massert\u001b[39;00m \u001b[38;5;28mself\u001b[39m\u001b[38;5;241m.\u001b[39mhandles \u001b[38;5;129;01mis\u001b[39;00m \u001b[38;5;129;01mnot\u001b[39;00m \u001b[38;5;28;01mNone\u001b[39;00m\n\u001b[1;32m   1228\u001b[0m f \u001b[38;5;241m=\u001b[39m \u001b[38;5;28mself\u001b[39m\u001b[38;5;241m.\u001b[39mhandles\u001b[38;5;241m.\u001b[39mhandle\n",
      "File \u001b[0;32m~/opt/anaconda3/lib/python3.9/site-packages/pandas/io/common.py:789\u001b[0m, in \u001b[0;36mget_handle\u001b[0;34m(path_or_buf, mode, encoding, compression, memory_map, is_text, errors, storage_options)\u001b[0m\n\u001b[1;32m    784\u001b[0m \u001b[38;5;28;01melif\u001b[39;00m \u001b[38;5;28misinstance\u001b[39m(handle, \u001b[38;5;28mstr\u001b[39m):\n\u001b[1;32m    785\u001b[0m     \u001b[38;5;66;03m# Check whether the filename is to be opened in binary mode.\u001b[39;00m\n\u001b[1;32m    786\u001b[0m     \u001b[38;5;66;03m# Binary mode does not support 'encoding' and 'newline'.\u001b[39;00m\n\u001b[1;32m    787\u001b[0m     \u001b[38;5;28;01mif\u001b[39;00m ioargs\u001b[38;5;241m.\u001b[39mencoding \u001b[38;5;129;01mand\u001b[39;00m \u001b[38;5;124m\"\u001b[39m\u001b[38;5;124mb\u001b[39m\u001b[38;5;124m\"\u001b[39m \u001b[38;5;129;01mnot\u001b[39;00m \u001b[38;5;129;01min\u001b[39;00m ioargs\u001b[38;5;241m.\u001b[39mmode:\n\u001b[1;32m    788\u001b[0m         \u001b[38;5;66;03m# Encoding\u001b[39;00m\n\u001b[0;32m--> 789\u001b[0m         handle \u001b[38;5;241m=\u001b[39m \u001b[38;5;28;43mopen\u001b[39;49m\u001b[43m(\u001b[49m\n\u001b[1;32m    790\u001b[0m \u001b[43m            \u001b[49m\u001b[43mhandle\u001b[49m\u001b[43m,\u001b[49m\n\u001b[1;32m    791\u001b[0m \u001b[43m            \u001b[49m\u001b[43mioargs\u001b[49m\u001b[38;5;241;43m.\u001b[39;49m\u001b[43mmode\u001b[49m\u001b[43m,\u001b[49m\n\u001b[1;32m    792\u001b[0m \u001b[43m            \u001b[49m\u001b[43mencoding\u001b[49m\u001b[38;5;241;43m=\u001b[39;49m\u001b[43mioargs\u001b[49m\u001b[38;5;241;43m.\u001b[39;49m\u001b[43mencoding\u001b[49m\u001b[43m,\u001b[49m\n\u001b[1;32m    793\u001b[0m \u001b[43m            \u001b[49m\u001b[43merrors\u001b[49m\u001b[38;5;241;43m=\u001b[39;49m\u001b[43merrors\u001b[49m\u001b[43m,\u001b[49m\n\u001b[1;32m    794\u001b[0m \u001b[43m            \u001b[49m\u001b[43mnewline\u001b[49m\u001b[38;5;241;43m=\u001b[39;49m\u001b[38;5;124;43m\"\u001b[39;49m\u001b[38;5;124;43m\"\u001b[39;49m\u001b[43m,\u001b[49m\n\u001b[1;32m    795\u001b[0m \u001b[43m        \u001b[49m\u001b[43m)\u001b[49m\n\u001b[1;32m    796\u001b[0m     \u001b[38;5;28;01melse\u001b[39;00m:\n\u001b[1;32m    797\u001b[0m         \u001b[38;5;66;03m# Binary mode\u001b[39;00m\n\u001b[1;32m    798\u001b[0m         handle \u001b[38;5;241m=\u001b[39m \u001b[38;5;28mopen\u001b[39m(handle, ioargs\u001b[38;5;241m.\u001b[39mmode)\n",
      "\u001b[0;31mFileNotFoundError\u001b[0m: [Errno 2] No such file or directory: 'used_cars_data-1.csv'"
     ]
    }
   ],
   "source": [
    "df = pd.read_csv('used_cars_data-1.csv')"
   ]
  },
  {
   "cell_type": "code",
   "execution_count": null,
   "id": "502591da",
   "metadata": {
    "scrolled": true
   },
   "outputs": [],
   "source": [
    "df.head()"
   ]
  },
  {
   "cell_type": "code",
   "execution_count": 7,
   "id": "ae331ee5",
   "metadata": {},
   "outputs": [
    {
     "data": {
      "text/plain": [
       "S.No.  Name                                             Location   Year  Kilometers_Driven  Fuel_Type  Transmission  Owner_Type  Mileage     Engine   Power       Seats  New_Price  Price\n",
       "0      Maruti Wagon R LXI CNG                           Mumbai     2010  72000              CNG        Manual        First       26.6 km/kg  998 CC   58.16 bhp   5.0    5.51       1.75     1\n",
       "4028   Mercedes-Benz CLA 200 CGI Sport                  Delhi      2016  40000              Petrol     Automatic     First       15.04 kmpl  1991 CC  183 bhp     5.0    41.02      24.50    1\n",
       "4026   Maruti Alto K10 VXI                              Jaipur     2016  51264              Petrol     Manual        First       24.07 kmpl  998 CC   67.1 bhp    5.0    4.24       3.20     1\n",
       "4025   Maruti Swift Ldi BSIII                           Chennai    2010  84072              Diesel     Manual        First       17.8 kmpl   1248 CC  75 bhp      5.0    7.88       3.45     1\n",
       "4024   Renault Duster 110PS Diesel RxZ                  Kochi      2014  68598              Diesel     Manual        First       19.01 kmpl  1461 CC  108.45 bhp  5.0    15.05      6.17     1\n",
       "                                                                                                                                                                                            ..\n",
       "2004   Volkswagen Vento 2013-2015 1.6 Comfortline       Mumbai     2015  23001              Petrol     Manual        First       15.04 kmpl  1598 CC  103.2 bhp   5.0    13.23      5.49     1\n",
       "2003   BMW X1 sDrive 20d xLine                          Bangalore  2016  28143              Diesel     Automatic     First       20.68 kmpl  1995 CC  190 bhp     5.0    48.18      28.50    1\n",
       "2002   Mercedes-Benz GL-Class 2007 2012 350 CDI Luxury  Pune       2014  79000              Diesel     Automatic     First       12.0 kmpl   2987 CC  224 bhp     7.0    49.49      41.00    1\n",
       "2001   Skoda Octavia 1.9 TDI                            Pune       2008  88123              Diesel     Manual        First       18.7 kmpl   1896 CC  66 bhp      5.0    25.83      2.20     1\n",
       "6018   Chevrolet Beat Diesel                            Hyderabad  2011  47000              Diesel     Manual        First       25.44 kmpl  936 CC   57.6 bhp    5.0    11.30      2.50     1\n",
       "Length: 5872, dtype: int64"
      ]
     },
     "execution_count": 7,
     "metadata": {},
     "output_type": "execute_result"
    }
   ],
   "source": [
    "df.value_counts()"
   ]
  },
  {
   "cell_type": "code",
   "execution_count": 8,
   "id": "02d5ee7a",
   "metadata": {},
   "outputs": [
    {
     "data": {
      "text/plain": [
       "S.No.                   0\n",
       "Name                    0\n",
       "Location                0\n",
       "Year                    0\n",
       "Kilometers_Driven       0\n",
       "Fuel_Type               0\n",
       "Transmission            0\n",
       "Owner_Type              0\n",
       "Mileage                 2\n",
       "Engine                 46\n",
       "Power                 175\n",
       "Seats                  53\n",
       "New_Price               0\n",
       "Price                1234\n",
       "dtype: int64"
      ]
     },
     "execution_count": 8,
     "metadata": {},
     "output_type": "execute_result"
    }
   ],
   "source": [
    "df.isnull().sum()"
   ]
  },
  {
   "cell_type": "code",
   "execution_count": 28,
   "id": "b54cc377",
   "metadata": {},
   "outputs": [
    {
     "data": {
      "text/plain": [
       "['S.No.',\n",
       " 'Name',\n",
       " 'Location',\n",
       " 'Year',\n",
       " 'Kilometers_Driven',\n",
       " 'Fuel_Type',\n",
       " 'Transmission',\n",
       " 'Owner_Type',\n",
       " 'Mileage',\n",
       " 'Engine',\n",
       " 'Power',\n",
       " 'Seats',\n",
       " 'New_Price',\n",
       " 'Price']"
      ]
     },
     "execution_count": 28,
     "metadata": {},
     "output_type": "execute_result"
    }
   ],
   "source": [
    "list(df)"
   ]
  },
  {
   "cell_type": "code",
   "execution_count": 9,
   "id": "902198b7",
   "metadata": {},
   "outputs": [
    {
     "data": {
      "text/plain": [
       "(7253, 14)"
      ]
     },
     "execution_count": 9,
     "metadata": {},
     "output_type": "execute_result"
    }
   ],
   "source": [
    "df.shape"
   ]
  },
  {
   "cell_type": "code",
   "execution_count": 10,
   "id": "508412aa",
   "metadata": {},
   "outputs": [
    {
     "data": {
      "text/html": [
       "<div>\n",
       "<style scoped>\n",
       "    .dataframe tbody tr th:only-of-type {\n",
       "        vertical-align: middle;\n",
       "    }\n",
       "\n",
       "    .dataframe tbody tr th {\n",
       "        vertical-align: top;\n",
       "    }\n",
       "\n",
       "    .dataframe thead th {\n",
       "        text-align: right;\n",
       "    }\n",
       "</style>\n",
       "<table border=\"1\" class=\"dataframe\">\n",
       "  <thead>\n",
       "    <tr style=\"text-align: right;\">\n",
       "      <th></th>\n",
       "      <th>S.No.</th>\n",
       "      <th>Year</th>\n",
       "      <th>Kilometers_Driven</th>\n",
       "      <th>Seats</th>\n",
       "      <th>New_Price</th>\n",
       "      <th>Price</th>\n",
       "    </tr>\n",
       "  </thead>\n",
       "  <tbody>\n",
       "    <tr>\n",
       "      <th>count</th>\n",
       "      <td>7253.000000</td>\n",
       "      <td>7253.000000</td>\n",
       "      <td>7.253000e+03</td>\n",
       "      <td>7200.000000</td>\n",
       "      <td>7253.000000</td>\n",
       "      <td>6019.000000</td>\n",
       "    </tr>\n",
       "    <tr>\n",
       "      <th>mean</th>\n",
       "      <td>3626.000000</td>\n",
       "      <td>2013.365366</td>\n",
       "      <td>5.869906e+04</td>\n",
       "      <td>5.279722</td>\n",
       "      <td>21.307322</td>\n",
       "      <td>9.479468</td>\n",
       "    </tr>\n",
       "    <tr>\n",
       "      <th>std</th>\n",
       "      <td>2093.905084</td>\n",
       "      <td>3.254421</td>\n",
       "      <td>8.442772e+04</td>\n",
       "      <td>0.811660</td>\n",
       "      <td>24.256314</td>\n",
       "      <td>11.187917</td>\n",
       "    </tr>\n",
       "    <tr>\n",
       "      <th>min</th>\n",
       "      <td>0.000000</td>\n",
       "      <td>1996.000000</td>\n",
       "      <td>1.710000e+02</td>\n",
       "      <td>0.000000</td>\n",
       "      <td>3.910000</td>\n",
       "      <td>0.440000</td>\n",
       "    </tr>\n",
       "    <tr>\n",
       "      <th>25%</th>\n",
       "      <td>1813.000000</td>\n",
       "      <td>2011.000000</td>\n",
       "      <td>3.400000e+04</td>\n",
       "      <td>5.000000</td>\n",
       "      <td>7.880000</td>\n",
       "      <td>3.500000</td>\n",
       "    </tr>\n",
       "    <tr>\n",
       "      <th>50%</th>\n",
       "      <td>3626.000000</td>\n",
       "      <td>2014.000000</td>\n",
       "      <td>5.341600e+04</td>\n",
       "      <td>5.000000</td>\n",
       "      <td>11.300000</td>\n",
       "      <td>5.640000</td>\n",
       "    </tr>\n",
       "    <tr>\n",
       "      <th>75%</th>\n",
       "      <td>5439.000000</td>\n",
       "      <td>2016.000000</td>\n",
       "      <td>7.300000e+04</td>\n",
       "      <td>5.000000</td>\n",
       "      <td>21.690000</td>\n",
       "      <td>9.950000</td>\n",
       "    </tr>\n",
       "    <tr>\n",
       "      <th>max</th>\n",
       "      <td>7252.000000</td>\n",
       "      <td>2019.000000</td>\n",
       "      <td>6.500000e+06</td>\n",
       "      <td>10.000000</td>\n",
       "      <td>375.000000</td>\n",
       "      <td>160.000000</td>\n",
       "    </tr>\n",
       "  </tbody>\n",
       "</table>\n",
       "</div>"
      ],
      "text/plain": [
       "             S.No.         Year  Kilometers_Driven        Seats    New_Price  \\\n",
       "count  7253.000000  7253.000000       7.253000e+03  7200.000000  7253.000000   \n",
       "mean   3626.000000  2013.365366       5.869906e+04     5.279722    21.307322   \n",
       "std    2093.905084     3.254421       8.442772e+04     0.811660    24.256314   \n",
       "min       0.000000  1996.000000       1.710000e+02     0.000000     3.910000   \n",
       "25%    1813.000000  2011.000000       3.400000e+04     5.000000     7.880000   \n",
       "50%    3626.000000  2014.000000       5.341600e+04     5.000000    11.300000   \n",
       "75%    5439.000000  2016.000000       7.300000e+04     5.000000    21.690000   \n",
       "max    7252.000000  2019.000000       6.500000e+06    10.000000   375.000000   \n",
       "\n",
       "             Price  \n",
       "count  6019.000000  \n",
       "mean      9.479468  \n",
       "std      11.187917  \n",
       "min       0.440000  \n",
       "25%       3.500000  \n",
       "50%       5.640000  \n",
       "75%       9.950000  \n",
       "max     160.000000  "
      ]
     },
     "execution_count": 10,
     "metadata": {},
     "output_type": "execute_result"
    }
   ],
   "source": [
    "df.describe()"
   ]
  },
  {
   "cell_type": "code",
   "execution_count": 11,
   "id": "0718dd7d",
   "metadata": {},
   "outputs": [
    {
     "data": {
      "text/plain": [
       "S.No.                  int64\n",
       "Name                  object\n",
       "Location              object\n",
       "Year                   int64\n",
       "Kilometers_Driven      int64\n",
       "Fuel_Type             object\n",
       "Transmission          object\n",
       "Owner_Type            object\n",
       "Mileage               object\n",
       "Engine                object\n",
       "Power                 object\n",
       "Seats                float64\n",
       "New_Price            float64\n",
       "Price                float64\n",
       "dtype: object"
      ]
     },
     "execution_count": 11,
     "metadata": {},
     "output_type": "execute_result"
    }
   ],
   "source": [
    "df.dtypes"
   ]
  },
  {
   "cell_type": "code",
   "execution_count": 12,
   "id": "6377d50d",
   "metadata": {},
   "outputs": [
    {
     "data": {
      "text/plain": [
       "Index(['S.No.', 'Name', 'Location', 'Year', 'Kilometers_Driven', 'Fuel_Type',\n",
       "       'Transmission', 'Owner_Type', 'Mileage', 'Engine', 'Power', 'Seats',\n",
       "       'New_Price', 'Price'],\n",
       "      dtype='object')"
      ]
     },
     "execution_count": 12,
     "metadata": {},
     "output_type": "execute_result"
    }
   ],
   "source": [
    "df.columns"
   ]
  },
  {
   "cell_type": "markdown",
   "id": "47954731",
   "metadata": {},
   "source": [
    "Cleaning the data. Cleaning the Name column"
   ]
  },
  {
   "cell_type": "code",
   "execution_count": 13,
   "id": "c7a13bc6",
   "metadata": {},
   "outputs": [
    {
     "name": "stdout",
     "output_type": "stream",
     "text": [
      "<class 'pandas.core.frame.DataFrame'>\n",
      "RangeIndex: 7253 entries, 0 to 7252\n",
      "Data columns (total 14 columns):\n",
      " #   Column             Non-Null Count  Dtype  \n",
      "---  ------             --------------  -----  \n",
      " 0   S.No.              7253 non-null   int64  \n",
      " 1   Name               7253 non-null   object \n",
      " 2   Location           7253 non-null   object \n",
      " 3   Year               7253 non-null   int64  \n",
      " 4   Kilometers_Driven  7253 non-null   int64  \n",
      " 5   Fuel_Type          7253 non-null   object \n",
      " 6   Transmission       7253 non-null   object \n",
      " 7   Owner_Type         7253 non-null   object \n",
      " 8   Mileage            7251 non-null   object \n",
      " 9   Engine             7207 non-null   object \n",
      " 10  Power              7078 non-null   object \n",
      " 11  Seats              7200 non-null   float64\n",
      " 12  New_Price          7253 non-null   float64\n",
      " 13  Price              6019 non-null   float64\n",
      "dtypes: float64(3), int64(3), object(8)\n",
      "memory usage: 793.4+ KB\n"
     ]
    }
   ],
   "source": [
    "df.info()"
   ]
  },
  {
   "cell_type": "code",
   "execution_count": 14,
   "id": "85943357",
   "metadata": {},
   "outputs": [
    {
     "data": {
      "text/plain": [
       "S.No.                   0\n",
       "Name                    0\n",
       "Location                0\n",
       "Year                    0\n",
       "Kilometers_Driven       0\n",
       "Fuel_Type               0\n",
       "Transmission            0\n",
       "Owner_Type              0\n",
       "Mileage                 2\n",
       "Engine                 46\n",
       "Power                 175\n",
       "Seats                  53\n",
       "New_Price               0\n",
       "Price                1234\n",
       "dtype: int64"
      ]
     },
     "execution_count": 14,
     "metadata": {},
     "output_type": "execute_result"
    }
   ],
   "source": [
    "df.isnull().sum()"
   ]
  },
  {
   "cell_type": "code",
   "execution_count": 15,
   "id": "9a402aad",
   "metadata": {},
   "outputs": [
    {
     "name": "stdout",
     "output_type": "stream",
     "text": [
      "S.NO.\n",
      "0       1\n",
      "4818    1\n",
      "4844    1\n",
      "4843    1\n",
      "4842    1\n",
      "       ..\n",
      "2413    1\n",
      "2412    1\n",
      "2411    1\n",
      "2410    1\n",
      "7252    1\n",
      "Name: S.No., Length: 7253, dtype: int64\n",
      "******************************\n",
      "NAME\n",
      "Mahindra XUV500 W8 2WD                  55\n",
      "Maruti Swift VDI                        49\n",
      "Maruti Swift Dzire VDI                  42\n",
      "Honda City 1.5 S MT                     39\n",
      "Maruti Swift VDI BSIV                   37\n",
      "                                        ..\n",
      "Chevrolet Beat LT Option                 1\n",
      "Skoda Rapid 1.6 MPI AT Elegance Plus     1\n",
      "Ford EcoSport 1.5 TDCi Ambiente          1\n",
      "Hyundai i10 Magna 1.1 iTech SE           1\n",
      "Hyundai Elite i20 Magna Plus             1\n",
      "Name: Name, Length: 2041, dtype: int64\n",
      "******************************\n",
      "LOCATION\n",
      "Mumbai        949\n",
      "Hyderabad     876\n",
      "Coimbatore    772\n",
      "Kochi         772\n",
      "Pune          765\n",
      "Delhi         660\n",
      "Kolkata       654\n",
      "Chennai       591\n",
      "Jaipur        499\n",
      "Bangalore     440\n",
      "Ahmedabad     275\n",
      "Name: Location, dtype: int64\n",
      "******************************\n",
      "YEAR\n",
      "2015    929\n",
      "2014    925\n",
      "2016    886\n",
      "2013    791\n",
      "2017    709\n",
      "2012    690\n",
      "2011    579\n",
      "2010    407\n",
      "2018    361\n",
      "2009    252\n",
      "2008    207\n",
      "2007    148\n",
      "2019    119\n",
      "2006     89\n",
      "2005     68\n",
      "2004     35\n",
      "2003     20\n",
      "2002     18\n",
      "2001      8\n",
      "2000      5\n",
      "1998      4\n",
      "1999      2\n",
      "1996      1\n",
      "Name: Year, dtype: int64\n",
      "******************************\n",
      "KILOMETERS_DRIVEN\n",
      "60000    96\n",
      "65000    86\n",
      "45000    86\n",
      "70000    77\n",
      "50000    72\n",
      "         ..\n",
      "87200     1\n",
      "48324     1\n",
      "20773     1\n",
      "66355     1\n",
      "72443     1\n",
      "Name: Kilometers_Driven, Length: 3660, dtype: int64\n",
      "******************************\n",
      "FUEL_TYPE\n",
      "Diesel      3852\n",
      "Petrol      3325\n",
      "CNG           62\n",
      "LPG           12\n",
      "Electric       2\n",
      "Name: Fuel_Type, dtype: int64\n",
      "******************************\n",
      "TRANSMISSION\n",
      "Manual       5204\n",
      "Automatic    2049\n",
      "Name: Transmission, dtype: int64\n",
      "******************************\n",
      "OWNER_TYPE\n",
      "First             5952\n",
      "Second            1152\n",
      "Third              137\n",
      "Fourth & Above      12\n",
      "Name: Owner_Type, dtype: int64\n",
      "******************************\n",
      "MILEAGE\n",
      "17.0 kmpl     207\n",
      "18.9 kmpl     201\n",
      "18.6 kmpl     144\n",
      "21.1 kmpl     106\n",
      "20.36 kmpl    105\n",
      "             ... \n",
      "22.8 km/kg      1\n",
      "8.0 kmpl        1\n",
      "7.81 kmpl       1\n",
      "14.47 kmpl      1\n",
      "17.15 kmpl      1\n",
      "Name: Mileage, Length: 450, dtype: int64\n",
      "******************************\n",
      "ENGINE\n",
      "1197 CC    732\n",
      "1248 CC    610\n",
      "1498 CC    370\n",
      "998 CC     309\n",
      "1198 CC    281\n",
      "          ... \n",
      "1489 CC      1\n",
      "1422 CC      1\n",
      "2706 CC      1\n",
      "1978 CC      1\n",
      "1389 CC      1\n",
      "Name: Engine, Length: 150, dtype: int64\n",
      "******************************\n",
      "POWER\n",
      "74 bhp       280\n",
      "98.6 bhp     166\n",
      "73.9 bhp     152\n",
      "140 bhp      142\n",
      "78.9 bhp     128\n",
      "            ... \n",
      "421 bhp        1\n",
      "89.75 bhp      1\n",
      "387.3 bhp      1\n",
      "226.6 bhp      1\n",
      "241.6 bhp      1\n",
      "Name: Power, Length: 385, dtype: int64\n",
      "******************************\n",
      "SEATS\n",
      "5.0     6047\n",
      "7.0      796\n",
      "8.0      170\n",
      "4.0      119\n",
      "6.0       38\n",
      "2.0       18\n",
      "10.0       8\n",
      "9.0        3\n",
      "0.0        1\n",
      "Name: Seats, dtype: int64\n",
      "******************************\n",
      "NEW_PRICE\n",
      "7.880     660\n",
      "10.250    623\n",
      "13.580    392\n",
      "18.865    237\n",
      "10.150    209\n",
      "         ... \n",
      "41.980      1\n",
      "47.160      1\n",
      "6.230       1\n",
      "5.350       1\n",
      "18.160      1\n",
      "Name: New_Price, Length: 643, dtype: int64\n",
      "******************************\n",
      "PRICE\n",
      "4.50     88\n",
      "5.50     84\n",
      "3.50     82\n",
      "4.25     73\n",
      "3.25     71\n",
      "         ..\n",
      "11.62     1\n",
      "43.60     1\n",
      "19.05     1\n",
      "3.94      1\n",
      "7.43      1\n",
      "Name: Price, Length: 1373, dtype: int64\n",
      "******************************\n"
     ]
    }
   ],
   "source": [
    "for i in df.columns:\n",
    "    print(i.upper())\n",
    "    print(df[i].value_counts())\n",
    "    print('*'*30)"
   ]
  },
  {
   "cell_type": "code",
   "execution_count": 16,
   "id": "7f2b32e2",
   "metadata": {
    "scrolled": true
   },
   "outputs": [
    {
     "data": {
      "text/plain": [
       "Index(['S.No.', 'Name', 'Location', 'Year', 'Kilometers_Driven', 'Fuel_Type',\n",
       "       'Transmission', 'Owner_Type', 'Mileage', 'Engine', 'Power', 'Seats',\n",
       "       'New_Price', 'Price'],\n",
       "      dtype='object')"
      ]
     },
     "execution_count": 16,
     "metadata": {},
     "output_type": "execute_result"
    }
   ],
   "source": [
    "df.columns"
   ]
  },
  {
   "cell_type": "markdown",
   "id": "45a86b48",
   "metadata": {},
   "source": [
    "# this is where you dropped the missing values in engine, power and seats. "
   ]
  },
  {
   "cell_type": "code",
   "execution_count": 17,
   "id": "d34c9832",
   "metadata": {},
   "outputs": [],
   "source": [
    "df.dropna(subset = [\"Engine\", \"Power\", \"Seats\"], inplace = True)"
   ]
  },
  {
   "cell_type": "code",
   "execution_count": 18,
   "id": "f23b3288",
   "metadata": {},
   "outputs": [
    {
     "data": {
      "text/html": [
       "<div>\n",
       "<style scoped>\n",
       "    .dataframe tbody tr th:only-of-type {\n",
       "        vertical-align: middle;\n",
       "    }\n",
       "\n",
       "    .dataframe tbody tr th {\n",
       "        vertical-align: top;\n",
       "    }\n",
       "\n",
       "    .dataframe thead th {\n",
       "        text-align: right;\n",
       "    }\n",
       "</style>\n",
       "<table border=\"1\" class=\"dataframe\">\n",
       "  <thead>\n",
       "    <tr style=\"text-align: right;\">\n",
       "      <th></th>\n",
       "      <th>S.No.</th>\n",
       "      <th>Name</th>\n",
       "      <th>Location</th>\n",
       "      <th>Year</th>\n",
       "      <th>Kilometers_Driven</th>\n",
       "      <th>Fuel_Type</th>\n",
       "      <th>Transmission</th>\n",
       "      <th>Owner_Type</th>\n",
       "      <th>Mileage</th>\n",
       "      <th>Engine</th>\n",
       "      <th>Power</th>\n",
       "      <th>Seats</th>\n",
       "      <th>New_Price</th>\n",
       "      <th>Price</th>\n",
       "    </tr>\n",
       "  </thead>\n",
       "  <tbody>\n",
       "    <tr>\n",
       "      <th>4446</th>\n",
       "      <td>4446</td>\n",
       "      <td>Mahindra E Verito D4</td>\n",
       "      <td>Chennai</td>\n",
       "      <td>2016</td>\n",
       "      <td>50000</td>\n",
       "      <td>Electric</td>\n",
       "      <td>Automatic</td>\n",
       "      <td>First</td>\n",
       "      <td>NaN</td>\n",
       "      <td>72 CC</td>\n",
       "      <td>41 bhp</td>\n",
       "      <td>5.0</td>\n",
       "      <td>13.58</td>\n",
       "      <td>13.00</td>\n",
       "    </tr>\n",
       "    <tr>\n",
       "      <th>4904</th>\n",
       "      <td>4904</td>\n",
       "      <td>Toyota Prius 2009-2016 Z4</td>\n",
       "      <td>Mumbai</td>\n",
       "      <td>2011</td>\n",
       "      <td>44000</td>\n",
       "      <td>Electric</td>\n",
       "      <td>Automatic</td>\n",
       "      <td>First</td>\n",
       "      <td>NaN</td>\n",
       "      <td>1798 CC</td>\n",
       "      <td>73 bhp</td>\n",
       "      <td>5.0</td>\n",
       "      <td>24.01</td>\n",
       "      <td>12.75</td>\n",
       "    </tr>\n",
       "  </tbody>\n",
       "</table>\n",
       "</div>"
      ],
      "text/plain": [
       "      S.No.                       Name Location  Year  Kilometers_Driven  \\\n",
       "4446   4446       Mahindra E Verito D4  Chennai  2016              50000   \n",
       "4904   4904  Toyota Prius 2009-2016 Z4   Mumbai  2011              44000   \n",
       "\n",
       "     Fuel_Type Transmission Owner_Type Mileage   Engine   Power  Seats  \\\n",
       "4446  Electric    Automatic      First     NaN    72 CC  41 bhp    5.0   \n",
       "4904  Electric    Automatic      First     NaN  1798 CC  73 bhp    5.0   \n",
       "\n",
       "      New_Price  Price  \n",
       "4446      13.58  13.00  \n",
       "4904      24.01  12.75  "
      ]
     },
     "execution_count": 18,
     "metadata": {},
     "output_type": "execute_result"
    }
   ],
   "source": [
    "df[df[\"Mileage\"].isnull()]"
   ]
  },
  {
   "cell_type": "markdown",
   "id": "11863dce",
   "metadata": {},
   "source": [
    "## you wish to remove the km/kg in milegae\n",
    "\n",
    "- what you did"
   ]
  },
  {
   "cell_type": "code",
   "execution_count": 19,
   "id": "a95a1b5b",
   "metadata": {},
   "outputs": [],
   "source": [
    "New_mil = []\n",
    "for i in df.Mileage:\n",
    "    if str().endswith('km/kg'):\n",
    "        i = i[:-6]\n",
    "        i = float(i)*1.40\n",
    "        New_mil.append(float(i))\n",
    "    elif str(i).endswith('kmpl'):\n",
    "        i = i[:-6]\n",
    "        New_mil.append(float(i))\n",
    "    else:\n",
    "        New_mil.append"
   ]
  },
  {
   "cell_type": "markdown",
   "id": "e06aaae3",
   "metadata": {},
   "source": [
    "## how i will do it"
   ]
  },
  {
   "cell_type": "code",
   "execution_count": 38,
   "id": "dbdf687c",
   "metadata": {},
   "outputs": [
    {
     "data": {
      "text/plain": [
       "0       26.60\n",
       "1       19.67\n",
       "2       18.20\n",
       "3       20.77\n",
       "4       15.20\n",
       "        ...  \n",
       "7248    20.54\n",
       "7249    17.21\n",
       "7250    23.08\n",
       "7251    17.20\n",
       "7252    10.00\n",
       "Name: New_Mileage, Length: 7075, dtype: float64"
      ]
     },
     "execution_count": 38,
     "metadata": {},
     "output_type": "execute_result"
    }
   ],
   "source": [
    "New_mil = []\n",
    "for i in df.Mileage.values: # for all the values in mileage column\n",
    "    if isinstance(i, float): #np.nan is of type float, so if i is type float, \n",
    "        New_mil.append(np.nan) #append nan to the list\n",
    "    elif i.endswith('km/kg'): # if any value endswith 'km/kg'\n",
    "        i = float(i.replace('km/kg', \"\")) #replace 'km/kg' with nothing hence the empty string\n",
    "        New_mil.append(i) #append i to New_mil\n",
    "    elif i.endswith('kmpl'):\n",
    "        i = float(i.replace('kmpl', \"\"))\n",
    "        New_mil.append(i)\n",
    "    else:\n",
    "        New_mil.append(i)\n",
    "        \n",
    "#create a new column and append all the values in New_mil to it        \n",
    "df['New_Mileage'] = [item for item in New_mil]\n",
    "df.New_Mileage"
   ]
  },
  {
   "cell_type": "code",
   "execution_count": 41,
   "id": "7bd78216",
   "metadata": {},
   "outputs": [],
   "source": [
    "df['Engine'] = df['Engine'].str.replace('CC', '') #all these worked easily kudos\n",
    "df['Engine'] = df['Engine'].astype(float)\n",
    "df['Power'] = df['Power'].str.replace('bhp', '')\n",
    "df['Power'] = df['Power'].astype(float)"
   ]
  },
  {
   "cell_type": "code",
   "execution_count": 42,
   "id": "939ae3e4",
   "metadata": {},
   "outputs": [
    {
     "name": "stdout",
     "output_type": "stream",
     "text": [
      "<class 'pandas.core.frame.DataFrame'>\n",
      "Int64Index: 7075 entries, 0 to 7252\n",
      "Data columns (total 15 columns):\n",
      " #   Column             Non-Null Count  Dtype  \n",
      "---  ------             --------------  -----  \n",
      " 0   S.No.              7075 non-null   int64  \n",
      " 1   Name               7075 non-null   object \n",
      " 2   Location           7075 non-null   object \n",
      " 3   Year               7075 non-null   int64  \n",
      " 4   Kilometers_Driven  7075 non-null   int64  \n",
      " 5   Fuel_Type          7075 non-null   object \n",
      " 6   Transmission       7075 non-null   object \n",
      " 7   Owner_Type         7075 non-null   object \n",
      " 8   Mileage            7073 non-null   object \n",
      " 9   Engine             7075 non-null   float64\n",
      " 10  Power              7075 non-null   float64\n",
      " 11  Seats              7075 non-null   float64\n",
      " 12  New_Price          7075 non-null   float64\n",
      " 13  Price              5874 non-null   float64\n",
      " 14  New_Mileage        7073 non-null   float64\n",
      "dtypes: float64(6), int64(3), object(6)\n",
      "memory usage: 884.4+ KB\n"
     ]
    }
   ],
   "source": [
    "df.info()"
   ]
  },
  {
   "cell_type": "markdown",
   "id": "4d331058",
   "metadata": {},
   "source": [
    "## there is no need for this code below"
   ]
  },
  {
   "cell_type": "code",
   "execution_count": null,
   "id": "38f6e808",
   "metadata": {},
   "outputs": [],
   "source": [
    "Power_bhp = []\n",
    "for i in df[\"Engine\"]:\n",
    "    if str(i).endswith('CC'):\n",
    "        i = i[:.4]\n",
    "        i = float(i)\n",
    "        Power_bhp.append(i)"
   ]
  },
  {
   "cell_type": "code",
   "execution_count": null,
   "id": "16717630",
   "metadata": {
    "scrolled": true
   },
   "outputs": [],
   "source": []
  },
  {
   "cell_type": "code",
   "execution_count": 40,
   "id": "0455fa51",
   "metadata": {},
   "outputs": [
    {
     "data": {
      "text/html": [
       "<div>\n",
       "<style scoped>\n",
       "    .dataframe tbody tr th:only-of-type {\n",
       "        vertical-align: middle;\n",
       "    }\n",
       "\n",
       "    .dataframe tbody tr th {\n",
       "        vertical-align: top;\n",
       "    }\n",
       "\n",
       "    .dataframe thead th {\n",
       "        text-align: right;\n",
       "    }\n",
       "</style>\n",
       "<table border=\"1\" class=\"dataframe\">\n",
       "  <thead>\n",
       "    <tr style=\"text-align: right;\">\n",
       "      <th></th>\n",
       "      <th>count</th>\n",
       "      <th>unique</th>\n",
       "      <th>top</th>\n",
       "      <th>freq</th>\n",
       "      <th>mean</th>\n",
       "      <th>std</th>\n",
       "      <th>min</th>\n",
       "      <th>25%</th>\n",
       "      <th>50%</th>\n",
       "      <th>75%</th>\n",
       "      <th>max</th>\n",
       "    </tr>\n",
       "  </thead>\n",
       "  <tbody>\n",
       "    <tr>\n",
       "      <th>S.No.</th>\n",
       "      <td>7075.0</td>\n",
       "      <td>NaN</td>\n",
       "      <td>NaN</td>\n",
       "      <td>NaN</td>\n",
       "      <td>3628.971449</td>\n",
       "      <td>2092.464094</td>\n",
       "      <td>0.0</td>\n",
       "      <td>1814.5</td>\n",
       "      <td>3632.0</td>\n",
       "      <td>5438.0</td>\n",
       "      <td>7252.0</td>\n",
       "    </tr>\n",
       "    <tr>\n",
       "      <th>Name</th>\n",
       "      <td>7075</td>\n",
       "      <td>1969</td>\n",
       "      <td>Mahindra XUV500 W8 2WD</td>\n",
       "      <td>55</td>\n",
       "      <td>NaN</td>\n",
       "      <td>NaN</td>\n",
       "      <td>NaN</td>\n",
       "      <td>NaN</td>\n",
       "      <td>NaN</td>\n",
       "      <td>NaN</td>\n",
       "      <td>NaN</td>\n",
       "    </tr>\n",
       "    <tr>\n",
       "      <th>Location</th>\n",
       "      <td>7075</td>\n",
       "      <td>11</td>\n",
       "      <td>Mumbai</td>\n",
       "      <td>935</td>\n",
       "      <td>NaN</td>\n",
       "      <td>NaN</td>\n",
       "      <td>NaN</td>\n",
       "      <td>NaN</td>\n",
       "      <td>NaN</td>\n",
       "      <td>NaN</td>\n",
       "      <td>NaN</td>\n",
       "    </tr>\n",
       "    <tr>\n",
       "      <th>Year</th>\n",
       "      <td>7075.0</td>\n",
       "      <td>NaN</td>\n",
       "      <td>NaN</td>\n",
       "      <td>NaN</td>\n",
       "      <td>2013.480707</td>\n",
       "      <td>3.151399</td>\n",
       "      <td>1998.0</td>\n",
       "      <td>2012.0</td>\n",
       "      <td>2014.0</td>\n",
       "      <td>2016.0</td>\n",
       "      <td>2019.0</td>\n",
       "    </tr>\n",
       "    <tr>\n",
       "      <th>Kilometers_Driven</th>\n",
       "      <td>7075.0</td>\n",
       "      <td>NaN</td>\n",
       "      <td>NaN</td>\n",
       "      <td>NaN</td>\n",
       "      <td>58254.150954</td>\n",
       "      <td>85227.629657</td>\n",
       "      <td>171.0</td>\n",
       "      <td>33467.5</td>\n",
       "      <td>53000.0</td>\n",
       "      <td>72566.0</td>\n",
       "      <td>6500000.0</td>\n",
       "    </tr>\n",
       "    <tr>\n",
       "      <th>Fuel_Type</th>\n",
       "      <td>7075</td>\n",
       "      <td>5</td>\n",
       "      <td>Diesel</td>\n",
       "      <td>3783</td>\n",
       "      <td>NaN</td>\n",
       "      <td>NaN</td>\n",
       "      <td>NaN</td>\n",
       "      <td>NaN</td>\n",
       "      <td>NaN</td>\n",
       "      <td>NaN</td>\n",
       "      <td>NaN</td>\n",
       "    </tr>\n",
       "    <tr>\n",
       "      <th>Transmission</th>\n",
       "      <td>7075</td>\n",
       "      <td>2</td>\n",
       "      <td>Manual</td>\n",
       "      <td>5048</td>\n",
       "      <td>NaN</td>\n",
       "      <td>NaN</td>\n",
       "      <td>NaN</td>\n",
       "      <td>NaN</td>\n",
       "      <td>NaN</td>\n",
       "      <td>NaN</td>\n",
       "      <td>NaN</td>\n",
       "    </tr>\n",
       "    <tr>\n",
       "      <th>Owner_Type</th>\n",
       "      <td>7075</td>\n",
       "      <td>4</td>\n",
       "      <td>First</td>\n",
       "      <td>5842</td>\n",
       "      <td>NaN</td>\n",
       "      <td>NaN</td>\n",
       "      <td>NaN</td>\n",
       "      <td>NaN</td>\n",
       "      <td>NaN</td>\n",
       "      <td>NaN</td>\n",
       "      <td>NaN</td>\n",
       "    </tr>\n",
       "    <tr>\n",
       "      <th>Mileage</th>\n",
       "      <td>7073</td>\n",
       "      <td>448</td>\n",
       "      <td>18.9 kmpl</td>\n",
       "      <td>201</td>\n",
       "      <td>NaN</td>\n",
       "      <td>NaN</td>\n",
       "      <td>NaN</td>\n",
       "      <td>NaN</td>\n",
       "      <td>NaN</td>\n",
       "      <td>NaN</td>\n",
       "      <td>NaN</td>\n",
       "    </tr>\n",
       "    <tr>\n",
       "      <th>Engine</th>\n",
       "      <td>7075.0</td>\n",
       "      <td>NaN</td>\n",
       "      <td>NaN</td>\n",
       "      <td>NaN</td>\n",
       "      <td>1620.812721</td>\n",
       "      <td>596.104268</td>\n",
       "      <td>72.0</td>\n",
       "      <td>1198.0</td>\n",
       "      <td>1495.0</td>\n",
       "      <td>1984.0</td>\n",
       "      <td>5998.0</td>\n",
       "    </tr>\n",
       "    <tr>\n",
       "      <th>Power</th>\n",
       "      <td>7075.0</td>\n",
       "      <td>NaN</td>\n",
       "      <td>NaN</td>\n",
       "      <td>NaN</td>\n",
       "      <td>112.772365</td>\n",
       "      <td>53.503664</td>\n",
       "      <td>34.2</td>\n",
       "      <td>75.0</td>\n",
       "      <td>94.0</td>\n",
       "      <td>138.1</td>\n",
       "      <td>616.0</td>\n",
       "    </tr>\n",
       "    <tr>\n",
       "      <th>Seats</th>\n",
       "      <td>7075.0</td>\n",
       "      <td>NaN</td>\n",
       "      <td>NaN</td>\n",
       "      <td>NaN</td>\n",
       "      <td>5.284664</td>\n",
       "      <td>0.809602</td>\n",
       "      <td>2.0</td>\n",
       "      <td>5.0</td>\n",
       "      <td>5.0</td>\n",
       "      <td>5.0</td>\n",
       "      <td>10.0</td>\n",
       "    </tr>\n",
       "    <tr>\n",
       "      <th>New_Price</th>\n",
       "      <td>7075.0</td>\n",
       "      <td>NaN</td>\n",
       "      <td>NaN</td>\n",
       "      <td>NaN</td>\n",
       "      <td>21.455302</td>\n",
       "      <td>24.235715</td>\n",
       "      <td>3.91</td>\n",
       "      <td>7.94</td>\n",
       "      <td>11.3</td>\n",
       "      <td>21.77</td>\n",
       "      <td>375.0</td>\n",
       "    </tr>\n",
       "    <tr>\n",
       "      <th>Price</th>\n",
       "      <td>5874.0</td>\n",
       "      <td>NaN</td>\n",
       "      <td>NaN</td>\n",
       "      <td>NaN</td>\n",
       "      <td>9.605032</td>\n",
       "      <td>11.2477</td>\n",
       "      <td>0.44</td>\n",
       "      <td>3.52</td>\n",
       "      <td>5.75</td>\n",
       "      <td>10.0375</td>\n",
       "      <td>160.0</td>\n",
       "    </tr>\n",
       "  </tbody>\n",
       "</table>\n",
       "</div>"
      ],
      "text/plain": [
       "                    count unique                     top  freq          mean  \\\n",
       "S.No.              7075.0    NaN                     NaN   NaN   3628.971449   \n",
       "Name                 7075   1969  Mahindra XUV500 W8 2WD    55           NaN   \n",
       "Location             7075     11                  Mumbai   935           NaN   \n",
       "Year               7075.0    NaN                     NaN   NaN   2013.480707   \n",
       "Kilometers_Driven  7075.0    NaN                     NaN   NaN  58254.150954   \n",
       "Fuel_Type            7075      5                  Diesel  3783           NaN   \n",
       "Transmission         7075      2                  Manual  5048           NaN   \n",
       "Owner_Type           7075      4                   First  5842           NaN   \n",
       "Mileage              7073    448               18.9 kmpl   201           NaN   \n",
       "Engine             7075.0    NaN                     NaN   NaN   1620.812721   \n",
       "Power              7075.0    NaN                     NaN   NaN    112.772365   \n",
       "Seats              7075.0    NaN                     NaN   NaN      5.284664   \n",
       "New_Price          7075.0    NaN                     NaN   NaN     21.455302   \n",
       "Price              5874.0    NaN                     NaN   NaN      9.605032   \n",
       "\n",
       "                            std     min      25%      50%      75%        max  \n",
       "S.No.               2092.464094     0.0   1814.5   3632.0   5438.0     7252.0  \n",
       "Name                        NaN     NaN      NaN      NaN      NaN        NaN  \n",
       "Location                    NaN     NaN      NaN      NaN      NaN        NaN  \n",
       "Year                   3.151399  1998.0   2012.0   2014.0   2016.0     2019.0  \n",
       "Kilometers_Driven  85227.629657   171.0  33467.5  53000.0  72566.0  6500000.0  \n",
       "Fuel_Type                   NaN     NaN      NaN      NaN      NaN        NaN  \n",
       "Transmission                NaN     NaN      NaN      NaN      NaN        NaN  \n",
       "Owner_Type                  NaN     NaN      NaN      NaN      NaN        NaN  \n",
       "Mileage                     NaN     NaN      NaN      NaN      NaN        NaN  \n",
       "Engine               596.104268    72.0   1198.0   1495.0   1984.0     5998.0  \n",
       "Power                 53.503664    34.2     75.0     94.0    138.1      616.0  \n",
       "Seats                  0.809602     2.0      5.0      5.0      5.0       10.0  \n",
       "New_Price             24.235715    3.91     7.94     11.3    21.77      375.0  \n",
       "Price                   11.2477    0.44     3.52     5.75  10.0375      160.0  "
      ]
     },
     "execution_count": 40,
     "metadata": {},
     "output_type": "execute_result"
    }
   ],
   "source": [
    "df.describe(include = 'all').T"
   ]
  },
  {
   "cell_type": "code",
   "execution_count": null,
   "id": "89a9964c",
   "metadata": {},
   "outputs": [],
   "source": []
  },
  {
   "cell_type": "code",
   "execution_count": 41,
   "id": "376bfd2e",
   "metadata": {},
   "outputs": [
    {
     "data": {
      "text/plain": [
       "0                                  Maruti Wagon R LXI CNG\n",
       "1                        Hyundai Creta 1.6 CRDi SX Option\n",
       "2                                            Honda Jazz V\n",
       "3                                       Maruti Ertiga VDI\n",
       "4                         Audi A4 New 2.0 TDI Multitronic\n",
       "                              ...                        \n",
       "7248                    Volkswagen Vento Diesel Trendline\n",
       "7249                               Volkswagen Polo GT TSI\n",
       "7250                               Nissan Micra Diesel XV\n",
       "7251                               Volkswagen Polo GT TSI\n",
       "7252    Mercedes-Benz E-Class 2009-2013 E 220 CDI Avan...\n",
       "Name: Name, Length: 7075, dtype: object"
      ]
     },
     "execution_count": 41,
     "metadata": {},
     "output_type": "execute_result"
    }
   ],
   "source": [
    "df['Name']"
   ]
  },
  {
   "cell_type": "code",
   "execution_count": 42,
   "id": "0b8dcfdc",
   "metadata": {},
   "outputs": [
    {
     "data": {
      "text/plain": [
       "Mahindra XUV500 W8 2WD                  55\n",
       "Maruti Swift VDI                        49\n",
       "Maruti Swift Dzire VDI                  42\n",
       "Honda City 1.5 S MT                     39\n",
       "Toyota Fortuner 3.0 Diesel              35\n",
       "                                        ..\n",
       "BMW 7 Series 2007-2012 750Li             1\n",
       "Hyundai EON 1.0 Magna Plus Option O      1\n",
       "Hyundai i20 1.4 Magna ABS                1\n",
       "Skoda Rapid 1.6 MPI AT Elegance Plus     1\n",
       "Hyundai Elite i20 Magna Plus             1\n",
       "Name: Name, Length: 1969, dtype: int64"
      ]
     },
     "execution_count": 42,
     "metadata": {},
     "output_type": "execute_result"
    }
   ],
   "source": [
    "df['Name'].value_counts()"
   ]
  },
  {
   "cell_type": "code",
   "execution_count": 43,
   "id": "8b70ba8c",
   "metadata": {},
   "outputs": [
    {
     "data": {
      "text/plain": [
       "<bound method Series.unique of 0                                  Maruti Wagon R LXI CNG\n",
       "1                        Hyundai Creta 1.6 CRDi SX Option\n",
       "2                                            Honda Jazz V\n",
       "3                                       Maruti Ertiga VDI\n",
       "4                         Audi A4 New 2.0 TDI Multitronic\n",
       "                              ...                        \n",
       "7248                    Volkswagen Vento Diesel Trendline\n",
       "7249                               Volkswagen Polo GT TSI\n",
       "7250                               Nissan Micra Diesel XV\n",
       "7251                               Volkswagen Polo GT TSI\n",
       "7252    Mercedes-Benz E-Class 2009-2013 E 220 CDI Avan...\n",
       "Name: Name, Length: 7075, dtype: object>"
      ]
     },
     "execution_count": 43,
     "metadata": {},
     "output_type": "execute_result"
    }
   ],
   "source": [
    "df['Name'].unique"
   ]
  },
  {
   "cell_type": "markdown",
   "id": "0d0e2a7d",
   "metadata": {},
   "source": [
    "Cleaning the Location column"
   ]
  },
  {
   "cell_type": "code",
   "execution_count": 44,
   "id": "eea1cdfa",
   "metadata": {},
   "outputs": [
    {
     "data": {
      "text/plain": [
       "0           Mumbai\n",
       "1             Pune\n",
       "2          Chennai\n",
       "3          Chennai\n",
       "4       Coimbatore\n",
       "           ...    \n",
       "7248     Hyderabad\n",
       "7249        Mumbai\n",
       "7250       Kolkata\n",
       "7251          Pune\n",
       "7252         Kochi\n",
       "Name: Location, Length: 7075, dtype: object"
      ]
     },
     "execution_count": 44,
     "metadata": {},
     "output_type": "execute_result"
    }
   ],
   "source": [
    "df['Location']"
   ]
  },
  {
   "cell_type": "markdown",
   "id": "18b72a30",
   "metadata": {},
   "source": [
    "Cleaning the Fuel_Type Column"
   ]
  },
  {
   "cell_type": "code",
   "execution_count": 45,
   "id": "0c78986c",
   "metadata": {},
   "outputs": [
    {
     "data": {
      "text/plain": [
       "0          CNG\n",
       "1       Diesel\n",
       "2       Petrol\n",
       "3       Diesel\n",
       "4       Diesel\n",
       "         ...  \n",
       "7248    Diesel\n",
       "7249    Petrol\n",
       "7250    Diesel\n",
       "7251    Petrol\n",
       "7252    Diesel\n",
       "Name: Fuel_Type, Length: 7075, dtype: object"
      ]
     },
     "execution_count": 45,
     "metadata": {},
     "output_type": "execute_result"
    }
   ],
   "source": [
    "df['Fuel_Type']"
   ]
  },
  {
   "cell_type": "code",
   "execution_count": 46,
   "id": "1d9133b6",
   "metadata": {},
   "outputs": [
    {
     "data": {
      "text/plain": [
       "<bound method Series.unique of 0          CNG\n",
       "1       Diesel\n",
       "2       Petrol\n",
       "3       Diesel\n",
       "4       Diesel\n",
       "         ...  \n",
       "7248    Diesel\n",
       "7249    Petrol\n",
       "7250    Diesel\n",
       "7251    Petrol\n",
       "7252    Diesel\n",
       "Name: Fuel_Type, Length: 7075, dtype: object>"
      ]
     },
     "execution_count": 46,
     "metadata": {},
     "output_type": "execute_result"
    }
   ],
   "source": [
    "df['Fuel_Type'].unique"
   ]
  },
  {
   "cell_type": "code",
   "execution_count": 47,
   "id": "ba382b1a",
   "metadata": {},
   "outputs": [
    {
     "data": {
      "text/plain": [
       "Diesel      3783\n",
       "Petrol      3217\n",
       "CNG           61\n",
       "LPG           12\n",
       "Electric       2\n",
       "Name: Fuel_Type, dtype: int64"
      ]
     },
     "execution_count": 47,
     "metadata": {},
     "output_type": "execute_result"
    }
   ],
   "source": [
    "df['Fuel_Type'].value_counts()"
   ]
  },
  {
   "cell_type": "markdown",
   "id": "aebb9f71",
   "metadata": {},
   "source": [
    "Cleaning the New_Price column"
   ]
  },
  {
   "cell_type": "code",
   "execution_count": 48,
   "id": "0cdf4937",
   "metadata": {},
   "outputs": [
    {
     "data": {
      "text/plain": [
       "7.880     623\n",
       "10.250    622\n",
       "13.580    387\n",
       "18.865    234\n",
       "10.150    208\n",
       "         ... \n",
       "41.980      1\n",
       "47.160      1\n",
       "6.230       1\n",
       "5.350       1\n",
       "18.160      1\n",
       "Name: New_Price, Length: 643, dtype: int64"
      ]
     },
     "execution_count": 48,
     "metadata": {},
     "output_type": "execute_result"
    }
   ],
   "source": [
    "df['New_Price'].value_counts()"
   ]
  },
  {
   "cell_type": "code",
   "execution_count": 49,
   "id": "e5193031",
   "metadata": {},
   "outputs": [
    {
     "data": {
      "text/plain": [
       "<bound method Series.unique of 0        5.51\n",
       "1       16.06\n",
       "2        8.61\n",
       "3       11.27\n",
       "4       53.14\n",
       "        ...  \n",
       "7248    13.23\n",
       "7249    10.15\n",
       "7250     9.47\n",
       "7251    10.15\n",
       "7252    86.97\n",
       "Name: New_Price, Length: 7075, dtype: float64>"
      ]
     },
     "execution_count": 49,
     "metadata": {},
     "output_type": "execute_result"
    }
   ],
   "source": [
    "df['New_Price'].unique"
   ]
  },
  {
   "cell_type": "code",
   "execution_count": 50,
   "id": "4e6cf2bd",
   "metadata": {},
   "outputs": [
    {
     "data": {
      "text/plain": [
       "0        5.51\n",
       "1       16.06\n",
       "2        8.61\n",
       "3       11.27\n",
       "4       53.14\n",
       "        ...  \n",
       "7248    13.23\n",
       "7249    10.15\n",
       "7250     9.47\n",
       "7251    10.15\n",
       "7252    86.97\n",
       "Name: New_Price, Length: 7075, dtype: float64"
      ]
     },
     "execution_count": 50,
     "metadata": {},
     "output_type": "execute_result"
    }
   ],
   "source": [
    "df['New_Price']"
   ]
  },
  {
   "cell_type": "markdown",
   "id": "c1bb0fd9",
   "metadata": {},
   "source": [
    "Cleaning the Kilometers_Driven column"
   ]
  },
  {
   "cell_type": "code",
   "execution_count": 51,
   "id": "d70a26d4",
   "metadata": {},
   "outputs": [
    {
     "data": {
      "text/plain": [
       "<bound method Series.unique of 0       72000\n",
       "1       41000\n",
       "2       46000\n",
       "3       87000\n",
       "4       40670\n",
       "        ...  \n",
       "7248    89411\n",
       "7249    59000\n",
       "7250    28000\n",
       "7251    52262\n",
       "7252    72443\n",
       "Name: Kilometers_Driven, Length: 7075, dtype: int64>"
      ]
     },
     "execution_count": 51,
     "metadata": {},
     "output_type": "execute_result"
    }
   ],
   "source": [
    "df['Kilometers_Driven'].unique"
   ]
  },
  {
   "cell_type": "code",
   "execution_count": 52,
   "id": "21779538",
   "metadata": {},
   "outputs": [
    {
     "data": {
      "text/plain": [
       "0       72000\n",
       "1       41000\n",
       "2       46000\n",
       "3       87000\n",
       "4       40670\n",
       "        ...  \n",
       "7248    89411\n",
       "7249    59000\n",
       "7250    28000\n",
       "7251    52262\n",
       "7252    72443\n",
       "Name: Kilometers_Driven, Length: 7075, dtype: int64"
      ]
     },
     "execution_count": 52,
     "metadata": {},
     "output_type": "execute_result"
    }
   ],
   "source": [
    "df['Kilometers_Driven']"
   ]
  },
  {
   "cell_type": "markdown",
   "id": "cf6fdfe4",
   "metadata": {},
   "source": [
    "Some Visualization"
   ]
  },
  {
   "cell_type": "code",
   "execution_count": 53,
   "id": "eddb0010",
   "metadata": {},
   "outputs": [],
   "source": [
    "essentials = list(df)"
   ]
  },
  {
   "cell_type": "code",
   "execution_count": 54,
   "id": "88053bd2",
   "metadata": {},
   "outputs": [
    {
     "data": {
      "text/plain": [
       "['S.No.',\n",
       " 'Name',\n",
       " 'Location',\n",
       " 'Year',\n",
       " 'Kilometers_Driven',\n",
       " 'Fuel_Type',\n",
       " 'Transmission',\n",
       " 'Owner_Type',\n",
       " 'Mileage',\n",
       " 'Engine',\n",
       " 'Power',\n",
       " 'Seats',\n",
       " 'New_Price',\n",
       " 'Price']"
      ]
     },
     "execution_count": 54,
     "metadata": {},
     "output_type": "execute_result"
    }
   ],
   "source": [
    "essentials"
   ]
  },
  {
   "cell_type": "code",
   "execution_count": 55,
   "id": "51d456b5",
   "metadata": {},
   "outputs": [
    {
     "data": {
      "image/png": "[encoded data removed]",
      "text/plain": [
       "<Figure size 1440x5760 with 50 Axes>"
      ]
     },
     "metadata": {
      "needs_background": "light"
     },
     "output_type": "display_data"
    }
   ],
   "source": [
    "df[essentials].hist(stacked = False, bins = 10, figsize = (20,80), layout = (10,5))\n",
    "plt.show()"
   ]
  },
  {
   "cell_type": "code",
   "execution_count": 56,
   "id": "bec4da85",
   "metadata": {},
   "outputs": [
    {
     "data": {
      "image/png": "[encoded data removed]",
      "text/plain": [
       "<Figure size 432x288 with 1 Axes>"
      ]
     },
     "metadata": {
      "needs_background": "light"
     },
     "output_type": "display_data"
    }
   ],
   "source": [
    "sns.scatterplot(df, x=\"Price\", y = \"Location\")\n",
    "plt.show()"
   ]
  },
  {
   "cell_type": "code",
   "execution_count": 57,
   "id": "4b272a76",
   "metadata": {},
   "outputs": [
    {
     "data": {
      "text/plain": [
       "<AxesSubplot:xlabel='Price', ylabel='Count'>"
      ]
     },
     "execution_count": 57,
     "metadata": {},
     "output_type": "execute_result"
    },
    {
     "data": {
      "image/png": "[encoded data removed]",
      "text/plain": [
       "<Figure size 432x288 with 1 Axes>"
      ]
     },
     "metadata": {
      "needs_background": "light"
     },
     "output_type": "display_data"
    }
   ],
   "source": [
    "sns.histplot(df, x = \"Price\")"
   ]
  },
  {
   "cell_type": "code",
   "execution_count": 58,
   "id": "5b0ff0f6",
   "metadata": {},
   "outputs": [
    {
     "data": {
      "text/plain": [
       "<AxesSubplot:xlabel='Price', ylabel='New_Price'>"
      ]
     },
     "execution_count": 58,
     "metadata": {},
     "output_type": "execute_result"
    },
    {
     "data": {
      "image/png": "[encoded data removed]",
      "text/plain": [
       "<Figure size 432x288 with 1 Axes>"
      ]
     },
     "metadata": {
      "needs_background": "light"
     },
     "output_type": "display_data"
    }
   ],
   "source": [
    "sns.scatterplot(df, x= \"Price\", y = \"New_Price\" )"
   ]
  },
  {
   "cell_type": "code",
   "execution_count": 59,
   "id": "868e3ff0",
   "metadata": {},
   "outputs": [
    {
     "data": {
      "text/plain": [
       "Text(0.5, 1.0, 'Price')"
      ]
     },
     "execution_count": 59,
     "metadata": {},
     "output_type": "execute_result"
    },
    {
     "data": {
      "image/png": "[encoded data removed]",
      "text/plain": [
       "<Figure size 432x288 with 1 Axes>"
      ]
     },
     "metadata": {
      "needs_background": "light"
     },
     "output_type": "display_data"
    }
   ],
   "source": [
    "sns.histplot(data =df, x = \"Price\")\n",
    "plt.ylabel(\"Engine\")\n",
    "plt.title(\"Price\")"
   ]
  },
  {
   "cell_type": "code",
   "execution_count": 60,
   "id": "d4f5cb91",
   "metadata": {},
   "outputs": [
    {
     "data": {
      "text/plain": [
       "<AxesSubplot:xlabel='Price', ylabel='Count'>"
      ]
     },
     "execution_count": 60,
     "metadata": {},
     "output_type": "execute_result"
    },
    {
     "data": {
      "image/png": "[encoded data removed]",
      "text/plain": [
       "<Figure size 432x288 with 1 Axes>"
      ]
     },
     "metadata": {
      "needs_background": "light"
     },
     "output_type": "display_data"
    }
   ],
   "source": [
    "\n",
    "sns.histplot(data =df, x = \"Price\")"
   ]
  },
  {
   "cell_type": "code",
   "execution_count": 61,
   "id": "a8ee38ff",
   "metadata": {},
   "outputs": [
    {
     "data": {
      "image/png": "[encoded data removed]",
      "text/plain": [
       "<Figure size 432x288 with 1 Axes>"
      ]
     },
     "metadata": {
      "needs_background": "light"
     },
     "output_type": "display_data"
    }
   ],
   "source": [
    "sns.boxplot(data = df, x = \"Price\");\n",
    "\n",
    "plt.savefig(\"Price.png\")"
   ]
  },
  {
   "cell_type": "code",
   "execution_count": 62,
   "id": "add1b8c0",
   "metadata": {},
   "outputs": [
    {
     "data": {
      "image/png": "[encoded data removed]",
      "text/plain": [
       "<Figure size 432x288 with 1 Axes>"
      ]
     },
     "metadata": {
      "needs_background": "light"
     },
     "output_type": "display_data"
    }
   ],
   "source": [
    "sns.countplot(data = df, x = \"Price\");"
   ]
  },
  {
   "cell_type": "code",
   "execution_count": 63,
   "id": "03d30737",
   "metadata": {},
   "outputs": [
    {
     "data": {
      "image/png": "[encoded data removed]",
      "text/plain": [
       "<Figure size 432x288 with 1 Axes>"
      ]
     },
     "metadata": {
      "needs_background": "light"
     },
     "output_type": "display_data"
    }
   ],
   "source": [
    "sns.countplot(data = df, x = \"Price\")\n",
    "plt.xticks(rotation = 90);"
   ]
  },
  {
   "cell_type": "code",
   "execution_count": 64,
   "id": "e32ee6c1",
   "metadata": {},
   "outputs": [
    {
     "data": {
      "image/png": "[encoded data removed]",
      "text/plain": [
       "<Figure size 432x288 with 1 Axes>"
      ]
     },
     "metadata": {
      "needs_background": "light"
     },
     "output_type": "display_data"
    }
   ],
   "source": [
    "sns.countplot(data = df, x = \"Engine\")\n",
    "plt.xticks(rotation = 90);"
   ]
  },
  {
   "cell_type": "code",
   "execution_count": 65,
   "id": "8e0adb3d",
   "metadata": {},
   "outputs": [
    {
     "data": {
      "image/png": "[encoded data removed]",
      "text/plain": [
       "<Figure size 432x288 with 1 Axes>"
      ]
     },
     "metadata": {
      "needs_background": "light"
     },
     "output_type": "display_data"
    }
   ],
   "source": [
    "sns.countplot(data = df, x = \"Location\")\n",
    "plt.xticks(rotation = 90);"
   ]
  },
  {
   "cell_type": "code",
   "execution_count": 66,
   "id": "c0dea1db",
   "metadata": {},
   "outputs": [
    {
     "data": {
      "image/png": "[encoded data removed]",
      "text/plain": [
       "<Figure size 432x288 with 1 Axes>"
      ]
     },
     "metadata": {
      "needs_background": "light"
     },
     "output_type": "display_data"
    }
   ],
   "source": [
    "sns.countplot(data = df, x = \"Year\")\n",
    "plt.xticks(rotation = 90);"
   ]
  },
  {
   "cell_type": "code",
   "execution_count": 67,
   "id": "c333441f",
   "metadata": {},
   "outputs": [
    {
     "data": {
      "image/png": "[encoded data removed]",
      "text/plain": [
       "<Figure size 432x288 with 1 Axes>"
      ]
     },
     "metadata": {
      "needs_background": "light"
     },
     "output_type": "display_data"
    }
   ],
   "source": [
    "sns.countplot(data = df, x = \"Mileage\")\n",
    "plt.xticks(rotation = 90);"
   ]
  },
  {
   "cell_type": "code",
   "execution_count": 68,
   "id": "86faab0b",
   "metadata": {},
   "outputs": [
    {
     "data": {
      "text/plain": [
       "<AxesSubplot:xlabel='Price', ylabel='Year'>"
      ]
     },
     "execution_count": 68,
     "metadata": {},
     "output_type": "execute_result"
    },
    {
     "data": {
      "image/png": "[encoded data removed]",
      "text/plain": [
       "<Figure size 432x288 with 1 Axes>"
      ]
     },
     "metadata": {
      "needs_background": "light"
     },
     "output_type": "display_data"
    }
   ],
   "source": [
    "sns.scatterplot(df, x=\"Price\", y = \"Year\")"
   ]
  },
  {
   "cell_type": "code",
   "execution_count": 69,
   "id": "a9751054",
   "metadata": {},
   "outputs": [
    {
     "data": {
      "text/plain": [
       "<AxesSubplot:xlabel='Price', ylabel='Location'>"
      ]
     },
     "execution_count": 69,
     "metadata": {},
     "output_type": "execute_result"
    },
    {
     "data": {
      "image/png": "[encoded data removed]",
      "text/plain": [
       "<Figure size 432x288 with 1 Axes>"
      ]
     },
     "metadata": {
      "needs_background": "light"
     },
     "output_type": "display_data"
    }
   ],
   "source": [
    "sns.histplot(df, x=\"Price\", y = \"Location\")"
   ]
  },
  {
   "cell_type": "markdown",
   "id": "91f39e6d",
   "metadata": {},
   "source": [
    "# you still have missing values, you cannot start building a model until you have filled or dropped all missing values"
   ]
  },
  {
   "cell_type": "code",
   "execution_count": 70,
   "id": "c5c676a3",
   "metadata": {},
   "outputs": [],
   "source": [
    "x = df.drop(['Price', 'Location'], axis =1)\n",
    "y = df['Price']"
   ]
  },
  {
   "cell_type": "code",
   "execution_count": 71,
   "id": "3eaf9b4e",
   "metadata": {},
   "outputs": [
    {
     "data": {
      "text/html": [
       "<div>\n",
       "<style scoped>\n",
       "    .dataframe tbody tr th:only-of-type {\n",
       "        vertical-align: middle;\n",
       "    }\n",
       "\n",
       "    .dataframe tbody tr th {\n",
       "        vertical-align: top;\n",
       "    }\n",
       "\n",
       "    .dataframe thead th {\n",
       "        text-align: right;\n",
       "    }\n",
       "</style>\n",
       "<table border=\"1\" class=\"dataframe\">\n",
       "  <thead>\n",
       "    <tr style=\"text-align: right;\">\n",
       "      <th></th>\n",
       "      <th>S.No.</th>\n",
       "      <th>Name</th>\n",
       "      <th>Location</th>\n",
       "      <th>Year</th>\n",
       "      <th>Kilometers_Driven</th>\n",
       "      <th>Fuel_Type</th>\n",
       "      <th>Transmission</th>\n",
       "      <th>Owner_Type</th>\n",
       "      <th>Mileage</th>\n",
       "      <th>Engine</th>\n",
       "      <th>Power</th>\n",
       "      <th>Seats</th>\n",
       "      <th>New_Price</th>\n",
       "      <th>Price</th>\n",
       "    </tr>\n",
       "  </thead>\n",
       "  <tbody>\n",
       "    <tr>\n",
       "      <th>0</th>\n",
       "      <td>0</td>\n",
       "      <td>Maruti Wagon R LXI CNG</td>\n",
       "      <td>Mumbai</td>\n",
       "      <td>2010</td>\n",
       "      <td>72000</td>\n",
       "      <td>CNG</td>\n",
       "      <td>Manual</td>\n",
       "      <td>First</td>\n",
       "      <td>26.6 km/kg</td>\n",
       "      <td>998.0</td>\n",
       "      <td>58.16</td>\n",
       "      <td>5.0</td>\n",
       "      <td>5.51</td>\n",
       "      <td>1.75</td>\n",
       "    </tr>\n",
       "    <tr>\n",
       "      <th>1</th>\n",
       "      <td>1</td>\n",
       "      <td>Hyundai Creta 1.6 CRDi SX Option</td>\n",
       "      <td>Pune</td>\n",
       "      <td>2015</td>\n",
       "      <td>41000</td>\n",
       "      <td>Diesel</td>\n",
       "      <td>Manual</td>\n",
       "      <td>First</td>\n",
       "      <td>19.67 kmpl</td>\n",
       "      <td>1582.0</td>\n",
       "      <td>126.20</td>\n",
       "      <td>5.0</td>\n",
       "      <td>16.06</td>\n",
       "      <td>12.50</td>\n",
       "    </tr>\n",
       "    <tr>\n",
       "      <th>2</th>\n",
       "      <td>2</td>\n",
       "      <td>Honda Jazz V</td>\n",
       "      <td>Chennai</td>\n",
       "      <td>2011</td>\n",
       "      <td>46000</td>\n",
       "      <td>Petrol</td>\n",
       "      <td>Manual</td>\n",
       "      <td>First</td>\n",
       "      <td>18.2 kmpl</td>\n",
       "      <td>1199.0</td>\n",
       "      <td>88.70</td>\n",
       "      <td>5.0</td>\n",
       "      <td>8.61</td>\n",
       "      <td>4.50</td>\n",
       "    </tr>\n",
       "    <tr>\n",
       "      <th>3</th>\n",
       "      <td>3</td>\n",
       "      <td>Maruti Ertiga VDI</td>\n",
       "      <td>Chennai</td>\n",
       "      <td>2012</td>\n",
       "      <td>87000</td>\n",
       "      <td>Diesel</td>\n",
       "      <td>Manual</td>\n",
       "      <td>First</td>\n",
       "      <td>20.77 kmpl</td>\n",
       "      <td>1248.0</td>\n",
       "      <td>88.76</td>\n",
       "      <td>7.0</td>\n",
       "      <td>11.27</td>\n",
       "      <td>6.00</td>\n",
       "    </tr>\n",
       "    <tr>\n",
       "      <th>4</th>\n",
       "      <td>4</td>\n",
       "      <td>Audi A4 New 2.0 TDI Multitronic</td>\n",
       "      <td>Coimbatore</td>\n",
       "      <td>2013</td>\n",
       "      <td>40670</td>\n",
       "      <td>Diesel</td>\n",
       "      <td>Automatic</td>\n",
       "      <td>Second</td>\n",
       "      <td>15.2 kmpl</td>\n",
       "      <td>1968.0</td>\n",
       "      <td>140.80</td>\n",
       "      <td>5.0</td>\n",
       "      <td>53.14</td>\n",
       "      <td>17.74</td>\n",
       "    </tr>\n",
       "    <tr>\n",
       "      <th>...</th>\n",
       "      <td>...</td>\n",
       "      <td>...</td>\n",
       "      <td>...</td>\n",
       "      <td>...</td>\n",
       "      <td>...</td>\n",
       "      <td>...</td>\n",
       "      <td>...</td>\n",
       "      <td>...</td>\n",
       "      <td>...</td>\n",
       "      <td>...</td>\n",
       "      <td>...</td>\n",
       "      <td>...</td>\n",
       "      <td>...</td>\n",
       "      <td>...</td>\n",
       "    </tr>\n",
       "    <tr>\n",
       "      <th>7248</th>\n",
       "      <td>7248</td>\n",
       "      <td>Volkswagen Vento Diesel Trendline</td>\n",
       "      <td>Hyderabad</td>\n",
       "      <td>2011</td>\n",
       "      <td>89411</td>\n",
       "      <td>Diesel</td>\n",
       "      <td>Manual</td>\n",
       "      <td>First</td>\n",
       "      <td>20.54 kmpl</td>\n",
       "      <td>1598.0</td>\n",
       "      <td>103.60</td>\n",
       "      <td>5.0</td>\n",
       "      <td>13.23</td>\n",
       "      <td>NaN</td>\n",
       "    </tr>\n",
       "    <tr>\n",
       "      <th>7249</th>\n",
       "      <td>7249</td>\n",
       "      <td>Volkswagen Polo GT TSI</td>\n",
       "      <td>Mumbai</td>\n",
       "      <td>2015</td>\n",
       "      <td>59000</td>\n",
       "      <td>Petrol</td>\n",
       "      <td>Automatic</td>\n",
       "      <td>First</td>\n",
       "      <td>17.21 kmpl</td>\n",
       "      <td>1197.0</td>\n",
       "      <td>103.60</td>\n",
       "      <td>5.0</td>\n",
       "      <td>10.15</td>\n",
       "      <td>NaN</td>\n",
       "    </tr>\n",
       "    <tr>\n",
       "      <th>7250</th>\n",
       "      <td>7250</td>\n",
       "      <td>Nissan Micra Diesel XV</td>\n",
       "      <td>Kolkata</td>\n",
       "      <td>2012</td>\n",
       "      <td>28000</td>\n",
       "      <td>Diesel</td>\n",
       "      <td>Manual</td>\n",
       "      <td>First</td>\n",
       "      <td>23.08 kmpl</td>\n",
       "      <td>1461.0</td>\n",
       "      <td>63.10</td>\n",
       "      <td>5.0</td>\n",
       "      <td>9.47</td>\n",
       "      <td>NaN</td>\n",
       "    </tr>\n",
       "    <tr>\n",
       "      <th>7251</th>\n",
       "      <td>7251</td>\n",
       "      <td>Volkswagen Polo GT TSI</td>\n",
       "      <td>Pune</td>\n",
       "      <td>2013</td>\n",
       "      <td>52262</td>\n",
       "      <td>Petrol</td>\n",
       "      <td>Automatic</td>\n",
       "      <td>Third</td>\n",
       "      <td>17.2 kmpl</td>\n",
       "      <td>1197.0</td>\n",
       "      <td>103.60</td>\n",
       "      <td>5.0</td>\n",
       "      <td>10.15</td>\n",
       "      <td>NaN</td>\n",
       "    </tr>\n",
       "    <tr>\n",
       "      <th>7252</th>\n",
       "      <td>7252</td>\n",
       "      <td>Mercedes-Benz E-Class 2009-2013 E 220 CDI Avan...</td>\n",
       "      <td>Kochi</td>\n",
       "      <td>2014</td>\n",
       "      <td>72443</td>\n",
       "      <td>Diesel</td>\n",
       "      <td>Automatic</td>\n",
       "      <td>First</td>\n",
       "      <td>10.0 kmpl</td>\n",
       "      <td>2148.0</td>\n",
       "      <td>170.00</td>\n",
       "      <td>5.0</td>\n",
       "      <td>86.97</td>\n",
       "      <td>NaN</td>\n",
       "    </tr>\n",
       "  </tbody>\n",
       "</table>\n",
       "<p>7075 rows × 14 columns</p>\n",
       "</div>"
      ],
      "text/plain": [
       "      S.No.                                               Name    Location  \\\n",
       "0         0                             Maruti Wagon R LXI CNG      Mumbai   \n",
       "1         1                   Hyundai Creta 1.6 CRDi SX Option        Pune   \n",
       "2         2                                       Honda Jazz V     Chennai   \n",
       "3         3                                  Maruti Ertiga VDI     Chennai   \n",
       "4         4                    Audi A4 New 2.0 TDI Multitronic  Coimbatore   \n",
       "...     ...                                                ...         ...   \n",
       "7248   7248                  Volkswagen Vento Diesel Trendline   Hyderabad   \n",
       "7249   7249                             Volkswagen Polo GT TSI      Mumbai   \n",
       "7250   7250                             Nissan Micra Diesel XV     Kolkata   \n",
       "7251   7251                             Volkswagen Polo GT TSI        Pune   \n",
       "7252   7252  Mercedes-Benz E-Class 2009-2013 E 220 CDI Avan...       Kochi   \n",
       "\n",
       "      Year  Kilometers_Driven Fuel_Type Transmission Owner_Type     Mileage  \\\n",
       "0     2010              72000       CNG       Manual      First  26.6 km/kg   \n",
       "1     2015              41000    Diesel       Manual      First  19.67 kmpl   \n",
       "2     2011              46000    Petrol       Manual      First   18.2 kmpl   \n",
       "3     2012              87000    Diesel       Manual      First  20.77 kmpl   \n",
       "4     2013              40670    Diesel    Automatic     Second   15.2 kmpl   \n",
       "...    ...                ...       ...          ...        ...         ...   \n",
       "7248  2011              89411    Diesel       Manual      First  20.54 kmpl   \n",
       "7249  2015              59000    Petrol    Automatic      First  17.21 kmpl   \n",
       "7250  2012              28000    Diesel       Manual      First  23.08 kmpl   \n",
       "7251  2013              52262    Petrol    Automatic      Third   17.2 kmpl   \n",
       "7252  2014              72443    Diesel    Automatic      First   10.0 kmpl   \n",
       "\n",
       "      Engine   Power  Seats  New_Price  Price  \n",
       "0      998.0   58.16    5.0       5.51   1.75  \n",
       "1     1582.0  126.20    5.0      16.06  12.50  \n",
       "2     1199.0   88.70    5.0       8.61   4.50  \n",
       "3     1248.0   88.76    7.0      11.27   6.00  \n",
       "4     1968.0  140.80    5.0      53.14  17.74  \n",
       "...      ...     ...    ...        ...    ...  \n",
       "7248  1598.0  103.60    5.0      13.23    NaN  \n",
       "7249  1197.0  103.60    5.0      10.15    NaN  \n",
       "7250  1461.0   63.10    5.0       9.47    NaN  \n",
       "7251  1197.0  103.60    5.0      10.15    NaN  \n",
       "7252  2148.0  170.00    5.0      86.97    NaN  \n",
       "\n",
       "[7075 rows x 14 columns]"
      ]
     },
     "execution_count": 71,
     "metadata": {},
     "output_type": "execute_result"
    }
   ],
   "source": [
    "df"
   ]
  },
  {
   "cell_type": "code",
   "execution_count": 72,
   "id": "768637eb",
   "metadata": {},
   "outputs": [
    {
     "data": {
      "text/plain": [
       "60000     93\n",
       "45000     85\n",
       "65000     83\n",
       "70000     72\n",
       "50000     72\n",
       "          ..\n",
       "20773      1\n",
       "66355      1\n",
       "115800     1\n",
       "41125      1\n",
       "72443      1\n",
       "Name: Kilometers_Driven, Length: 3593, dtype: int64"
      ]
     },
     "execution_count": 72,
     "metadata": {},
     "output_type": "execute_result"
    }
   ],
   "source": [
    "df['Kilometers_Driven'].value_counts()"
   ]
  },
  {
   "cell_type": "code",
   "execution_count": 73,
   "id": "68c02189",
   "metadata": {},
   "outputs": [
    {
     "data": {
      "text/html": [
       "<div>\n",
       "<style scoped>\n",
       "    .dataframe tbody tr th:only-of-type {\n",
       "        vertical-align: middle;\n",
       "    }\n",
       "\n",
       "    .dataframe tbody tr th {\n",
       "        vertical-align: top;\n",
       "    }\n",
       "\n",
       "    .dataframe thead th {\n",
       "        text-align: right;\n",
       "    }\n",
       "</style>\n",
       "<table border=\"1\" class=\"dataframe\">\n",
       "  <thead>\n",
       "    <tr style=\"text-align: right;\">\n",
       "      <th></th>\n",
       "      <th>S.No.</th>\n",
       "      <th>Name</th>\n",
       "      <th>Year</th>\n",
       "      <th>Kilometers_Driven</th>\n",
       "      <th>Fuel_Type</th>\n",
       "      <th>Transmission</th>\n",
       "      <th>Owner_Type</th>\n",
       "      <th>Mileage</th>\n",
       "      <th>Engine</th>\n",
       "      <th>Power</th>\n",
       "      <th>Seats</th>\n",
       "      <th>New_Price</th>\n",
       "    </tr>\n",
       "  </thead>\n",
       "  <tbody>\n",
       "    <tr>\n",
       "      <th>0</th>\n",
       "      <td>0</td>\n",
       "      <td>Maruti Wagon R LXI CNG</td>\n",
       "      <td>2010</td>\n",
       "      <td>72000</td>\n",
       "      <td>CNG</td>\n",
       "      <td>Manual</td>\n",
       "      <td>First</td>\n",
       "      <td>26.6 km/kg</td>\n",
       "      <td>998.0</td>\n",
       "      <td>58.16</td>\n",
       "      <td>5.0</td>\n",
       "      <td>5.51</td>\n",
       "    </tr>\n",
       "    <tr>\n",
       "      <th>1</th>\n",
       "      <td>1</td>\n",
       "      <td>Hyundai Creta 1.6 CRDi SX Option</td>\n",
       "      <td>2015</td>\n",
       "      <td>41000</td>\n",
       "      <td>Diesel</td>\n",
       "      <td>Manual</td>\n",
       "      <td>First</td>\n",
       "      <td>19.67 kmpl</td>\n",
       "      <td>1582.0</td>\n",
       "      <td>126.20</td>\n",
       "      <td>5.0</td>\n",
       "      <td>16.06</td>\n",
       "    </tr>\n",
       "    <tr>\n",
       "      <th>2</th>\n",
       "      <td>2</td>\n",
       "      <td>Honda Jazz V</td>\n",
       "      <td>2011</td>\n",
       "      <td>46000</td>\n",
       "      <td>Petrol</td>\n",
       "      <td>Manual</td>\n",
       "      <td>First</td>\n",
       "      <td>18.2 kmpl</td>\n",
       "      <td>1199.0</td>\n",
       "      <td>88.70</td>\n",
       "      <td>5.0</td>\n",
       "      <td>8.61</td>\n",
       "    </tr>\n",
       "    <tr>\n",
       "      <th>3</th>\n",
       "      <td>3</td>\n",
       "      <td>Maruti Ertiga VDI</td>\n",
       "      <td>2012</td>\n",
       "      <td>87000</td>\n",
       "      <td>Diesel</td>\n",
       "      <td>Manual</td>\n",
       "      <td>First</td>\n",
       "      <td>20.77 kmpl</td>\n",
       "      <td>1248.0</td>\n",
       "      <td>88.76</td>\n",
       "      <td>7.0</td>\n",
       "      <td>11.27</td>\n",
       "    </tr>\n",
       "    <tr>\n",
       "      <th>4</th>\n",
       "      <td>4</td>\n",
       "      <td>Audi A4 New 2.0 TDI Multitronic</td>\n",
       "      <td>2013</td>\n",
       "      <td>40670</td>\n",
       "      <td>Diesel</td>\n",
       "      <td>Automatic</td>\n",
       "      <td>Second</td>\n",
       "      <td>15.2 kmpl</td>\n",
       "      <td>1968.0</td>\n",
       "      <td>140.80</td>\n",
       "      <td>5.0</td>\n",
       "      <td>53.14</td>\n",
       "    </tr>\n",
       "    <tr>\n",
       "      <th>...</th>\n",
       "      <td>...</td>\n",
       "      <td>...</td>\n",
       "      <td>...</td>\n",
       "      <td>...</td>\n",
       "      <td>...</td>\n",
       "      <td>...</td>\n",
       "      <td>...</td>\n",
       "      <td>...</td>\n",
       "      <td>...</td>\n",
       "      <td>...</td>\n",
       "      <td>...</td>\n",
       "      <td>...</td>\n",
       "    </tr>\n",
       "    <tr>\n",
       "      <th>7248</th>\n",
       "      <td>7248</td>\n",
       "      <td>Volkswagen Vento Diesel Trendline</td>\n",
       "      <td>2011</td>\n",
       "      <td>89411</td>\n",
       "      <td>Diesel</td>\n",
       "      <td>Manual</td>\n",
       "      <td>First</td>\n",
       "      <td>20.54 kmpl</td>\n",
       "      <td>1598.0</td>\n",
       "      <td>103.60</td>\n",
       "      <td>5.0</td>\n",
       "      <td>13.23</td>\n",
       "    </tr>\n",
       "    <tr>\n",
       "      <th>7249</th>\n",
       "      <td>7249</td>\n",
       "      <td>Volkswagen Polo GT TSI</td>\n",
       "      <td>2015</td>\n",
       "      <td>59000</td>\n",
       "      <td>Petrol</td>\n",
       "      <td>Automatic</td>\n",
       "      <td>First</td>\n",
       "      <td>17.21 kmpl</td>\n",
       "      <td>1197.0</td>\n",
       "      <td>103.60</td>\n",
       "      <td>5.0</td>\n",
       "      <td>10.15</td>\n",
       "    </tr>\n",
       "    <tr>\n",
       "      <th>7250</th>\n",
       "      <td>7250</td>\n",
       "      <td>Nissan Micra Diesel XV</td>\n",
       "      <td>2012</td>\n",
       "      <td>28000</td>\n",
       "      <td>Diesel</td>\n",
       "      <td>Manual</td>\n",
       "      <td>First</td>\n",
       "      <td>23.08 kmpl</td>\n",
       "      <td>1461.0</td>\n",
       "      <td>63.10</td>\n",
       "      <td>5.0</td>\n",
       "      <td>9.47</td>\n",
       "    </tr>\n",
       "    <tr>\n",
       "      <th>7251</th>\n",
       "      <td>7251</td>\n",
       "      <td>Volkswagen Polo GT TSI</td>\n",
       "      <td>2013</td>\n",
       "      <td>52262</td>\n",
       "      <td>Petrol</td>\n",
       "      <td>Automatic</td>\n",
       "      <td>Third</td>\n",
       "      <td>17.2 kmpl</td>\n",
       "      <td>1197.0</td>\n",
       "      <td>103.60</td>\n",
       "      <td>5.0</td>\n",
       "      <td>10.15</td>\n",
       "    </tr>\n",
       "    <tr>\n",
       "      <th>7252</th>\n",
       "      <td>7252</td>\n",
       "      <td>Mercedes-Benz E-Class 2009-2013 E 220 CDI Avan...</td>\n",
       "      <td>2014</td>\n",
       "      <td>72443</td>\n",
       "      <td>Diesel</td>\n",
       "      <td>Automatic</td>\n",
       "      <td>First</td>\n",
       "      <td>10.0 kmpl</td>\n",
       "      <td>2148.0</td>\n",
       "      <td>170.00</td>\n",
       "      <td>5.0</td>\n",
       "      <td>86.97</td>\n",
       "    </tr>\n",
       "  </tbody>\n",
       "</table>\n",
       "<p>7075 rows × 12 columns</p>\n",
       "</div>"
      ],
      "text/plain": [
       "      S.No.                                               Name  Year  \\\n",
       "0         0                             Maruti Wagon R LXI CNG  2010   \n",
       "1         1                   Hyundai Creta 1.6 CRDi SX Option  2015   \n",
       "2         2                                       Honda Jazz V  2011   \n",
       "3         3                                  Maruti Ertiga VDI  2012   \n",
       "4         4                    Audi A4 New 2.0 TDI Multitronic  2013   \n",
       "...     ...                                                ...   ...   \n",
       "7248   7248                  Volkswagen Vento Diesel Trendline  2011   \n",
       "7249   7249                             Volkswagen Polo GT TSI  2015   \n",
       "7250   7250                             Nissan Micra Diesel XV  2012   \n",
       "7251   7251                             Volkswagen Polo GT TSI  2013   \n",
       "7252   7252  Mercedes-Benz E-Class 2009-2013 E 220 CDI Avan...  2014   \n",
       "\n",
       "      Kilometers_Driven Fuel_Type Transmission Owner_Type     Mileage  Engine  \\\n",
       "0                 72000       CNG       Manual      First  26.6 km/kg   998.0   \n",
       "1                 41000    Diesel       Manual      First  19.67 kmpl  1582.0   \n",
       "2                 46000    Petrol       Manual      First   18.2 kmpl  1199.0   \n",
       "3                 87000    Diesel       Manual      First  20.77 kmpl  1248.0   \n",
       "4                 40670    Diesel    Automatic     Second   15.2 kmpl  1968.0   \n",
       "...                 ...       ...          ...        ...         ...     ...   \n",
       "7248              89411    Diesel       Manual      First  20.54 kmpl  1598.0   \n",
       "7249              59000    Petrol    Automatic      First  17.21 kmpl  1197.0   \n",
       "7250              28000    Diesel       Manual      First  23.08 kmpl  1461.0   \n",
       "7251              52262    Petrol    Automatic      Third   17.2 kmpl  1197.0   \n",
       "7252              72443    Diesel    Automatic      First   10.0 kmpl  2148.0   \n",
       "\n",
       "       Power  Seats  New_Price  \n",
       "0      58.16    5.0       5.51  \n",
       "1     126.20    5.0      16.06  \n",
       "2      88.70    5.0       8.61  \n",
       "3      88.76    7.0      11.27  \n",
       "4     140.80    5.0      53.14  \n",
       "...      ...    ...        ...  \n",
       "7248  103.60    5.0      13.23  \n",
       "7249  103.60    5.0      10.15  \n",
       "7250   63.10    5.0       9.47  \n",
       "7251  103.60    5.0      10.15  \n",
       "7252  170.00    5.0      86.97  \n",
       "\n",
       "[7075 rows x 12 columns]"
      ]
     },
     "execution_count": 73,
     "metadata": {},
     "output_type": "execute_result"
    }
   ],
   "source": [
    "x"
   ]
  },
  {
   "cell_type": "code",
   "execution_count": 74,
   "id": "ad1710d1",
   "metadata": {
    "scrolled": true
   },
   "outputs": [
    {
     "data": {
      "text/plain": [
       "S.No.                0\n",
       "Name                 0\n",
       "Year                 0\n",
       "Kilometers_Driven    0\n",
       "Fuel_Type            0\n",
       "Transmission         0\n",
       "Owner_Type           0\n",
       "Mileage              2\n",
       "Engine               0\n",
       "Power                0\n",
       "Seats                0\n",
       "New_Price            0\n",
       "dtype: int64"
      ]
     },
     "execution_count": 74,
     "metadata": {},
     "output_type": "execute_result"
    }
   ],
   "source": [
    "x.isnull().sum()"
   ]
  },
  {
   "cell_type": "code",
   "execution_count": 75,
   "id": "b5fc7cfb",
   "metadata": {},
   "outputs": [
    {
     "data": {
      "text/plain": [
       "0        1.75\n",
       "1       12.50\n",
       "2        4.50\n",
       "3        6.00\n",
       "4       17.74\n",
       "        ...  \n",
       "7248      NaN\n",
       "7249      NaN\n",
       "7250      NaN\n",
       "7251      NaN\n",
       "7252      NaN\n",
       "Name: Price, Length: 7075, dtype: float64"
      ]
     },
     "execution_count": 75,
     "metadata": {},
     "output_type": "execute_result"
    }
   ],
   "source": [
    "y"
   ]
  },
  {
   "cell_type": "code",
   "execution_count": 76,
   "id": "ec93eb97",
   "metadata": {},
   "outputs": [
    {
     "data": {
      "text/plain": [
       "array([ 1.75, 12.5 ,  4.5 , ..., 17.56,  7.43,   nan])"
      ]
     },
     "execution_count": 76,
     "metadata": {},
     "output_type": "execute_result"
    }
   ],
   "source": [
    "y.unique()"
   ]
  },
  {
   "cell_type": "code",
   "execution_count": 77,
   "id": "16fc4a04",
   "metadata": {},
   "outputs": [
    {
     "data": {
      "text/plain": [
       "count    5874.000000\n",
       "mean        9.605032\n",
       "std        11.247700\n",
       "min         0.440000\n",
       "25%         3.520000\n",
       "50%         5.750000\n",
       "75%        10.037500\n",
       "max       160.000000\n",
       "Name: Price, dtype: float64"
      ]
     },
     "execution_count": 77,
     "metadata": {},
     "output_type": "execute_result"
    }
   ],
   "source": [
    "y.describe()"
   ]
  },
  {
   "cell_type": "code",
   "execution_count": 43,
   "id": "f249a631",
   "metadata": {},
   "outputs": [
    {
     "data": {
      "text/plain": [
       "S.No.                   0\n",
       "Name                    0\n",
       "Location                0\n",
       "Year                    0\n",
       "Kilometers_Driven       0\n",
       "Fuel_Type               0\n",
       "Transmission            0\n",
       "Owner_Type              0\n",
       "Mileage                 2\n",
       "Engine                  0\n",
       "Power                   0\n",
       "Seats                   0\n",
       "New_Price               0\n",
       "Price                1201\n",
       "New_Mileage             2\n",
       "dtype: int64"
      ]
     },
     "execution_count": 43,
     "metadata": {},
     "output_type": "execute_result"
    }
   ],
   "source": [
    "df.isna().sum()"
   ]
  },
  {
   "cell_type": "markdown",
   "id": "7087d276",
   "metadata": {},
   "source": [
    "## the code below will return an empty dataframe for path.\n",
    "## you can not use inplace=True and be saving into a new variable at the same time"
   ]
  },
  {
   "cell_type": "code",
   "execution_count": 44,
   "id": "736de05f",
   "metadata": {},
   "outputs": [],
   "source": [
    "path = df.dropna(subset = [\"Engine\", \"Power\", \"Seats\", \"Price\"], inplace = True)"
   ]
  },
  {
   "cell_type": "code",
   "execution_count": 46,
   "id": "c7c05187",
   "metadata": {},
   "outputs": [],
   "source": [
    "#path will be an empty dataset\n",
    "path"
   ]
  },
  {
   "cell_type": "code",
   "execution_count": null,
   "id": "8088cb68",
   "metadata": {},
   "outputs": [],
   "source": [
    "## do it this way\n",
    "#df.dropna(subset = [\"Engine\", \"Power\", \"Seats\", \"Price\"], inplace = True)\n",
    "\n",
    "#or \n",
    "\n",
    "#path = df.dropna(subset = [\"Engine\", \"Power\", \"Seats\", \"Price\"])"
   ]
  },
  {
   "cell_type": "code",
   "execution_count": 80,
   "id": "f421b794",
   "metadata": {},
   "outputs": [
    {
     "data": {
      "text/html": [
       "<div>\n",
       "<style scoped>\n",
       "    .dataframe tbody tr th:only-of-type {\n",
       "        vertical-align: middle;\n",
       "    }\n",
       "\n",
       "    .dataframe tbody tr th {\n",
       "        vertical-align: top;\n",
       "    }\n",
       "\n",
       "    .dataframe thead th {\n",
       "        text-align: right;\n",
       "    }\n",
       "</style>\n",
       "<table border=\"1\" class=\"dataframe\">\n",
       "  <thead>\n",
       "    <tr style=\"text-align: right;\">\n",
       "      <th></th>\n",
       "      <th>S.No.</th>\n",
       "      <th>Name</th>\n",
       "      <th>Location</th>\n",
       "      <th>Year</th>\n",
       "      <th>Kilometers_Driven</th>\n",
       "      <th>Fuel_Type</th>\n",
       "      <th>Transmission</th>\n",
       "      <th>Owner_Type</th>\n",
       "      <th>Mileage</th>\n",
       "      <th>Engine</th>\n",
       "      <th>Power</th>\n",
       "      <th>Seats</th>\n",
       "      <th>New_Price</th>\n",
       "      <th>Price</th>\n",
       "    </tr>\n",
       "  </thead>\n",
       "  <tbody>\n",
       "    <tr>\n",
       "      <th>0</th>\n",
       "      <td>0</td>\n",
       "      <td>Maruti Wagon R LXI CNG</td>\n",
       "      <td>Mumbai</td>\n",
       "      <td>2010</td>\n",
       "      <td>72000</td>\n",
       "      <td>CNG</td>\n",
       "      <td>Manual</td>\n",
       "      <td>First</td>\n",
       "      <td>26.6 km/kg</td>\n",
       "      <td>998.0</td>\n",
       "      <td>58.16</td>\n",
       "      <td>5.0</td>\n",
       "      <td>5.51</td>\n",
       "      <td>1.75</td>\n",
       "    </tr>\n",
       "    <tr>\n",
       "      <th>1</th>\n",
       "      <td>1</td>\n",
       "      <td>Hyundai Creta 1.6 CRDi SX Option</td>\n",
       "      <td>Pune</td>\n",
       "      <td>2015</td>\n",
       "      <td>41000</td>\n",
       "      <td>Diesel</td>\n",
       "      <td>Manual</td>\n",
       "      <td>First</td>\n",
       "      <td>19.67 kmpl</td>\n",
       "      <td>1582.0</td>\n",
       "      <td>126.20</td>\n",
       "      <td>5.0</td>\n",
       "      <td>16.06</td>\n",
       "      <td>12.50</td>\n",
       "    </tr>\n",
       "    <tr>\n",
       "      <th>2</th>\n",
       "      <td>2</td>\n",
       "      <td>Honda Jazz V</td>\n",
       "      <td>Chennai</td>\n",
       "      <td>2011</td>\n",
       "      <td>46000</td>\n",
       "      <td>Petrol</td>\n",
       "      <td>Manual</td>\n",
       "      <td>First</td>\n",
       "      <td>18.2 kmpl</td>\n",
       "      <td>1199.0</td>\n",
       "      <td>88.70</td>\n",
       "      <td>5.0</td>\n",
       "      <td>8.61</td>\n",
       "      <td>4.50</td>\n",
       "    </tr>\n",
       "    <tr>\n",
       "      <th>3</th>\n",
       "      <td>3</td>\n",
       "      <td>Maruti Ertiga VDI</td>\n",
       "      <td>Chennai</td>\n",
       "      <td>2012</td>\n",
       "      <td>87000</td>\n",
       "      <td>Diesel</td>\n",
       "      <td>Manual</td>\n",
       "      <td>First</td>\n",
       "      <td>20.77 kmpl</td>\n",
       "      <td>1248.0</td>\n",
       "      <td>88.76</td>\n",
       "      <td>7.0</td>\n",
       "      <td>11.27</td>\n",
       "      <td>6.00</td>\n",
       "    </tr>\n",
       "    <tr>\n",
       "      <th>4</th>\n",
       "      <td>4</td>\n",
       "      <td>Audi A4 New 2.0 TDI Multitronic</td>\n",
       "      <td>Coimbatore</td>\n",
       "      <td>2013</td>\n",
       "      <td>40670</td>\n",
       "      <td>Diesel</td>\n",
       "      <td>Automatic</td>\n",
       "      <td>Second</td>\n",
       "      <td>15.2 kmpl</td>\n",
       "      <td>1968.0</td>\n",
       "      <td>140.80</td>\n",
       "      <td>5.0</td>\n",
       "      <td>53.14</td>\n",
       "      <td>17.74</td>\n",
       "    </tr>\n",
       "  </tbody>\n",
       "</table>\n",
       "</div>"
      ],
      "text/plain": [
       "   S.No.                              Name    Location  Year  \\\n",
       "0      0            Maruti Wagon R LXI CNG      Mumbai  2010   \n",
       "1      1  Hyundai Creta 1.6 CRDi SX Option        Pune  2015   \n",
       "2      2                      Honda Jazz V     Chennai  2011   \n",
       "3      3                 Maruti Ertiga VDI     Chennai  2012   \n",
       "4      4   Audi A4 New 2.0 TDI Multitronic  Coimbatore  2013   \n",
       "\n",
       "   Kilometers_Driven Fuel_Type Transmission Owner_Type     Mileage  Engine  \\\n",
       "0              72000       CNG       Manual      First  26.6 km/kg   998.0   \n",
       "1              41000    Diesel       Manual      First  19.67 kmpl  1582.0   \n",
       "2              46000    Petrol       Manual      First   18.2 kmpl  1199.0   \n",
       "3              87000    Diesel       Manual      First  20.77 kmpl  1248.0   \n",
       "4              40670    Diesel    Automatic     Second   15.2 kmpl  1968.0   \n",
       "\n",
       "    Power  Seats  New_Price  Price  \n",
       "0   58.16    5.0       5.51   1.75  \n",
       "1  126.20    5.0      16.06  12.50  \n",
       "2   88.70    5.0       8.61   4.50  \n",
       "3   88.76    7.0      11.27   6.00  \n",
       "4  140.80    5.0      53.14  17.74  "
      ]
     },
     "execution_count": 80,
     "metadata": {},
     "output_type": "execute_result"
    }
   ],
   "source": [
    "df.head()"
   ]
  },
  {
   "cell_type": "code",
   "execution_count": 81,
   "id": "1f065a3b",
   "metadata": {},
   "outputs": [
    {
     "data": {
      "text/plain": [
       "82236"
      ]
     },
     "execution_count": 81,
     "metadata": {},
     "output_type": "execute_result"
    }
   ],
   "source": [
    "df.size"
   ]
  },
  {
   "cell_type": "markdown",
   "id": "7c7857c6",
   "metadata": {},
   "source": [
    "# i do not understand what you are trying to achieve here"
   ]
  },
  {
   "cell_type": "code",
   "execution_count": 82,
   "id": "50f12cc7",
   "metadata": {},
   "outputs": [
    {
     "ename": "KeyError",
     "evalue": "('Engine', 'Power', 'Seats', 'Price')",
     "output_type": "error",
     "traceback": [
      "\u001b[1;31m---------------------------------------------------------------------------\u001b[0m",
      "\u001b[1;31mKeyError\u001b[0m                                  Traceback (most recent call last)",
      "\u001b[1;32mC:\\Program Files\\ArcGIS\\Pro\\bin\\Python\\envs\\arcgispro-py3\\lib\\site-packages\\pandas\\core\\indexes\\base.py\u001b[0m in \u001b[0;36mget_loc\u001b[1;34m(self, key, method, tolerance)\u001b[0m\n\u001b[0;32m   3360\u001b[0m             \u001b[1;32mtry\u001b[0m\u001b[1;33m:\u001b[0m\u001b[1;33m\u001b[0m\u001b[1;33m\u001b[0m\u001b[0m\n\u001b[1;32m-> 3361\u001b[1;33m                 \u001b[1;32mreturn\u001b[0m \u001b[0mself\u001b[0m\u001b[1;33m.\u001b[0m\u001b[0m_engine\u001b[0m\u001b[1;33m.\u001b[0m\u001b[0mget_loc\u001b[0m\u001b[1;33m(\u001b[0m\u001b[0mcasted_key\u001b[0m\u001b[1;33m)\u001b[0m\u001b[1;33m\u001b[0m\u001b[1;33m\u001b[0m\u001b[0m\n\u001b[0m\u001b[0;32m   3362\u001b[0m             \u001b[1;32mexcept\u001b[0m \u001b[0mKeyError\u001b[0m \u001b[1;32mas\u001b[0m \u001b[0merr\u001b[0m\u001b[1;33m:\u001b[0m\u001b[1;33m\u001b[0m\u001b[1;33m\u001b[0m\u001b[0m\n",
      "\u001b[1;32mC:\\Program Files\\ArcGIS\\Pro\\bin\\Python\\envs\\arcgispro-py3\\lib\\site-packages\\pandas\\_libs\\index.pyx\u001b[0m in \u001b[0;36mpandas._libs.index.IndexEngine.get_loc\u001b[1;34m()\u001b[0m\n",
      "\u001b[1;32mC:\\Program Files\\ArcGIS\\Pro\\bin\\Python\\envs\\arcgispro-py3\\lib\\site-packages\\pandas\\_libs\\index.pyx\u001b[0m in \u001b[0;36mpandas._libs.index.IndexEngine.get_loc\u001b[1;34m()\u001b[0m\n",
      "\u001b[1;32mpandas\\_libs\\hashtable_class_helper.pxi\u001b[0m in \u001b[0;36mpandas._libs.hashtable.PyObjectHashTable.get_item\u001b[1;34m()\u001b[0m\n",
      "\u001b[1;32mpandas\\_libs\\hashtable_class_helper.pxi\u001b[0m in \u001b[0;36mpandas._libs.hashtable.PyObjectHashTable.get_item\u001b[1;34m()\u001b[0m\n",
      "\u001b[1;31mKeyError\u001b[0m: ('Engine', 'Power', 'Seats', 'Price')",
      "\nThe above exception was the direct cause of the following exception:\n",
      "\u001b[1;31mKeyError\u001b[0m                                  Traceback (most recent call last)",
      "\u001b[1;32m<ipython-input-82-1492d474f8c8>\u001b[0m in \u001b[0;36m<module>\u001b[1;34m\u001b[0m\n\u001b[1;32m----> 1\u001b[1;33m \u001b[0mdf\u001b[0m\u001b[1;33m[\u001b[0m\u001b[1;34m\"Engine\"\u001b[0m\u001b[1;33m,\u001b[0m \u001b[1;34m\"Power\"\u001b[0m\u001b[1;33m,\u001b[0m \u001b[1;34m\"Seats\"\u001b[0m\u001b[1;33m,\u001b[0m \u001b[1;34m\"Price\"\u001b[0m\u001b[1;33m]\u001b[0m\u001b[1;33m.\u001b[0m\u001b[0mreplace\u001b[0m\u001b[1;33m(\u001b[0m\u001b[0mpath\u001b[0m\u001b[1;33m,\u001b[0m \u001b[0minplace\u001b[0m\u001b[1;33m=\u001b[0m\u001b[1;32mTrue\u001b[0m\u001b[1;33m)\u001b[0m\u001b[1;33m\u001b[0m\u001b[1;33m\u001b[0m\u001b[0m\n\u001b[0m",
      "\u001b[1;32mC:\\Program Files\\ArcGIS\\Pro\\bin\\Python\\envs\\arcgispro-py3\\lib\\site-packages\\pandas\\core\\frame.py\u001b[0m in \u001b[0;36m__getitem__\u001b[1;34m(self, key)\u001b[0m\n\u001b[0;32m   3456\u001b[0m             \u001b[1;32mif\u001b[0m \u001b[0mself\u001b[0m\u001b[1;33m.\u001b[0m\u001b[0mcolumns\u001b[0m\u001b[1;33m.\u001b[0m\u001b[0mnlevels\u001b[0m \u001b[1;33m>\u001b[0m \u001b[1;36m1\u001b[0m\u001b[1;33m:\u001b[0m\u001b[1;33m\u001b[0m\u001b[1;33m\u001b[0m\u001b[0m\n\u001b[0;32m   3457\u001b[0m                 \u001b[1;32mreturn\u001b[0m \u001b[0mself\u001b[0m\u001b[1;33m.\u001b[0m\u001b[0m_getitem_multilevel\u001b[0m\u001b[1;33m(\u001b[0m\u001b[0mkey\u001b[0m\u001b[1;33m)\u001b[0m\u001b[1;33m\u001b[0m\u001b[1;33m\u001b[0m\u001b[0m\n\u001b[1;32m-> 3458\u001b[1;33m             \u001b[0mindexer\u001b[0m \u001b[1;33m=\u001b[0m \u001b[0mself\u001b[0m\u001b[1;33m.\u001b[0m\u001b[0mcolumns\u001b[0m\u001b[1;33m.\u001b[0m\u001b[0mget_loc\u001b[0m\u001b[1;33m(\u001b[0m\u001b[0mkey\u001b[0m\u001b[1;33m)\u001b[0m\u001b[1;33m\u001b[0m\u001b[1;33m\u001b[0m\u001b[0m\n\u001b[0m\u001b[0;32m   3459\u001b[0m             \u001b[1;32mif\u001b[0m \u001b[0mis_integer\u001b[0m\u001b[1;33m(\u001b[0m\u001b[0mindexer\u001b[0m\u001b[1;33m)\u001b[0m\u001b[1;33m:\u001b[0m\u001b[1;33m\u001b[0m\u001b[1;33m\u001b[0m\u001b[0m\n\u001b[0;32m   3460\u001b[0m                 \u001b[0mindexer\u001b[0m \u001b[1;33m=\u001b[0m \u001b[1;33m[\u001b[0m\u001b[0mindexer\u001b[0m\u001b[1;33m]\u001b[0m\u001b[1;33m\u001b[0m\u001b[1;33m\u001b[0m\u001b[0m\n",
      "\u001b[1;32mC:\\Program Files\\ArcGIS\\Pro\\bin\\Python\\envs\\arcgispro-py3\\lib\\site-packages\\pandas\\core\\indexes\\base.py\u001b[0m in \u001b[0;36mget_loc\u001b[1;34m(self, key, method, tolerance)\u001b[0m\n\u001b[0;32m   3361\u001b[0m                 \u001b[1;32mreturn\u001b[0m \u001b[0mself\u001b[0m\u001b[1;33m.\u001b[0m\u001b[0m_engine\u001b[0m\u001b[1;33m.\u001b[0m\u001b[0mget_loc\u001b[0m\u001b[1;33m(\u001b[0m\u001b[0mcasted_key\u001b[0m\u001b[1;33m)\u001b[0m\u001b[1;33m\u001b[0m\u001b[1;33m\u001b[0m\u001b[0m\n\u001b[0;32m   3362\u001b[0m             \u001b[1;32mexcept\u001b[0m \u001b[0mKeyError\u001b[0m \u001b[1;32mas\u001b[0m \u001b[0merr\u001b[0m\u001b[1;33m:\u001b[0m\u001b[1;33m\u001b[0m\u001b[1;33m\u001b[0m\u001b[0m\n\u001b[1;32m-> 3363\u001b[1;33m                 \u001b[1;32mraise\u001b[0m \u001b[0mKeyError\u001b[0m\u001b[1;33m(\u001b[0m\u001b[0mkey\u001b[0m\u001b[1;33m)\u001b[0m \u001b[1;32mfrom\u001b[0m \u001b[0merr\u001b[0m\u001b[1;33m\u001b[0m\u001b[1;33m\u001b[0m\u001b[0m\n\u001b[0m\u001b[0;32m   3364\u001b[0m \u001b[1;33m\u001b[0m\u001b[0m\n\u001b[0;32m   3365\u001b[0m         \u001b[1;32mif\u001b[0m \u001b[0mis_scalar\u001b[0m\u001b[1;33m(\u001b[0m\u001b[0mkey\u001b[0m\u001b[1;33m)\u001b[0m \u001b[1;32mand\u001b[0m \u001b[0misna\u001b[0m\u001b[1;33m(\u001b[0m\u001b[0mkey\u001b[0m\u001b[1;33m)\u001b[0m \u001b[1;32mand\u001b[0m \u001b[1;32mnot\u001b[0m \u001b[0mself\u001b[0m\u001b[1;33m.\u001b[0m\u001b[0mhasnans\u001b[0m\u001b[1;33m:\u001b[0m\u001b[1;33m\u001b[0m\u001b[1;33m\u001b[0m\u001b[0m\n",
      "\u001b[1;31mKeyError\u001b[0m: ('Engine', 'Power', 'Seats', 'Price')"
     ]
    }
   ],
   "source": [
    "df[\"Engine\", \"Power\", \"Seats\", \"Price\"].replace(path, inplace=True)"
   ]
  },
  {
   "cell_type": "code",
   "execution_count": null,
   "id": "3190c8e3",
   "metadata": {},
   "outputs": [],
   "source": []
  },
  {
   "cell_type": "markdown",
   "id": "c4455405",
   "metadata": {},
   "source": [
    "# you want to fill the missing values in engine, power and seats with the median of each column.\n",
    "\n",
    "## the only error\n",
    "- use double square brackets df[[\"Engine\",\"Power\", \"Seats\"]], you only used one.\n"
   ]
  },
  {
   "cell_type": "code",
   "execution_count": 83,
   "id": "6ac245d1",
   "metadata": {},
   "outputs": [
    {
     "ename": "KeyError",
     "evalue": "('Engine', 'Power', 'Seats')",
     "output_type": "error",
     "traceback": [
      "\u001b[1;31m---------------------------------------------------------------------------\u001b[0m",
      "\u001b[1;31mKeyError\u001b[0m                                  Traceback (most recent call last)",
      "\u001b[1;32mC:\\Program Files\\ArcGIS\\Pro\\bin\\Python\\envs\\arcgispro-py3\\lib\\site-packages\\pandas\\core\\indexes\\base.py\u001b[0m in \u001b[0;36mget_loc\u001b[1;34m(self, key, method, tolerance)\u001b[0m\n\u001b[0;32m   3360\u001b[0m             \u001b[1;32mtry\u001b[0m\u001b[1;33m:\u001b[0m\u001b[1;33m\u001b[0m\u001b[1;33m\u001b[0m\u001b[0m\n\u001b[1;32m-> 3361\u001b[1;33m                 \u001b[1;32mreturn\u001b[0m \u001b[0mself\u001b[0m\u001b[1;33m.\u001b[0m\u001b[0m_engine\u001b[0m\u001b[1;33m.\u001b[0m\u001b[0mget_loc\u001b[0m\u001b[1;33m(\u001b[0m\u001b[0mcasted_key\u001b[0m\u001b[1;33m)\u001b[0m\u001b[1;33m\u001b[0m\u001b[1;33m\u001b[0m\u001b[0m\n\u001b[0m\u001b[0;32m   3362\u001b[0m             \u001b[1;32mexcept\u001b[0m \u001b[0mKeyError\u001b[0m \u001b[1;32mas\u001b[0m \u001b[0merr\u001b[0m\u001b[1;33m:\u001b[0m\u001b[1;33m\u001b[0m\u001b[1;33m\u001b[0m\u001b[0m\n",
      "\u001b[1;32mC:\\Program Files\\ArcGIS\\Pro\\bin\\Python\\envs\\arcgispro-py3\\lib\\site-packages\\pandas\\_libs\\index.pyx\u001b[0m in \u001b[0;36mpandas._libs.index.IndexEngine.get_loc\u001b[1;34m()\u001b[0m\n",
      "\u001b[1;32mC:\\Program Files\\ArcGIS\\Pro\\bin\\Python\\envs\\arcgispro-py3\\lib\\site-packages\\pandas\\_libs\\index.pyx\u001b[0m in \u001b[0;36mpandas._libs.index.IndexEngine.get_loc\u001b[1;34m()\u001b[0m\n",
      "\u001b[1;32mpandas\\_libs\\hashtable_class_helper.pxi\u001b[0m in \u001b[0;36mpandas._libs.hashtable.PyObjectHashTable.get_item\u001b[1;34m()\u001b[0m\n",
      "\u001b[1;32mpandas\\_libs\\hashtable_class_helper.pxi\u001b[0m in \u001b[0;36mpandas._libs.hashtable.PyObjectHashTable.get_item\u001b[1;34m()\u001b[0m\n",
      "\u001b[1;31mKeyError\u001b[0m: ('Engine', 'Power', 'Seats')",
      "\nThe above exception was the direct cause of the following exception:\n",
      "\u001b[1;31mKeyError\u001b[0m                                  Traceback (most recent call last)",
      "\u001b[1;32m<ipython-input-83-fcb6ffd01ee8>\u001b[0m in \u001b[0;36m<module>\u001b[1;34m\u001b[0m\n\u001b[1;32m----> 1\u001b[1;33m \u001b[0mdf\u001b[0m\u001b[1;33m[\u001b[0m\u001b[1;34m\"Engine\"\u001b[0m\u001b[1;33m,\u001b[0m\u001b[1;34m\"Power\"\u001b[0m\u001b[1;33m,\u001b[0m \u001b[1;34m\"Seats\"\u001b[0m\u001b[1;33m]\u001b[0m\u001b[1;33m.\u001b[0m\u001b[0mfillna\u001b[0m\u001b[1;33m(\u001b[0m\u001b[0mdf\u001b[0m\u001b[1;33m[\u001b[0m\u001b[1;34m\"Engine\"\u001b[0m\u001b[1;33m,\u001b[0m\u001b[1;34m\"Power\"\u001b[0m\u001b[1;33m,\u001b[0m \u001b[1;34m\"Seats\"\u001b[0m\u001b[1;33m]\u001b[0m\u001b[1;33m.\u001b[0m\u001b[0mmedian\u001b[0m\u001b[1;33m(\u001b[0m\u001b[1;33m)\u001b[0m\u001b[1;33m,\u001b[0m \u001b[0minplace\u001b[0m \u001b[1;33m=\u001b[0m \u001b[1;32mTrue\u001b[0m\u001b[1;33m)\u001b[0m\u001b[1;33m\u001b[0m\u001b[1;33m\u001b[0m\u001b[0m\n\u001b[0m",
      "\u001b[1;32mC:\\Program Files\\ArcGIS\\Pro\\bin\\Python\\envs\\arcgispro-py3\\lib\\site-packages\\pandas\\core\\frame.py\u001b[0m in \u001b[0;36m__getitem__\u001b[1;34m(self, key)\u001b[0m\n\u001b[0;32m   3456\u001b[0m             \u001b[1;32mif\u001b[0m \u001b[0mself\u001b[0m\u001b[1;33m.\u001b[0m\u001b[0mcolumns\u001b[0m\u001b[1;33m.\u001b[0m\u001b[0mnlevels\u001b[0m \u001b[1;33m>\u001b[0m \u001b[1;36m1\u001b[0m\u001b[1;33m:\u001b[0m\u001b[1;33m\u001b[0m\u001b[1;33m\u001b[0m\u001b[0m\n\u001b[0;32m   3457\u001b[0m                 \u001b[1;32mreturn\u001b[0m \u001b[0mself\u001b[0m\u001b[1;33m.\u001b[0m\u001b[0m_getitem_multilevel\u001b[0m\u001b[1;33m(\u001b[0m\u001b[0mkey\u001b[0m\u001b[1;33m)\u001b[0m\u001b[1;33m\u001b[0m\u001b[1;33m\u001b[0m\u001b[0m\n\u001b[1;32m-> 3458\u001b[1;33m             \u001b[0mindexer\u001b[0m \u001b[1;33m=\u001b[0m \u001b[0mself\u001b[0m\u001b[1;33m.\u001b[0m\u001b[0mcolumns\u001b[0m\u001b[1;33m.\u001b[0m\u001b[0mget_loc\u001b[0m\u001b[1;33m(\u001b[0m\u001b[0mkey\u001b[0m\u001b[1;33m)\u001b[0m\u001b[1;33m\u001b[0m\u001b[1;33m\u001b[0m\u001b[0m\n\u001b[0m\u001b[0;32m   3459\u001b[0m             \u001b[1;32mif\u001b[0m \u001b[0mis_integer\u001b[0m\u001b[1;33m(\u001b[0m\u001b[0mindexer\u001b[0m\u001b[1;33m)\u001b[0m\u001b[1;33m:\u001b[0m\u001b[1;33m\u001b[0m\u001b[1;33m\u001b[0m\u001b[0m\n\u001b[0;32m   3460\u001b[0m                 \u001b[0mindexer\u001b[0m \u001b[1;33m=\u001b[0m \u001b[1;33m[\u001b[0m\u001b[0mindexer\u001b[0m\u001b[1;33m]\u001b[0m\u001b[1;33m\u001b[0m\u001b[1;33m\u001b[0m\u001b[0m\n",
      "\u001b[1;32mC:\\Program Files\\ArcGIS\\Pro\\bin\\Python\\envs\\arcgispro-py3\\lib\\site-packages\\pandas\\core\\indexes\\base.py\u001b[0m in \u001b[0;36mget_loc\u001b[1;34m(self, key, method, tolerance)\u001b[0m\n\u001b[0;32m   3361\u001b[0m                 \u001b[1;32mreturn\u001b[0m \u001b[0mself\u001b[0m\u001b[1;33m.\u001b[0m\u001b[0m_engine\u001b[0m\u001b[1;33m.\u001b[0m\u001b[0mget_loc\u001b[0m\u001b[1;33m(\u001b[0m\u001b[0mcasted_key\u001b[0m\u001b[1;33m)\u001b[0m\u001b[1;33m\u001b[0m\u001b[1;33m\u001b[0m\u001b[0m\n\u001b[0;32m   3362\u001b[0m             \u001b[1;32mexcept\u001b[0m \u001b[0mKeyError\u001b[0m \u001b[1;32mas\u001b[0m \u001b[0merr\u001b[0m\u001b[1;33m:\u001b[0m\u001b[1;33m\u001b[0m\u001b[1;33m\u001b[0m\u001b[0m\n\u001b[1;32m-> 3363\u001b[1;33m                 \u001b[1;32mraise\u001b[0m \u001b[0mKeyError\u001b[0m\u001b[1;33m(\u001b[0m\u001b[0mkey\u001b[0m\u001b[1;33m)\u001b[0m \u001b[1;32mfrom\u001b[0m \u001b[0merr\u001b[0m\u001b[1;33m\u001b[0m\u001b[1;33m\u001b[0m\u001b[0m\n\u001b[0m\u001b[0;32m   3364\u001b[0m \u001b[1;33m\u001b[0m\u001b[0m\n\u001b[0;32m   3365\u001b[0m         \u001b[1;32mif\u001b[0m \u001b[0mis_scalar\u001b[0m\u001b[1;33m(\u001b[0m\u001b[0mkey\u001b[0m\u001b[1;33m)\u001b[0m \u001b[1;32mand\u001b[0m \u001b[0misna\u001b[0m\u001b[1;33m(\u001b[0m\u001b[0mkey\u001b[0m\u001b[1;33m)\u001b[0m \u001b[1;32mand\u001b[0m \u001b[1;32mnot\u001b[0m \u001b[0mself\u001b[0m\u001b[1;33m.\u001b[0m\u001b[0mhasnans\u001b[0m\u001b[1;33m:\u001b[0m\u001b[1;33m\u001b[0m\u001b[1;33m\u001b[0m\u001b[0m\n",
      "\u001b[1;31mKeyError\u001b[0m: ('Engine', 'Power', 'Seats')"
     ]
    }
   ],
   "source": [
    "df[\"Engine\",\"Power\", \"Seats\"].fillna(df[\"Engine\",\"Power\", \"Seats\"].median(), inplace = True)"
   ]
  },
  {
   "cell_type": "markdown",
   "id": "1b829df4",
   "metadata": {},
   "source": [
    "# this is how to write it. notice the double square brackets.\n",
    "## however, you had dropped the missing values before. why are you trying to drop it again?"
   ]
  },
  {
   "cell_type": "code",
   "execution_count": 47,
   "id": "be8d16f3",
   "metadata": {},
   "outputs": [],
   "source": [
    "df[[\"Engine\",\"Power\", \"Seats\"]].fillna(df[[\"Engine\",\"Power\", \"Seats\"]].median(), inplace = True)"
   ]
  },
  {
   "cell_type": "code",
   "execution_count": 48,
   "id": "013dfd7e",
   "metadata": {},
   "outputs": [
    {
     "data": {
      "text/plain": [
       "Engine    0\n",
       "Power     0\n",
       "Seats     0\n",
       "dtype: int64"
      ]
     },
     "execution_count": 48,
     "metadata": {},
     "output_type": "execute_result"
    }
   ],
   "source": [
    "df[[\"Engine\",\"Power\", \"Seats\"]].isnull().sum()"
   ]
  },
  {
   "cell_type": "code",
   "execution_count": 84,
   "id": "a8e20bb8",
   "metadata": {},
   "outputs": [],
   "source": [
    "x_train, y_train, x_test, y_test = train_test_split(x, y, test_size = 0.2,\n",
    "                                                    random_state = 0)"
   ]
  },
  {
   "cell_type": "code",
   "execution_count": 85,
   "id": "b370428f",
   "metadata": {},
   "outputs": [
    {
     "data": {
      "text/html": [
       "<div>\n",
       "<style scoped>\n",
       "    .dataframe tbody tr th:only-of-type {\n",
       "        vertical-align: middle;\n",
       "    }\n",
       "\n",
       "    .dataframe tbody tr th {\n",
       "        vertical-align: top;\n",
       "    }\n",
       "\n",
       "    .dataframe thead th {\n",
       "        text-align: right;\n",
       "    }\n",
       "</style>\n",
       "<table border=\"1\" class=\"dataframe\">\n",
       "  <thead>\n",
       "    <tr style=\"text-align: right;\">\n",
       "      <th></th>\n",
       "      <th>S.No.</th>\n",
       "      <th>Name</th>\n",
       "      <th>Year</th>\n",
       "      <th>Kilometers_Driven</th>\n",
       "      <th>Fuel_Type</th>\n",
       "      <th>Transmission</th>\n",
       "      <th>Owner_Type</th>\n",
       "      <th>Mileage</th>\n",
       "      <th>Engine</th>\n",
       "      <th>Power</th>\n",
       "      <th>Seats</th>\n",
       "      <th>New_Price</th>\n",
       "    </tr>\n",
       "  </thead>\n",
       "  <tbody>\n",
       "    <tr>\n",
       "      <th>1708</th>\n",
       "      <td>1708</td>\n",
       "      <td>Audi Q3 35 TDI Quattro Premium Plus</td>\n",
       "      <td>2016</td>\n",
       "      <td>58661</td>\n",
       "      <td>Diesel</td>\n",
       "      <td>Automatic</td>\n",
       "      <td>First</td>\n",
       "      <td>15.17 kmpl</td>\n",
       "      <td>1968.0</td>\n",
       "      <td>181.00</td>\n",
       "      <td>5.0</td>\n",
       "      <td>48.640</td>\n",
       "    </tr>\n",
       "    <tr>\n",
       "      <th>4980</th>\n",
       "      <td>4980</td>\n",
       "      <td>Mahindra TUV 300 2015-2019 T8</td>\n",
       "      <td>2017</td>\n",
       "      <td>56380</td>\n",
       "      <td>Diesel</td>\n",
       "      <td>Manual</td>\n",
       "      <td>First</td>\n",
       "      <td>18.49 kmpl</td>\n",
       "      <td>1493.0</td>\n",
       "      <td>100.00</td>\n",
       "      <td>7.0</td>\n",
       "      <td>18.865</td>\n",
       "    </tr>\n",
       "    <tr>\n",
       "      <th>2687</th>\n",
       "      <td>2687</td>\n",
       "      <td>Mercedes-Benz E-Class 2015-2017 E250 Edition E</td>\n",
       "      <td>2016</td>\n",
       "      <td>39500</td>\n",
       "      <td>Diesel</td>\n",
       "      <td>Automatic</td>\n",
       "      <td>First</td>\n",
       "      <td>15.0 kmpl</td>\n",
       "      <td>2143.0</td>\n",
       "      <td>204.00</td>\n",
       "      <td>5.0</td>\n",
       "      <td>86.970</td>\n",
       "    </tr>\n",
       "    <tr>\n",
       "      <th>5976</th>\n",
       "      <td>5976</td>\n",
       "      <td>Maruti Wagon R LX BSIII</td>\n",
       "      <td>2006</td>\n",
       "      <td>65771</td>\n",
       "      <td>Petrol</td>\n",
       "      <td>Manual</td>\n",
       "      <td>Second</td>\n",
       "      <td>17.3 kmpl</td>\n",
       "      <td>1061.0</td>\n",
       "      <td>64.00</td>\n",
       "      <td>5.0</td>\n",
       "      <td>5.510</td>\n",
       "    </tr>\n",
       "    <tr>\n",
       "      <th>6192</th>\n",
       "      <td>6192</td>\n",
       "      <td>Maruti Alto LXi</td>\n",
       "      <td>2012</td>\n",
       "      <td>64631</td>\n",
       "      <td>Petrol</td>\n",
       "      <td>Manual</td>\n",
       "      <td>First</td>\n",
       "      <td>19.7 kmpl</td>\n",
       "      <td>796.0</td>\n",
       "      <td>46.30</td>\n",
       "      <td>5.0</td>\n",
       "      <td>4.360</td>\n",
       "    </tr>\n",
       "    <tr>\n",
       "      <th>...</th>\n",
       "      <td>...</td>\n",
       "      <td>...</td>\n",
       "      <td>...</td>\n",
       "      <td>...</td>\n",
       "      <td>...</td>\n",
       "      <td>...</td>\n",
       "      <td>...</td>\n",
       "      <td>...</td>\n",
       "      <td>...</td>\n",
       "      <td>...</td>\n",
       "      <td>...</td>\n",
       "      <td>...</td>\n",
       "    </tr>\n",
       "    <tr>\n",
       "      <th>5057</th>\n",
       "      <td>5057</td>\n",
       "      <td>Volkswagen Polo 1.2 MPI Comfortline</td>\n",
       "      <td>2013</td>\n",
       "      <td>39000</td>\n",
       "      <td>Petrol</td>\n",
       "      <td>Manual</td>\n",
       "      <td>First</td>\n",
       "      <td>16.47 kmpl</td>\n",
       "      <td>1198.0</td>\n",
       "      <td>74.00</td>\n",
       "      <td>5.0</td>\n",
       "      <td>10.150</td>\n",
       "    </tr>\n",
       "    <tr>\n",
       "      <th>3351</th>\n",
       "      <td>3351</td>\n",
       "      <td>Hyundai i20 1.4 CRDi Sportz</td>\n",
       "      <td>2014</td>\n",
       "      <td>32720</td>\n",
       "      <td>Diesel</td>\n",
       "      <td>Manual</td>\n",
       "      <td>First</td>\n",
       "      <td>23.0 kmpl</td>\n",
       "      <td>1396.0</td>\n",
       "      <td>90.00</td>\n",
       "      <td>5.0</td>\n",
       "      <td>10.250</td>\n",
       "    </tr>\n",
       "    <tr>\n",
       "      <th>1699</th>\n",
       "      <td>1699</td>\n",
       "      <td>Ford Endeavour 4x2 XLT Limited Edition</td>\n",
       "      <td>2007</td>\n",
       "      <td>90000</td>\n",
       "      <td>Diesel</td>\n",
       "      <td>Manual</td>\n",
       "      <td>Fourth &amp; Above</td>\n",
       "      <td>10.9 kmpl</td>\n",
       "      <td>2499.0</td>\n",
       "      <td>143.00</td>\n",
       "      <td>7.0</td>\n",
       "      <td>35.290</td>\n",
       "    </tr>\n",
       "    <tr>\n",
       "      <th>2683</th>\n",
       "      <td>2683</td>\n",
       "      <td>Maruti Celerio ZXI Optional</td>\n",
       "      <td>2017</td>\n",
       "      <td>26400</td>\n",
       "      <td>Petrol</td>\n",
       "      <td>Manual</td>\n",
       "      <td>First</td>\n",
       "      <td>23.1 kmpl</td>\n",
       "      <td>998.0</td>\n",
       "      <td>67.04</td>\n",
       "      <td>5.0</td>\n",
       "      <td>5.870</td>\n",
       "    </tr>\n",
       "    <tr>\n",
       "      <th>2810</th>\n",
       "      <td>2810</td>\n",
       "      <td>Maruti Wagon R LXI Optional</td>\n",
       "      <td>2016</td>\n",
       "      <td>4800</td>\n",
       "      <td>Petrol</td>\n",
       "      <td>Manual</td>\n",
       "      <td>First</td>\n",
       "      <td>20.51 kmpl</td>\n",
       "      <td>998.0</td>\n",
       "      <td>67.04</td>\n",
       "      <td>5.0</td>\n",
       "      <td>5.510</td>\n",
       "    </tr>\n",
       "  </tbody>\n",
       "</table>\n",
       "<p>5660 rows × 12 columns</p>\n",
       "</div>"
      ],
      "text/plain": [
       "      S.No.                                            Name  Year  \\\n",
       "1708   1708             Audi Q3 35 TDI Quattro Premium Plus  2016   \n",
       "4980   4980                   Mahindra TUV 300 2015-2019 T8  2017   \n",
       "2687   2687  Mercedes-Benz E-Class 2015-2017 E250 Edition E  2016   \n",
       "5976   5976                         Maruti Wagon R LX BSIII  2006   \n",
       "6192   6192                                 Maruti Alto LXi  2012   \n",
       "...     ...                                             ...   ...   \n",
       "5057   5057             Volkswagen Polo 1.2 MPI Comfortline  2013   \n",
       "3351   3351                     Hyundai i20 1.4 CRDi Sportz  2014   \n",
       "1699   1699          Ford Endeavour 4x2 XLT Limited Edition  2007   \n",
       "2683   2683                     Maruti Celerio ZXI Optional  2017   \n",
       "2810   2810                     Maruti Wagon R LXI Optional  2016   \n",
       "\n",
       "      Kilometers_Driven Fuel_Type Transmission      Owner_Type     Mileage  \\\n",
       "1708              58661    Diesel    Automatic           First  15.17 kmpl   \n",
       "4980              56380    Diesel       Manual           First  18.49 kmpl   \n",
       "2687              39500    Diesel    Automatic           First   15.0 kmpl   \n",
       "5976              65771    Petrol       Manual          Second   17.3 kmpl   \n",
       "6192              64631    Petrol       Manual           First   19.7 kmpl   \n",
       "...                 ...       ...          ...             ...         ...   \n",
       "5057              39000    Petrol       Manual           First  16.47 kmpl   \n",
       "3351              32720    Diesel       Manual           First   23.0 kmpl   \n",
       "1699              90000    Diesel       Manual  Fourth & Above   10.9 kmpl   \n",
       "2683              26400    Petrol       Manual           First   23.1 kmpl   \n",
       "2810               4800    Petrol       Manual           First  20.51 kmpl   \n",
       "\n",
       "      Engine   Power  Seats  New_Price  \n",
       "1708  1968.0  181.00    5.0     48.640  \n",
       "4980  1493.0  100.00    7.0     18.865  \n",
       "2687  2143.0  204.00    5.0     86.970  \n",
       "5976  1061.0   64.00    5.0      5.510  \n",
       "6192   796.0   46.30    5.0      4.360  \n",
       "...      ...     ...    ...        ...  \n",
       "5057  1198.0   74.00    5.0     10.150  \n",
       "3351  1396.0   90.00    5.0     10.250  \n",
       "1699  2499.0  143.00    7.0     35.290  \n",
       "2683   998.0   67.04    5.0      5.870  \n",
       "2810   998.0   67.04    5.0      5.510  \n",
       "\n",
       "[5660 rows x 12 columns]"
      ]
     },
     "execution_count": 85,
     "metadata": {},
     "output_type": "execute_result"
    }
   ],
   "source": [
    "x_train"
   ]
  },
  {
   "cell_type": "code",
   "execution_count": 86,
   "id": "52f2d40e",
   "metadata": {},
   "outputs": [
    {
     "data": {
      "text/html": [
       "<div>\n",
       "<style scoped>\n",
       "    .dataframe tbody tr th:only-of-type {\n",
       "        vertical-align: middle;\n",
       "    }\n",
       "\n",
       "    .dataframe tbody tr th {\n",
       "        vertical-align: top;\n",
       "    }\n",
       "\n",
       "    .dataframe thead th {\n",
       "        text-align: right;\n",
       "    }\n",
       "</style>\n",
       "<table border=\"1\" class=\"dataframe\">\n",
       "  <thead>\n",
       "    <tr style=\"text-align: right;\">\n",
       "      <th></th>\n",
       "      <th>S.No.</th>\n",
       "      <th>Name</th>\n",
       "      <th>Year</th>\n",
       "      <th>Kilometers_Driven</th>\n",
       "      <th>Fuel_Type</th>\n",
       "      <th>Transmission</th>\n",
       "      <th>Owner_Type</th>\n",
       "      <th>Mileage</th>\n",
       "      <th>Engine</th>\n",
       "      <th>Power</th>\n",
       "      <th>Seats</th>\n",
       "      <th>New_Price</th>\n",
       "    </tr>\n",
       "  </thead>\n",
       "  <tbody>\n",
       "    <tr>\n",
       "      <th>1122</th>\n",
       "      <td>1122</td>\n",
       "      <td>Honda City i VTEC CVT VX</td>\n",
       "      <td>2016</td>\n",
       "      <td>58197</td>\n",
       "      <td>Petrol</td>\n",
       "      <td>Automatic</td>\n",
       "      <td>First</td>\n",
       "      <td>18.0 kmpl</td>\n",
       "      <td>1497.0</td>\n",
       "      <td>117.30</td>\n",
       "      <td>5.0</td>\n",
       "      <td>13.580</td>\n",
       "    </tr>\n",
       "    <tr>\n",
       "      <th>6370</th>\n",
       "      <td>6370</td>\n",
       "      <td>Maruti Vitara Brezza VDi Option</td>\n",
       "      <td>2016</td>\n",
       "      <td>66000</td>\n",
       "      <td>Diesel</td>\n",
       "      <td>Manual</td>\n",
       "      <td>First</td>\n",
       "      <td>24.3 kmpl</td>\n",
       "      <td>1248.0</td>\n",
       "      <td>88.50</td>\n",
       "      <td>5.0</td>\n",
       "      <td>11.120</td>\n",
       "    </tr>\n",
       "    <tr>\n",
       "      <th>4858</th>\n",
       "      <td>4858</td>\n",
       "      <td>Audi A4 35 TDI Technology</td>\n",
       "      <td>2017</td>\n",
       "      <td>14000</td>\n",
       "      <td>Diesel</td>\n",
       "      <td>Automatic</td>\n",
       "      <td>First</td>\n",
       "      <td>18.25 kmpl</td>\n",
       "      <td>1968.0</td>\n",
       "      <td>187.74</td>\n",
       "      <td>5.0</td>\n",
       "      <td>55.610</td>\n",
       "    </tr>\n",
       "    <tr>\n",
       "      <th>905</th>\n",
       "      <td>905</td>\n",
       "      <td>Maruti Swift Dzire Vdi BSIV</td>\n",
       "      <td>2008</td>\n",
       "      <td>91000</td>\n",
       "      <td>Diesel</td>\n",
       "      <td>Manual</td>\n",
       "      <td>Second</td>\n",
       "      <td>19.3 kmpl</td>\n",
       "      <td>1248.0</td>\n",
       "      <td>73.90</td>\n",
       "      <td>5.0</td>\n",
       "      <td>7.880</td>\n",
       "    </tr>\n",
       "    <tr>\n",
       "      <th>4494</th>\n",
       "      <td>4494</td>\n",
       "      <td>Fiat Grande Punto 1.4 Emotion</td>\n",
       "      <td>2015</td>\n",
       "      <td>44846</td>\n",
       "      <td>Petrol</td>\n",
       "      <td>Manual</td>\n",
       "      <td>Second</td>\n",
       "      <td>14.6 kmpl</td>\n",
       "      <td>1368.0</td>\n",
       "      <td>88.70</td>\n",
       "      <td>5.0</td>\n",
       "      <td>9.075</td>\n",
       "    </tr>\n",
       "    <tr>\n",
       "      <th>...</th>\n",
       "      <td>...</td>\n",
       "      <td>...</td>\n",
       "      <td>...</td>\n",
       "      <td>...</td>\n",
       "      <td>...</td>\n",
       "      <td>...</td>\n",
       "      <td>...</td>\n",
       "      <td>...</td>\n",
       "      <td>...</td>\n",
       "      <td>...</td>\n",
       "      <td>...</td>\n",
       "      <td>...</td>\n",
       "    </tr>\n",
       "    <tr>\n",
       "      <th>5069</th>\n",
       "      <td>5069</td>\n",
       "      <td>Volkswagen Polo 1.2 MPI Highline</td>\n",
       "      <td>2015</td>\n",
       "      <td>58134</td>\n",
       "      <td>Petrol</td>\n",
       "      <td>Manual</td>\n",
       "      <td>First</td>\n",
       "      <td>16.47 kmpl</td>\n",
       "      <td>1198.0</td>\n",
       "      <td>74.00</td>\n",
       "      <td>5.0</td>\n",
       "      <td>10.150</td>\n",
       "    </tr>\n",
       "    <tr>\n",
       "      <th>3423</th>\n",
       "      <td>3423</td>\n",
       "      <td>Maruti Swift ZXI</td>\n",
       "      <td>2016</td>\n",
       "      <td>34000</td>\n",
       "      <td>Petrol</td>\n",
       "      <td>Manual</td>\n",
       "      <td>First</td>\n",
       "      <td>20.4 kmpl</td>\n",
       "      <td>1197.0</td>\n",
       "      <td>81.80</td>\n",
       "      <td>5.0</td>\n",
       "      <td>7.880</td>\n",
       "    </tr>\n",
       "    <tr>\n",
       "      <th>1679</th>\n",
       "      <td>1679</td>\n",
       "      <td>Volkswagen Polo GTI</td>\n",
       "      <td>2015</td>\n",
       "      <td>60007</td>\n",
       "      <td>Petrol</td>\n",
       "      <td>Automatic</td>\n",
       "      <td>First</td>\n",
       "      <td>17.21 kmpl</td>\n",
       "      <td>1798.0</td>\n",
       "      <td>189.00</td>\n",
       "      <td>4.0</td>\n",
       "      <td>10.150</td>\n",
       "    </tr>\n",
       "    <tr>\n",
       "      <th>2908</th>\n",
       "      <td>2908</td>\n",
       "      <td>Maruti Swift Ldi BSIII</td>\n",
       "      <td>2007</td>\n",
       "      <td>140000</td>\n",
       "      <td>Diesel</td>\n",
       "      <td>Manual</td>\n",
       "      <td>Second</td>\n",
       "      <td>17.8 kmpl</td>\n",
       "      <td>1248.0</td>\n",
       "      <td>75.00</td>\n",
       "      <td>5.0</td>\n",
       "      <td>7.880</td>\n",
       "    </tr>\n",
       "    <tr>\n",
       "      <th>2911</th>\n",
       "      <td>2911</td>\n",
       "      <td>Hyundai i20 Sportz 1.2</td>\n",
       "      <td>2015</td>\n",
       "      <td>32000</td>\n",
       "      <td>Petrol</td>\n",
       "      <td>Manual</td>\n",
       "      <td>First</td>\n",
       "      <td>18.6 kmpl</td>\n",
       "      <td>1197.0</td>\n",
       "      <td>81.83</td>\n",
       "      <td>5.0</td>\n",
       "      <td>10.250</td>\n",
       "    </tr>\n",
       "  </tbody>\n",
       "</table>\n",
       "<p>1415 rows × 12 columns</p>\n",
       "</div>"
      ],
      "text/plain": [
       "      S.No.                              Name  Year  Kilometers_Driven  \\\n",
       "1122   1122          Honda City i VTEC CVT VX  2016              58197   \n",
       "6370   6370   Maruti Vitara Brezza VDi Option  2016              66000   \n",
       "4858   4858         Audi A4 35 TDI Technology  2017              14000   \n",
       "905     905       Maruti Swift Dzire Vdi BSIV  2008              91000   \n",
       "4494   4494     Fiat Grande Punto 1.4 Emotion  2015              44846   \n",
       "...     ...                               ...   ...                ...   \n",
       "5069   5069  Volkswagen Polo 1.2 MPI Highline  2015              58134   \n",
       "3423   3423                  Maruti Swift ZXI  2016              34000   \n",
       "1679   1679               Volkswagen Polo GTI  2015              60007   \n",
       "2908   2908            Maruti Swift Ldi BSIII  2007             140000   \n",
       "2911   2911            Hyundai i20 Sportz 1.2  2015              32000   \n",
       "\n",
       "     Fuel_Type Transmission Owner_Type     Mileage  Engine   Power  Seats  \\\n",
       "1122    Petrol    Automatic      First   18.0 kmpl  1497.0  117.30    5.0   \n",
       "6370    Diesel       Manual      First   24.3 kmpl  1248.0   88.50    5.0   \n",
       "4858    Diesel    Automatic      First  18.25 kmpl  1968.0  187.74    5.0   \n",
       "905     Diesel       Manual     Second   19.3 kmpl  1248.0   73.90    5.0   \n",
       "4494    Petrol       Manual     Second   14.6 kmpl  1368.0   88.70    5.0   \n",
       "...        ...          ...        ...         ...     ...     ...    ...   \n",
       "5069    Petrol       Manual      First  16.47 kmpl  1198.0   74.00    5.0   \n",
       "3423    Petrol       Manual      First   20.4 kmpl  1197.0   81.80    5.0   \n",
       "1679    Petrol    Automatic      First  17.21 kmpl  1798.0  189.00    4.0   \n",
       "2908    Diesel       Manual     Second   17.8 kmpl  1248.0   75.00    5.0   \n",
       "2911    Petrol       Manual      First   18.6 kmpl  1197.0   81.83    5.0   \n",
       "\n",
       "      New_Price  \n",
       "1122     13.580  \n",
       "6370     11.120  \n",
       "4858     55.610  \n",
       "905       7.880  \n",
       "4494      9.075  \n",
       "...         ...  \n",
       "5069     10.150  \n",
       "3423      7.880  \n",
       "1679     10.150  \n",
       "2908      7.880  \n",
       "2911     10.250  \n",
       "\n",
       "[1415 rows x 12 columns]"
      ]
     },
     "execution_count": 86,
     "metadata": {},
     "output_type": "execute_result"
    }
   ],
   "source": [
    "y_train"
   ]
  },
  {
   "cell_type": "code",
   "execution_count": 87,
   "id": "b4e8def6",
   "metadata": {},
   "outputs": [
    {
     "data": {
      "text/plain": [
       "['S.No.',\n",
       " 'Name',\n",
       " 'Location',\n",
       " 'Year',\n",
       " 'Kilometers_Driven',\n",
       " 'Fuel_Type',\n",
       " 'Transmission',\n",
       " 'Owner_Type',\n",
       " 'Mileage',\n",
       " 'Engine',\n",
       " 'Power',\n",
       " 'Seats',\n",
       " 'New_Price',\n",
       " 'Price']"
      ]
     },
     "execution_count": 87,
     "metadata": {},
     "output_type": "execute_result"
    }
   ],
   "source": [
    "list(df)"
   ]
  },
  {
   "cell_type": "code",
   "execution_count": 88,
   "id": "a91f717e",
   "metadata": {},
   "outputs": [
    {
     "data": {
      "text/plain": [
       "0          Manual\n",
       "1          Manual\n",
       "2          Manual\n",
       "3          Manual\n",
       "4       Automatic\n",
       "          ...    \n",
       "6014       Manual\n",
       "6015       Manual\n",
       "6016       Manual\n",
       "6017       Manual\n",
       "6018       Manual\n",
       "Name: Transmission, Length: 5874, dtype: object"
      ]
     },
     "execution_count": 88,
     "metadata": {},
     "output_type": "execute_result"
    }
   ],
   "source": [
    "df[\"Transmission\"]"
   ]
  },
  {
   "cell_type": "markdown",
   "id": "c728d85c",
   "metadata": {},
   "source": [
    "## some of these columns do not have missing values"
   ]
  },
  {
   "cell_type": "code",
   "execution_count": 89,
   "id": "058cd80a",
   "metadata": {},
   "outputs": [],
   "source": [
    "df.dropna(subset = [\"Engine\", \"Power\", \"Seats\", \"Mileage\", \"Fuel_Type\", \"Transmission\", \"Location\"], inplace = True)"
   ]
  },
  {
   "cell_type": "code",
   "execution_count": 90,
   "id": "9d83e4da",
   "metadata": {},
   "outputs": [
    {
     "name": "stdout",
     "output_type": "stream",
     "text": [
      "[[4.         2.        ]\n",
      " [6.         3.66666667]\n",
      " [7.         6.        ]]\n"
     ]
    }
   ],
   "source": [
    "imp.fit([[1, 2], [np.nan, 3], [7, 6]])\n",
    "SimpleImputer()\n",
    "x = [[np.nan, 2], [6, np.nan], [7, 6]]\n",
    "print(imp.transform(x))"
   ]
  },
  {
   "cell_type": "markdown",
   "id": "423468d6",
   "metadata": {},
   "source": [
    "# age was never in the column name"
   ]
  },
  {
   "cell_type": "code",
   "execution_count": 49,
   "id": "91ac2b30",
   "metadata": {},
   "outputs": [
    {
     "ename": "KeyError",
     "evalue": "'Age'",
     "output_type": "error",
     "traceback": [
      "\u001b[0;31m---------------------------------------------------------------------------\u001b[0m",
      "\u001b[0;31mKeyError\u001b[0m                                  Traceback (most recent call last)",
      "\u001b[0;32m/opt/anaconda3/lib/python3.9/site-packages/pandas/core/indexes/base.py\u001b[0m in \u001b[0;36mget_loc\u001b[0;34m(self, key, method, tolerance)\u001b[0m\n\u001b[1;32m   3360\u001b[0m             \u001b[0;32mtry\u001b[0m\u001b[0;34m:\u001b[0m\u001b[0;34m\u001b[0m\u001b[0;34m\u001b[0m\u001b[0m\n\u001b[0;32m-> 3361\u001b[0;31m                 \u001b[0;32mreturn\u001b[0m \u001b[0mself\u001b[0m\u001b[0;34m.\u001b[0m\u001b[0m_engine\u001b[0m\u001b[0;34m.\u001b[0m\u001b[0mget_loc\u001b[0m\u001b[0;34m(\u001b[0m\u001b[0mcasted_key\u001b[0m\u001b[0;34m)\u001b[0m\u001b[0;34m\u001b[0m\u001b[0;34m\u001b[0m\u001b[0m\n\u001b[0m\u001b[1;32m   3362\u001b[0m             \u001b[0;32mexcept\u001b[0m \u001b[0mKeyError\u001b[0m \u001b[0;32mas\u001b[0m \u001b[0merr\u001b[0m\u001b[0;34m:\u001b[0m\u001b[0;34m\u001b[0m\u001b[0;34m\u001b[0m\u001b[0m\n",
      "\u001b[0;32m/opt/anaconda3/lib/python3.9/site-packages/pandas/_libs/index.pyx\u001b[0m in \u001b[0;36mpandas._libs.index.IndexEngine.get_loc\u001b[0;34m()\u001b[0m\n",
      "\u001b[0;32m/opt/anaconda3/lib/python3.9/site-packages/pandas/_libs/index.pyx\u001b[0m in \u001b[0;36mpandas._libs.index.IndexEngine.get_loc\u001b[0;34m()\u001b[0m\n",
      "\u001b[0;32mpandas/_libs/hashtable_class_helper.pxi\u001b[0m in \u001b[0;36mpandas._libs.hashtable.PyObjectHashTable.get_item\u001b[0;34m()\u001b[0m\n",
      "\u001b[0;32mpandas/_libs/hashtable_class_helper.pxi\u001b[0m in \u001b[0;36mpandas._libs.hashtable.PyObjectHashTable.get_item\u001b[0;34m()\u001b[0m\n",
      "\u001b[0;31mKeyError\u001b[0m: 'Age'",
      "\nThe above exception was the direct cause of the following exception:\n",
      "\u001b[0;31mKeyError\u001b[0m                                  Traceback (most recent call last)",
      "\u001b[0;32m/var/folders/z1/ynpqzt4n2b9f6150_kxv0mhw0000gn/T/ipykernel_22619/3803577706.py\u001b[0m in \u001b[0;36m<module>\u001b[0;34m\u001b[0m\n\u001b[0;32m----> 1\u001b[0;31m \u001b[0mdf\u001b[0m\u001b[0;34m[\u001b[0m\u001b[0mdf\u001b[0m\u001b[0;34m[\u001b[0m\u001b[0;34m\"Age\"\u001b[0m\u001b[0;34m]\u001b[0m\u001b[0;34m.\u001b[0m\u001b[0misnull\u001b[0m\u001b[0;34m(\u001b[0m\u001b[0;34m)\u001b[0m\u001b[0;34m]\u001b[0m\u001b[0;34m\u001b[0m\u001b[0;34m\u001b[0m\u001b[0m\n\u001b[0m",
      "\u001b[0;32m/opt/anaconda3/lib/python3.9/site-packages/pandas/core/frame.py\u001b[0m in \u001b[0;36m__getitem__\u001b[0;34m(self, key)\u001b[0m\n\u001b[1;32m   3456\u001b[0m             \u001b[0;32mif\u001b[0m \u001b[0mself\u001b[0m\u001b[0;34m.\u001b[0m\u001b[0mcolumns\u001b[0m\u001b[0;34m.\u001b[0m\u001b[0mnlevels\u001b[0m \u001b[0;34m>\u001b[0m \u001b[0;36m1\u001b[0m\u001b[0;34m:\u001b[0m\u001b[0;34m\u001b[0m\u001b[0;34m\u001b[0m\u001b[0m\n\u001b[1;32m   3457\u001b[0m                 \u001b[0;32mreturn\u001b[0m \u001b[0mself\u001b[0m\u001b[0;34m.\u001b[0m\u001b[0m_getitem_multilevel\u001b[0m\u001b[0;34m(\u001b[0m\u001b[0mkey\u001b[0m\u001b[0;34m)\u001b[0m\u001b[0;34m\u001b[0m\u001b[0;34m\u001b[0m\u001b[0m\n\u001b[0;32m-> 3458\u001b[0;31m             \u001b[0mindexer\u001b[0m \u001b[0;34m=\u001b[0m \u001b[0mself\u001b[0m\u001b[0;34m.\u001b[0m\u001b[0mcolumns\u001b[0m\u001b[0;34m.\u001b[0m\u001b[0mget_loc\u001b[0m\u001b[0;34m(\u001b[0m\u001b[0mkey\u001b[0m\u001b[0;34m)\u001b[0m\u001b[0;34m\u001b[0m\u001b[0;34m\u001b[0m\u001b[0m\n\u001b[0m\u001b[1;32m   3459\u001b[0m             \u001b[0;32mif\u001b[0m \u001b[0mis_integer\u001b[0m\u001b[0;34m(\u001b[0m\u001b[0mindexer\u001b[0m\u001b[0;34m)\u001b[0m\u001b[0;34m:\u001b[0m\u001b[0;34m\u001b[0m\u001b[0;34m\u001b[0m\u001b[0m\n\u001b[1;32m   3460\u001b[0m                 \u001b[0mindexer\u001b[0m \u001b[0;34m=\u001b[0m \u001b[0;34m[\u001b[0m\u001b[0mindexer\u001b[0m\u001b[0;34m]\u001b[0m\u001b[0;34m\u001b[0m\u001b[0;34m\u001b[0m\u001b[0m\n",
      "\u001b[0;32m/opt/anaconda3/lib/python3.9/site-packages/pandas/core/indexes/base.py\u001b[0m in \u001b[0;36mget_loc\u001b[0;34m(self, key, method, tolerance)\u001b[0m\n\u001b[1;32m   3361\u001b[0m                 \u001b[0;32mreturn\u001b[0m \u001b[0mself\u001b[0m\u001b[0;34m.\u001b[0m\u001b[0m_engine\u001b[0m\u001b[0;34m.\u001b[0m\u001b[0mget_loc\u001b[0m\u001b[0;34m(\u001b[0m\u001b[0mcasted_key\u001b[0m\u001b[0;34m)\u001b[0m\u001b[0;34m\u001b[0m\u001b[0;34m\u001b[0m\u001b[0m\n\u001b[1;32m   3362\u001b[0m             \u001b[0;32mexcept\u001b[0m \u001b[0mKeyError\u001b[0m \u001b[0;32mas\u001b[0m \u001b[0merr\u001b[0m\u001b[0;34m:\u001b[0m\u001b[0;34m\u001b[0m\u001b[0;34m\u001b[0m\u001b[0m\n\u001b[0;32m-> 3363\u001b[0;31m                 \u001b[0;32mraise\u001b[0m \u001b[0mKeyError\u001b[0m\u001b[0;34m(\u001b[0m\u001b[0mkey\u001b[0m\u001b[0;34m)\u001b[0m \u001b[0;32mfrom\u001b[0m \u001b[0merr\u001b[0m\u001b[0;34m\u001b[0m\u001b[0;34m\u001b[0m\u001b[0m\n\u001b[0m\u001b[1;32m   3364\u001b[0m \u001b[0;34m\u001b[0m\u001b[0m\n\u001b[1;32m   3365\u001b[0m         \u001b[0;32mif\u001b[0m \u001b[0mis_scalar\u001b[0m\u001b[0;34m(\u001b[0m\u001b[0mkey\u001b[0m\u001b[0;34m)\u001b[0m \u001b[0;32mand\u001b[0m \u001b[0misna\u001b[0m\u001b[0;34m(\u001b[0m\u001b[0mkey\u001b[0m\u001b[0;34m)\u001b[0m \u001b[0;32mand\u001b[0m \u001b[0;32mnot\u001b[0m \u001b[0mself\u001b[0m\u001b[0;34m.\u001b[0m\u001b[0mhasnans\u001b[0m\u001b[0;34m:\u001b[0m\u001b[0;34m\u001b[0m\u001b[0;34m\u001b[0m\u001b[0m\n",
      "\u001b[0;31mKeyError\u001b[0m: 'Age'"
     ]
    }
   ],
   "source": [
    "df[df[\"Age\"].isnull()]"
   ]
  },
  {
   "cell_type": "markdown",
   "id": "890c8f2c",
   "metadata": {},
   "source": [
    "# you can not train your algoritm except these missing values are dropped or filled"
   ]
  },
  {
   "cell_type": "code",
   "execution_count": 92,
   "id": "ba119155",
   "metadata": {
    "collapsed": true
   },
   "outputs": [
    {
     "ename": "ValueError",
     "evalue": "could not convert string to float: 'Audi Q3 35 TDI Quattro Premium Plus'",
     "output_type": "error",
     "traceback": [
      "\u001b[1;31m---------------------------------------------------------------------------\u001b[0m",
      "\u001b[1;31mValueError\u001b[0m                                Traceback (most recent call last)",
      "\u001b[1;32m<ipython-input-92-c32b79223a19>\u001b[0m in \u001b[0;36m<module>\u001b[1;34m\u001b[0m\n\u001b[0;32m      1\u001b[0m \u001b[0mlinear_reg\u001b[0m \u001b[1;33m=\u001b[0m \u001b[0mLinearRegression\u001b[0m\u001b[1;33m(\u001b[0m\u001b[1;33m)\u001b[0m\u001b[1;33m\u001b[0m\u001b[1;33m\u001b[0m\u001b[0m\n\u001b[1;32m----> 2\u001b[1;33m \u001b[0mlinear_reg\u001b[0m\u001b[1;33m.\u001b[0m\u001b[0mfit\u001b[0m\u001b[1;33m(\u001b[0m\u001b[0mx_train\u001b[0m\u001b[1;33m,\u001b[0m \u001b[0my_train\u001b[0m\u001b[1;33m)\u001b[0m\u001b[1;33m\u001b[0m\u001b[1;33m\u001b[0m\u001b[0m\n\u001b[0m",
      "\u001b[1;32m~\\AppData\\Roaming\\Python\\Python39\\site-packages\\sklearn\\linear_model\\_base.py\u001b[0m in \u001b[0;36mfit\u001b[1;34m(self, X, y, sample_weight)\u001b[0m\n\u001b[0;32m    646\u001b[0m         \u001b[0maccept_sparse\u001b[0m \u001b[1;33m=\u001b[0m \u001b[1;32mFalse\u001b[0m \u001b[1;32mif\u001b[0m \u001b[0mself\u001b[0m\u001b[1;33m.\u001b[0m\u001b[0mpositive\u001b[0m \u001b[1;32melse\u001b[0m \u001b[1;33m[\u001b[0m\u001b[1;34m\"csr\"\u001b[0m\u001b[1;33m,\u001b[0m \u001b[1;34m\"csc\"\u001b[0m\u001b[1;33m,\u001b[0m \u001b[1;34m\"coo\"\u001b[0m\u001b[1;33m]\u001b[0m\u001b[1;33m\u001b[0m\u001b[1;33m\u001b[0m\u001b[0m\n\u001b[0;32m    647\u001b[0m \u001b[1;33m\u001b[0m\u001b[0m\n\u001b[1;32m--> 648\u001b[1;33m         X, y = self._validate_data(\n\u001b[0m\u001b[0;32m    649\u001b[0m             \u001b[0mX\u001b[0m\u001b[1;33m,\u001b[0m \u001b[0my\u001b[0m\u001b[1;33m,\u001b[0m \u001b[0maccept_sparse\u001b[0m\u001b[1;33m=\u001b[0m\u001b[0maccept_sparse\u001b[0m\u001b[1;33m,\u001b[0m \u001b[0my_numeric\u001b[0m\u001b[1;33m=\u001b[0m\u001b[1;32mTrue\u001b[0m\u001b[1;33m,\u001b[0m \u001b[0mmulti_output\u001b[0m\u001b[1;33m=\u001b[0m\u001b[1;32mTrue\u001b[0m\u001b[1;33m\u001b[0m\u001b[1;33m\u001b[0m\u001b[0m\n\u001b[0;32m    650\u001b[0m         )\n",
      "\u001b[1;32m~\\AppData\\Roaming\\Python\\Python39\\site-packages\\sklearn\\base.py\u001b[0m in \u001b[0;36m_validate_data\u001b[1;34m(self, X, y, reset, validate_separately, **check_params)\u001b[0m\n\u001b[0;32m    563\u001b[0m                 \u001b[0my\u001b[0m \u001b[1;33m=\u001b[0m \u001b[0mcheck_array\u001b[0m\u001b[1;33m(\u001b[0m\u001b[0my\u001b[0m\u001b[1;33m,\u001b[0m \u001b[0minput_name\u001b[0m\u001b[1;33m=\u001b[0m\u001b[1;34m\"y\"\u001b[0m\u001b[1;33m,\u001b[0m \u001b[1;33m**\u001b[0m\u001b[0mcheck_y_params\u001b[0m\u001b[1;33m)\u001b[0m\u001b[1;33m\u001b[0m\u001b[1;33m\u001b[0m\u001b[0m\n\u001b[0;32m    564\u001b[0m             \u001b[1;32melse\u001b[0m\u001b[1;33m:\u001b[0m\u001b[1;33m\u001b[0m\u001b[1;33m\u001b[0m\u001b[0m\n\u001b[1;32m--> 565\u001b[1;33m                 \u001b[0mX\u001b[0m\u001b[1;33m,\u001b[0m \u001b[0my\u001b[0m \u001b[1;33m=\u001b[0m \u001b[0mcheck_X_y\u001b[0m\u001b[1;33m(\u001b[0m\u001b[0mX\u001b[0m\u001b[1;33m,\u001b[0m \u001b[0my\u001b[0m\u001b[1;33m,\u001b[0m \u001b[1;33m**\u001b[0m\u001b[0mcheck_params\u001b[0m\u001b[1;33m)\u001b[0m\u001b[1;33m\u001b[0m\u001b[1;33m\u001b[0m\u001b[0m\n\u001b[0m\u001b[0;32m    566\u001b[0m             \u001b[0mout\u001b[0m \u001b[1;33m=\u001b[0m \u001b[0mX\u001b[0m\u001b[1;33m,\u001b[0m \u001b[0my\u001b[0m\u001b[1;33m\u001b[0m\u001b[1;33m\u001b[0m\u001b[0m\n\u001b[0;32m    567\u001b[0m \u001b[1;33m\u001b[0m\u001b[0m\n",
      "\u001b[1;32m~\\AppData\\Roaming\\Python\\Python39\\site-packages\\sklearn\\utils\\validation.py\u001b[0m in \u001b[0;36mcheck_X_y\u001b[1;34m(X, y, accept_sparse, accept_large_sparse, dtype, order, copy, force_all_finite, ensure_2d, allow_nd, multi_output, ensure_min_samples, ensure_min_features, y_numeric, estimator)\u001b[0m\n\u001b[0;32m   1104\u001b[0m         )\n\u001b[0;32m   1105\u001b[0m \u001b[1;33m\u001b[0m\u001b[0m\n\u001b[1;32m-> 1106\u001b[1;33m     X = check_array(\n\u001b[0m\u001b[0;32m   1107\u001b[0m         \u001b[0mX\u001b[0m\u001b[1;33m,\u001b[0m\u001b[1;33m\u001b[0m\u001b[1;33m\u001b[0m\u001b[0m\n\u001b[0;32m   1108\u001b[0m         \u001b[0maccept_sparse\u001b[0m\u001b[1;33m=\u001b[0m\u001b[0maccept_sparse\u001b[0m\u001b[1;33m,\u001b[0m\u001b[1;33m\u001b[0m\u001b[1;33m\u001b[0m\u001b[0m\n",
      "\u001b[1;32m~\\AppData\\Roaming\\Python\\Python39\\site-packages\\sklearn\\utils\\validation.py\u001b[0m in \u001b[0;36mcheck_array\u001b[1;34m(array, accept_sparse, accept_large_sparse, dtype, order, copy, force_all_finite, ensure_2d, allow_nd, ensure_min_samples, ensure_min_features, estimator, input_name)\u001b[0m\n\u001b[0;32m    877\u001b[0m                     \u001b[0marray\u001b[0m \u001b[1;33m=\u001b[0m \u001b[0mxp\u001b[0m\u001b[1;33m.\u001b[0m\u001b[0mastype\u001b[0m\u001b[1;33m(\u001b[0m\u001b[0marray\u001b[0m\u001b[1;33m,\u001b[0m \u001b[0mdtype\u001b[0m\u001b[1;33m,\u001b[0m \u001b[0mcopy\u001b[0m\u001b[1;33m=\u001b[0m\u001b[1;32mFalse\u001b[0m\u001b[1;33m)\u001b[0m\u001b[1;33m\u001b[0m\u001b[1;33m\u001b[0m\u001b[0m\n\u001b[0;32m    878\u001b[0m                 \u001b[1;32melse\u001b[0m\u001b[1;33m:\u001b[0m\u001b[1;33m\u001b[0m\u001b[1;33m\u001b[0m\u001b[0m\n\u001b[1;32m--> 879\u001b[1;33m                     \u001b[0marray\u001b[0m \u001b[1;33m=\u001b[0m \u001b[0m_asarray_with_order\u001b[0m\u001b[1;33m(\u001b[0m\u001b[0marray\u001b[0m\u001b[1;33m,\u001b[0m \u001b[0morder\u001b[0m\u001b[1;33m=\u001b[0m\u001b[0morder\u001b[0m\u001b[1;33m,\u001b[0m \u001b[0mdtype\u001b[0m\u001b[1;33m=\u001b[0m\u001b[0mdtype\u001b[0m\u001b[1;33m,\u001b[0m \u001b[0mxp\u001b[0m\u001b[1;33m=\u001b[0m\u001b[0mxp\u001b[0m\u001b[1;33m)\u001b[0m\u001b[1;33m\u001b[0m\u001b[1;33m\u001b[0m\u001b[0m\n\u001b[0m\u001b[0;32m    880\u001b[0m             \u001b[1;32mexcept\u001b[0m \u001b[0mComplexWarning\u001b[0m \u001b[1;32mas\u001b[0m \u001b[0mcomplex_warning\u001b[0m\u001b[1;33m:\u001b[0m\u001b[1;33m\u001b[0m\u001b[1;33m\u001b[0m\u001b[0m\n\u001b[0;32m    881\u001b[0m                 raise ValueError(\n",
      "\u001b[1;32m~\\AppData\\Roaming\\Python\\Python39\\site-packages\\sklearn\\utils\\_array_api.py\u001b[0m in \u001b[0;36m_asarray_with_order\u001b[1;34m(array, dtype, order, copy, xp)\u001b[0m\n\u001b[0;32m    183\u001b[0m     \u001b[1;32mif\u001b[0m \u001b[0mxp\u001b[0m\u001b[1;33m.\u001b[0m\u001b[0m__name__\u001b[0m \u001b[1;32min\u001b[0m \u001b[1;33m{\u001b[0m\u001b[1;34m\"numpy\"\u001b[0m\u001b[1;33m,\u001b[0m \u001b[1;34m\"numpy.array_api\"\u001b[0m\u001b[1;33m}\u001b[0m\u001b[1;33m:\u001b[0m\u001b[1;33m\u001b[0m\u001b[1;33m\u001b[0m\u001b[0m\n\u001b[0;32m    184\u001b[0m         \u001b[1;31m# Use NumPy API to support order\u001b[0m\u001b[1;33m\u001b[0m\u001b[1;33m\u001b[0m\u001b[0m\n\u001b[1;32m--> 185\u001b[1;33m         \u001b[0marray\u001b[0m \u001b[1;33m=\u001b[0m \u001b[0mnumpy\u001b[0m\u001b[1;33m.\u001b[0m\u001b[0masarray\u001b[0m\u001b[1;33m(\u001b[0m\u001b[0marray\u001b[0m\u001b[1;33m,\u001b[0m \u001b[0morder\u001b[0m\u001b[1;33m=\u001b[0m\u001b[0morder\u001b[0m\u001b[1;33m,\u001b[0m \u001b[0mdtype\u001b[0m\u001b[1;33m=\u001b[0m\u001b[0mdtype\u001b[0m\u001b[1;33m)\u001b[0m\u001b[1;33m\u001b[0m\u001b[1;33m\u001b[0m\u001b[0m\n\u001b[0m\u001b[0;32m    186\u001b[0m         \u001b[1;32mreturn\u001b[0m \u001b[0mxp\u001b[0m\u001b[1;33m.\u001b[0m\u001b[0masarray\u001b[0m\u001b[1;33m(\u001b[0m\u001b[0marray\u001b[0m\u001b[1;33m,\u001b[0m \u001b[0mcopy\u001b[0m\u001b[1;33m=\u001b[0m\u001b[0mcopy\u001b[0m\u001b[1;33m)\u001b[0m\u001b[1;33m\u001b[0m\u001b[1;33m\u001b[0m\u001b[0m\n\u001b[0;32m    187\u001b[0m     \u001b[1;32melse\u001b[0m\u001b[1;33m:\u001b[0m\u001b[1;33m\u001b[0m\u001b[1;33m\u001b[0m\u001b[0m\n",
      "\u001b[1;32mC:\\Program Files\\ArcGIS\\Pro\\bin\\Python\\envs\\arcgispro-py3\\lib\\site-packages\\numpy\\core\\_asarray.py\u001b[0m in \u001b[0;36masarray\u001b[1;34m(a, dtype, order, like)\u001b[0m\n\u001b[0;32m    100\u001b[0m         \u001b[1;32mreturn\u001b[0m \u001b[0m_asarray_with_like\u001b[0m\u001b[1;33m(\u001b[0m\u001b[0ma\u001b[0m\u001b[1;33m,\u001b[0m \u001b[0mdtype\u001b[0m\u001b[1;33m=\u001b[0m\u001b[0mdtype\u001b[0m\u001b[1;33m,\u001b[0m \u001b[0morder\u001b[0m\u001b[1;33m=\u001b[0m\u001b[0morder\u001b[0m\u001b[1;33m,\u001b[0m \u001b[0mlike\u001b[0m\u001b[1;33m=\u001b[0m\u001b[0mlike\u001b[0m\u001b[1;33m)\u001b[0m\u001b[1;33m\u001b[0m\u001b[1;33m\u001b[0m\u001b[0m\n\u001b[0;32m    101\u001b[0m \u001b[1;33m\u001b[0m\u001b[0m\n\u001b[1;32m--> 102\u001b[1;33m     \u001b[1;32mreturn\u001b[0m \u001b[0marray\u001b[0m\u001b[1;33m(\u001b[0m\u001b[0ma\u001b[0m\u001b[1;33m,\u001b[0m \u001b[0mdtype\u001b[0m\u001b[1;33m,\u001b[0m \u001b[0mcopy\u001b[0m\u001b[1;33m=\u001b[0m\u001b[1;32mFalse\u001b[0m\u001b[1;33m,\u001b[0m \u001b[0morder\u001b[0m\u001b[1;33m=\u001b[0m\u001b[0morder\u001b[0m\u001b[1;33m)\u001b[0m\u001b[1;33m\u001b[0m\u001b[1;33m\u001b[0m\u001b[0m\n\u001b[0m\u001b[0;32m    103\u001b[0m \u001b[1;33m\u001b[0m\u001b[0m\n\u001b[0;32m    104\u001b[0m \u001b[1;33m\u001b[0m\u001b[0m\n",
      "\u001b[1;32mC:\\Program Files\\ArcGIS\\Pro\\bin\\Python\\envs\\arcgispro-py3\\lib\\site-packages\\pandas\\core\\generic.py\u001b[0m in \u001b[0;36m__array__\u001b[1;34m(self, dtype)\u001b[0m\n\u001b[0;32m   1991\u001b[0m \u001b[1;33m\u001b[0m\u001b[0m\n\u001b[0;32m   1992\u001b[0m     \u001b[1;32mdef\u001b[0m \u001b[0m__array__\u001b[0m\u001b[1;33m(\u001b[0m\u001b[0mself\u001b[0m\u001b[1;33m,\u001b[0m \u001b[0mdtype\u001b[0m\u001b[1;33m:\u001b[0m \u001b[0mNpDtype\u001b[0m \u001b[1;33m|\u001b[0m \u001b[1;32mNone\u001b[0m \u001b[1;33m=\u001b[0m \u001b[1;32mNone\u001b[0m\u001b[1;33m)\u001b[0m \u001b[1;33m->\u001b[0m \u001b[0mnp\u001b[0m\u001b[1;33m.\u001b[0m\u001b[0mndarray\u001b[0m\u001b[1;33m:\u001b[0m\u001b[1;33m\u001b[0m\u001b[1;33m\u001b[0m\u001b[0m\n\u001b[1;32m-> 1993\u001b[1;33m         \u001b[1;32mreturn\u001b[0m \u001b[0mnp\u001b[0m\u001b[1;33m.\u001b[0m\u001b[0masarray\u001b[0m\u001b[1;33m(\u001b[0m\u001b[0mself\u001b[0m\u001b[1;33m.\u001b[0m\u001b[0m_values\u001b[0m\u001b[1;33m,\u001b[0m \u001b[0mdtype\u001b[0m\u001b[1;33m=\u001b[0m\u001b[0mdtype\u001b[0m\u001b[1;33m)\u001b[0m\u001b[1;33m\u001b[0m\u001b[1;33m\u001b[0m\u001b[0m\n\u001b[0m\u001b[0;32m   1994\u001b[0m \u001b[1;33m\u001b[0m\u001b[0m\n\u001b[0;32m   1995\u001b[0m     def __array_wrap__(\n",
      "\u001b[1;32mC:\\Program Files\\ArcGIS\\Pro\\bin\\Python\\envs\\arcgispro-py3\\lib\\site-packages\\numpy\\core\\_asarray.py\u001b[0m in \u001b[0;36masarray\u001b[1;34m(a, dtype, order, like)\u001b[0m\n\u001b[0;32m    100\u001b[0m         \u001b[1;32mreturn\u001b[0m \u001b[0m_asarray_with_like\u001b[0m\u001b[1;33m(\u001b[0m\u001b[0ma\u001b[0m\u001b[1;33m,\u001b[0m \u001b[0mdtype\u001b[0m\u001b[1;33m=\u001b[0m\u001b[0mdtype\u001b[0m\u001b[1;33m,\u001b[0m \u001b[0morder\u001b[0m\u001b[1;33m=\u001b[0m\u001b[0morder\u001b[0m\u001b[1;33m,\u001b[0m \u001b[0mlike\u001b[0m\u001b[1;33m=\u001b[0m\u001b[0mlike\u001b[0m\u001b[1;33m)\u001b[0m\u001b[1;33m\u001b[0m\u001b[1;33m\u001b[0m\u001b[0m\n\u001b[0;32m    101\u001b[0m \u001b[1;33m\u001b[0m\u001b[0m\n\u001b[1;32m--> 102\u001b[1;33m     \u001b[1;32mreturn\u001b[0m \u001b[0marray\u001b[0m\u001b[1;33m(\u001b[0m\u001b[0ma\u001b[0m\u001b[1;33m,\u001b[0m \u001b[0mdtype\u001b[0m\u001b[1;33m,\u001b[0m \u001b[0mcopy\u001b[0m\u001b[1;33m=\u001b[0m\u001b[1;32mFalse\u001b[0m\u001b[1;33m,\u001b[0m \u001b[0morder\u001b[0m\u001b[1;33m=\u001b[0m\u001b[0morder\u001b[0m\u001b[1;33m)\u001b[0m\u001b[1;33m\u001b[0m\u001b[1;33m\u001b[0m\u001b[0m\n\u001b[0m\u001b[0;32m    103\u001b[0m \u001b[1;33m\u001b[0m\u001b[0m\n\u001b[0;32m    104\u001b[0m \u001b[1;33m\u001b[0m\u001b[0m\n",
      "\u001b[1;31mValueError\u001b[0m: could not convert string to float: 'Audi Q3 35 TDI Quattro Premium Plus'"
     ]
    }
   ],
   "source": [
    "linear_reg = LinearRegression()\n",
    "linear_reg.fit(x_train, y_train)"
   ]
  },
  {
   "cell_type": "code",
   "execution_count": 93,
   "id": "4ab508ef",
   "metadata": {},
   "outputs": [
    {
     "ename": "SyntaxError",
     "evalue": "unexpected EOF while parsing (<ipython-input-93-cae8cdbc18f8>, line 3)",
     "output_type": "error",
     "traceback": [
      "\u001b[1;36m  File \u001b[1;32m\"<ipython-input-93-cae8cdbc18f8>\"\u001b[1;36m, line \u001b[1;32m3\u001b[0m\n\u001b[1;33m    sns.heatmap(df.corr(), annot=True\u001b[0m\n\u001b[1;37m                                     ^\u001b[0m\n\u001b[1;31mSyntaxError\u001b[0m\u001b[1;31m:\u001b[0m unexpected EOF while parsing\n"
     ]
    }
   ],
   "source": [
    "plt.figure(dpi=200)\n",
    "df.drop(df[\"Price\"], axis=1, inplace = True)\n",
    "sns.heatmap(df.corr(), annot=True"
   ]
  },
  {
   "cell_type": "markdown",
   "id": "016758db",
   "metadata": {},
   "source": [
    "# how to drop the missing values"
   ]
  },
  {
   "cell_type": "code",
   "execution_count": 50,
   "id": "450f9244",
   "metadata": {},
   "outputs": [
    {
     "data": {
      "text/plain": [
       "S.No.                0\n",
       "Name                 0\n",
       "Location             0\n",
       "Year                 0\n",
       "Kilometers_Driven    0\n",
       "Fuel_Type            0\n",
       "Transmission         0\n",
       "Owner_Type           0\n",
       "Mileage              2\n",
       "Engine               0\n",
       "Power                0\n",
       "Seats                0\n",
       "New_Price            0\n",
       "Price                0\n",
       "New_Mileage          2\n",
       "dtype: int64"
      ]
     },
     "execution_count": 50,
     "metadata": {},
     "output_type": "execute_result"
    }
   ],
   "source": [
    "df.isnull().sum()"
   ]
  },
  {
   "cell_type": "markdown",
   "id": "d82571c6",
   "metadata": {},
   "source": [
    "### i will drop Mileage column since new_mileage came from it and then drop the missing vaues in New_milage"
   ]
  },
  {
   "cell_type": "code",
   "execution_count": 51,
   "id": "8621540e",
   "metadata": {},
   "outputs": [],
   "source": [
    "df = df.drop(['Mileage'], axis = 1)"
   ]
  },
  {
   "cell_type": "code",
   "execution_count": 55,
   "id": "f69954e3",
   "metadata": {},
   "outputs": [],
   "source": [
    "df.dropna(subset=['New_Mileage'],inplace=True )\n"
   ]
  },
  {
   "cell_type": "code",
   "execution_count": 56,
   "id": "534771fb",
   "metadata": {},
   "outputs": [
    {
     "data": {
      "text/plain": [
       "S.No.                0\n",
       "Name                 0\n",
       "Location             0\n",
       "Year                 0\n",
       "Kilometers_Driven    0\n",
       "Fuel_Type            0\n",
       "Transmission         0\n",
       "Owner_Type           0\n",
       "Engine               0\n",
       "Power                0\n",
       "Seats                0\n",
       "New_Price            0\n",
       "Price                0\n",
       "New_Mileage          0\n",
       "dtype: int64"
      ]
     },
     "execution_count": 56,
     "metadata": {},
     "output_type": "execute_result"
    }
   ],
   "source": [
    "df.isnull().sum()"
   ]
  },
  {
   "cell_type": "markdown",
   "id": "5e920f69",
   "metadata": {},
   "source": [
    "# it is at this point you can start building your model by splitting to features and target. scaling the data etc"
   ]
  },
  {
   "cell_type": "code",
   "execution_count": null,
   "id": "fa3e5809",
   "metadata": {},
   "outputs": [],
   "source": [
    "df.boxplot(figsize = (15,10), fontsize =15, rot = 30)\n",
    "plt.show()"
   ]
  },
  {
   "cell_type": "code",
   "execution_count": null,
   "id": "36be8c70",
   "metadata": {},
   "outputs": [],
   "source": []
  },
  {
   "cell_type": "code",
   "execution_count": null,
   "id": "bbac032d",
   "metadata": {},
   "outputs": [],
   "source": []
  },
  {
   "cell_type": "code",
   "execution_count": null,
   "id": "ecb52f19",
   "metadata": {},
   "outputs": [],
   "source": [
    "for i, val in enumerate(df[\"Price\"]):\n",
    "    try:\n",
    "        age = float(val)\n",
    "        df.at[i, \"Price\"] = age\n",
    "        \n",
    "    except Exception as error:\n",
    "        df.at[i, \"Price\"] = np.nan\n",
    "        print(\"Error\", error, \"on line\", i)"
   ]
  },
  {
   "cell_type": "code",
   "execution_count": null,
   "id": "5a6afc6f",
   "metadata": {},
   "outputs": [],
   "source": [
    "labelled_barplot(df, \"Transmission\", perc=True)"
   ]
  },
  {
   "cell_type": "code",
   "execution_count": null,
   "id": "76ee8991",
   "metadata": {},
   "outputs": [],
   "source": [
    "plt.figure(figsize=(15,7))\n",
    "sns.boxplot(y='Log_Price', x=\"Power_bhp\", data =df)\n",
    "plt.xticks(rotation=30)\n",
    "plt.show()"
   ]
  },
  {
   "cell_type": "code",
   "execution_count": null,
   "id": "f268436c",
   "metadata": {},
   "outputs": [],
   "source": [
    "df.drop('Price', axis=1, inplace=True)\n",
    "plt.figure(figsize=(15, 7))\n",
    "sns.heatmap(df.corr(), annot=True, vmin=1, fmt=\".2f\", cmap=\"cyan\")\n",
    "plt.show()"
   ]
  },
  {
   "cell_type": "code",
   "execution_count": null,
   "id": "e5eb923d",
   "metadata": {},
   "outputs": [],
   "source": [
    "def outlier_treatlower_clip = \n",
    "\n",
    "lower - 1.5 *iqr\n",
    "upper_clip = upper + 1.5 *iqr\n",
    "\n",
    "df[col] = np.clip(df[col], lower_clip, upper_clip)\n",
    "return df\n",
    "\n",
    "def treat_outliers_all(df, col_list):\n",
    "    \"\"\"\n",
    "    treat outlier in all numerical variables\n",
    "    col_list: list of numerical variables\n",
    "    df: data frame\n",
    "    \"\"\"\n",
    "    for c in col_list:\n",
    "        df = outlier_treat(df, c)\n",
    "    \n",
    "    return df    "
   ]
  },
  {
   "cell_type": "code",
   "execution_count": null,
   "id": "7a7a636f",
   "metadata": {},
   "outputs": [],
   "source": [
    "def treat_outliers_all(df, num_cols):\n",
    "    lower = df[col].quantile(0.25)\n",
    "    upper = df[col].quantile(0.75)\n",
    "    iqr = upper -lower\n",
    "    \n",
    "    lower_clip = lower - 1.5 + iqr\n",
    "    upper_clip = upper + 1.5 * iqr\n",
    "    \n",
    "    df[col] = np.clip(df[col], lower_clip, upper_clip)\n",
    "    return df\n",
    "    \n",
    "    \n",
    "def treat_outliers_all(df, col_list):\n",
    "    \"\"\"\n",
    "    treat outlier in all numerical variables\n",
    "    col_list: list of numerical variables\n",
    "    df: data frame\n",
    "    \"\"\"\n",
    "    for c in col_list:\n",
    "        df = outlier_treat(df, c)\n",
    "    \n",
    "    return df    \n",
    "    "
   ]
  },
  {
   "cell_type": "code",
   "execution_count": null,
   "id": "3403f13b",
   "metadata": {},
   "outputs": [],
   "source": [
    "df = treat_outliers_all(df, num_cols)\n",
    "df"
   ]
  },
  {
   "cell_type": "code",
   "execution_count": null,
   "id": "01b6a71e",
   "metadata": {},
   "outputs": [],
   "source": [
    "pip install mlxtend"
   ]
  },
  {
   "cell_type": "code",
   "execution_count": null,
   "id": "ccc520a5",
   "metadata": {},
   "outputs": [],
   "source": [
    "from mlxtend.feature_selection import SequentialFeatureSelector"
   ]
  },
  {
   "cell_type": "code",
   "execution_count": null,
   "id": "ccb77f00",
   "metadata": {},
   "outputs": [],
   "source": [
    "lin_reg4 = LinearRegression()\n",
    "\n",
    "sfs = SequentialFeatureSelector (estimator = lin_reg4, k_features = 10, n_jobs = -1, verbose = 2)\n",
    "\n",
    "sfs.fit(x_train_sc, y_train)"
   ]
  },
  {
   "cell_type": "code",
   "execution_count": null,
   "id": "e7028d7b",
   "metadata": {},
   "outputs": [],
   "source": []
  },
  {
   "cell_type": "code",
   "execution_count": null,
   "id": "1c26041d",
   "metadata": {},
   "outputs": [],
   "source": []
  },
  {
   "cell_type": "code",
   "execution_count": null,
   "id": "2a6963ff",
   "metadata": {},
   "outputs": [],
   "source": [
    "x = df.drop(['Price', ])"
   ]
  },
  {
   "cell_type": "code",
   "execution_count": null,
   "id": "75b48715",
   "metadata": {},
   "outputs": [],
   "source": []
  },
  {
   "cell_type": "code",
   "execution_count": null,
   "id": "ef33b3f2",
   "metadata": {},
   "outputs": [],
   "source": []
  },
  {
   "cell_type": "code",
   "execution_count": null,
   "id": "04100a3e",
   "metadata": {},
   "outputs": [],
   "source": []
  },
  {
   "cell_type": "code",
   "execution_count": null,
   "id": "9a33491a",
   "metadata": {},
   "outputs": [],
   "source": [
    "from sklearn.ensemble import ExtraTreeRegressor, BaggingRegressor, RandomForestRegressor"
   ]
  },
  {
   "cell_type": "code",
   "execution_count": null,
   "id": "24a897b4",
   "metadata": {},
   "outputs": [],
   "source": []
  },
  {
   "cell_type": "code",
   "execution_count": null,
   "id": "f8fa9dfc",
   "metadata": {},
   "outputs": [],
   "source": [
    "X"
   ]
  },
  {
   "cell_type": "code",
   "execution_count": null,
   "id": "c37dd580",
   "metadata": {},
   "outputs": [],
   "source": [
    "pd.get_dummies(df)"
   ]
  },
  {
   "cell_type": "code",
   "execution_count": null,
   "id": "7602eacb",
   "metadata": {},
   "outputs": [],
   "source": []
  },
  {
   "cell_type": "code",
   "execution_count": null,
   "id": "d1654a6b",
   "metadata": {},
   "outputs": [],
   "source": [
    "df[\"Engine_CC\"] = Power_bhp\n",
    "df[\"Engine_CC\"]"
   ]
  },
  {
   "cell_type": "code",
   "execution_count": null,
   "id": "99b5cd76",
   "metadata": {},
   "outputs": [],
   "source": []
  },
  {
   "cell_type": "code",
   "execution_count": null,
   "id": "118611ce",
   "metadata": {},
   "outputs": [],
   "source": []
  },
  {
   "cell_type": "code",
   "execution_count": null,
   "id": "ed144037",
   "metadata": {},
   "outputs": [],
   "source": []
  },
  {
   "cell_type": "code",
   "execution_count": null,
   "id": "a5e5914c",
   "metadata": {},
   "outputs": [],
   "source": [
    "str(df['Mileage'].fillna(str(df['Mileage'].median(), inplace = True))).strip(\"\\\"\")"
   ]
  }
 ],
 "metadata": {
  "kernelspec": {
   "display_name": "Python 3 (ipykernel)",
   "language": "python",
   "name": "python3"
  },
  "language_info": {
   "codemirror_mode": {
    "name": "ipython",
    "version": 3
   },
   "file_extension": ".py",
   "mimetype": "text/x-python",
   "name": "python",
   "nbconvert_exporter": "python",
   "pygments_lexer": "ipython3",
   "version": "3.9.12"
  }
 },
 "nbformat": 4,
 "nbformat_minor": 5
}
